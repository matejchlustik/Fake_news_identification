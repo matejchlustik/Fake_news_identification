{
 "cells": [
  {
   "cell_type": "code",
   "execution_count": null,
   "metadata": {},
   "outputs": [],
   "source": [
    "def load_glove_embeddings(glove_file_path):\n",
    "    \"\"\"\n",
    "    Loads GloVe embeddings into a dictionary with robust error handling.\n",
    "    \"\"\"\n",
    "    embeddings = {}\n",
    "    with open(glove_file_path, \"r\", encoding=\"utf-8\") as f:\n",
    "        for line_number, line in enumerate(f, start=1):\n",
    "            parts = line.strip().split()\n",
    "            word = parts[0]\n",
    "\n",
    "            try:\n",
    "                vector = list(map(float, parts[1:]))\n",
    "                embeddings[word] = vector\n",
    "            except ValueError as e:\n",
    "                print(f\"Error parsing line {line_number}: {line.strip()} - {e}\")\n",
    "\n",
    "    return embeddings\n",
    "\n",
    "\n",
    "glove_file_path = \"glove.840B.300d.txt\"\n",
    "glove_embeddings = load_glove_embeddings(glove_file_path)"
   ]
  },
  {
   "cell_type": "code",
   "execution_count": 2,
   "metadata": {},
   "outputs": [],
   "source": [
    "import numpy as np\n",
    "import pandas as pd\n",
    "import ast"
   ]
  },
  {
   "cell_type": "code",
   "execution_count": 3,
   "metadata": {},
   "outputs": [],
   "source": [
    "df = pd.read_csv(\"Word_Tokenized_TRAINING_DATASET.csv\")\n",
    "df[\"tokenized_text\"] = df[\"tokenized_text\"].apply(ast.literal_eval)"
   ]
  },
  {
   "cell_type": "code",
   "execution_count": 4,
   "metadata": {},
   "outputs": [],
   "source": [
    "def get_article_embedding(tokenized_text, embedding_dict):\n",
    "    word_embeddings = []\n",
    "    for sentence in tokenized_text:\n",
    "        for word in sentence:\n",
    "            if word in embedding_dict:\n",
    "                word_embeddings.append(embedding_dict[word])\n",
    "\n",
    "    return np.mean(word_embeddings, axis=0)"
   ]
  },
  {
   "cell_type": "code",
   "execution_count": 5,
   "metadata": {},
   "outputs": [
    {
     "name": "stderr",
     "output_type": "stream",
     "text": [
      "c:\\Users\\matej\\SKOLA\\Diplomovka\\Code\\EmbeddingModels\\.venv\\Lib\\site-packages\\numpy\\core\\fromnumeric.py:3504: RuntimeWarning: Mean of empty slice.\n",
      "  return _methods._mean(a, axis=axis, dtype=dtype,\n",
      "c:\\Users\\matej\\SKOLA\\Diplomovka\\Code\\EmbeddingModels\\.venv\\Lib\\site-packages\\numpy\\core\\_methods.py:129: RuntimeWarning: invalid value encountered in scalar divide\n",
      "  ret = ret.dtype.type(ret / rcount)\n"
     ]
    }
   ],
   "source": [
    "df[\"article_embedding\"] = df[\"tokenized_text\"].apply(\n",
    "    get_article_embedding, embedding_dict=glove_embeddings\n",
    ")"
   ]
  },
  {
   "cell_type": "code",
   "execution_count": 6,
   "metadata": {},
   "outputs": [],
   "source": [
    "df = df.dropna()"
   ]
  },
  {
   "cell_type": "code",
   "execution_count": 7,
   "metadata": {},
   "outputs": [
    {
     "data": {
      "text/html": [
       "<div>\n",
       "<style scoped>\n",
       "    .dataframe tbody tr th:only-of-type {\n",
       "        vertical-align: middle;\n",
       "    }\n",
       "\n",
       "    .dataframe tbody tr th {\n",
       "        vertical-align: top;\n",
       "    }\n",
       "\n",
       "    .dataframe thead th {\n",
       "        text-align: right;\n",
       "    }\n",
       "</style>\n",
       "<table border=\"1\" class=\"dataframe\">\n",
       "  <thead>\n",
       "    <tr style=\"text-align: right;\">\n",
       "      <th></th>\n",
       "      <th>label</th>\n",
       "      <th>article_embedding</th>\n",
       "    </tr>\n",
       "  </thead>\n",
       "  <tbody>\n",
       "    <tr>\n",
       "      <th>0</th>\n",
       "      <td>0</td>\n",
       "      <td>[-0.022733239806414653, 0.1039745327147765, -0...</td>\n",
       "    </tr>\n",
       "    <tr>\n",
       "      <th>1</th>\n",
       "      <td>1</td>\n",
       "      <td>[-0.00011748223086896195, 0.12993715434500663,...</td>\n",
       "    </tr>\n",
       "    <tr>\n",
       "      <th>2</th>\n",
       "      <td>0</td>\n",
       "      <td>[-0.08255255649572685, 0.10741406329772099, -0...</td>\n",
       "    </tr>\n",
       "    <tr>\n",
       "      <th>3</th>\n",
       "      <td>0</td>\n",
       "      <td>[-0.03371140306748469, 0.12805397914110428, -0...</td>\n",
       "    </tr>\n",
       "    <tr>\n",
       "      <th>4</th>\n",
       "      <td>1</td>\n",
       "      <td>[-0.03214481517857146, 0.16008699241071428, -0...</td>\n",
       "    </tr>\n",
       "    <tr>\n",
       "      <th>...</th>\n",
       "      <td>...</td>\n",
       "      <td>...</td>\n",
       "    </tr>\n",
       "    <tr>\n",
       "      <th>69293</th>\n",
       "      <td>1</td>\n",
       "      <td>[-0.19786133333333333, 0.17139316666666668, -0...</td>\n",
       "    </tr>\n",
       "    <tr>\n",
       "      <th>69294</th>\n",
       "      <td>1</td>\n",
       "      <td>[0.08409574117647059, 0.008679176470588237, 0....</td>\n",
       "    </tr>\n",
       "    <tr>\n",
       "      <th>69295</th>\n",
       "      <td>1</td>\n",
       "      <td>[-0.12152158064516128, 0.17065751612903227, 0....</td>\n",
       "    </tr>\n",
       "    <tr>\n",
       "      <th>69296</th>\n",
       "      <td>0</td>\n",
       "      <td>[0.13795325, 0.011615249999999994, 0.056750666...</td>\n",
       "    </tr>\n",
       "    <tr>\n",
       "      <th>69297</th>\n",
       "      <td>0</td>\n",
       "      <td>[-0.05888052941176471, 0.20472616176470582, -0...</td>\n",
       "    </tr>\n",
       "  </tbody>\n",
       "</table>\n",
       "<p>69296 rows × 2 columns</p>\n",
       "</div>"
      ],
      "text/plain": [
       "       label                                  article_embedding\n",
       "0          0  [-0.022733239806414653, 0.1039745327147765, -0...\n",
       "1          1  [-0.00011748223086896195, 0.12993715434500663,...\n",
       "2          0  [-0.08255255649572685, 0.10741406329772099, -0...\n",
       "3          0  [-0.03371140306748469, 0.12805397914110428, -0...\n",
       "4          1  [-0.03214481517857146, 0.16008699241071428, -0...\n",
       "...      ...                                                ...\n",
       "69293      1  [-0.19786133333333333, 0.17139316666666668, -0...\n",
       "69294      1  [0.08409574117647059, 0.008679176470588237, 0....\n",
       "69295      1  [-0.12152158064516128, 0.17065751612903227, 0....\n",
       "69296      0  [0.13795325, 0.011615249999999994, 0.056750666...\n",
       "69297      0  [-0.05888052941176471, 0.20472616176470582, -0...\n",
       "\n",
       "[69296 rows x 2 columns]"
      ]
     },
     "execution_count": 7,
     "metadata": {},
     "output_type": "execute_result"
    }
   ],
   "source": [
    "df = df[[\"label\", \"article_embedding\"]]\n",
    "df"
   ]
  },
  {
   "cell_type": "code",
   "execution_count": 8,
   "metadata": {},
   "outputs": [],
   "source": [
    "df[\"article_embedding\"] = df[\"article_embedding\"].apply(\n",
    "    lambda x: x.tolist() if isinstance(x, np.ndarray) else x\n",
    ")"
   ]
  },
  {
   "cell_type": "code",
   "execution_count": 9,
   "metadata": {},
   "outputs": [],
   "source": [
    "df.to_csv(\n",
    "    \"embedded_datasets/GloVe/GloVe_Embedded_Dataset.csv\",\n",
    "    encoding=\"utf-8\",\n",
    "    index=False,\n",
    ")"
   ]
  },
  {
   "cell_type": "markdown",
   "metadata": {},
   "source": [
    "# Generalization dataset\n"
   ]
  },
  {
   "cell_type": "code",
   "execution_count": 11,
   "metadata": {},
   "outputs": [],
   "source": [
    "df = pd.read_csv(\"Word_Tokenized_GENERALIZATION_DATASET.csv\")\n",
    "df[\"tokenized_text\"] = df[\"tokenized_text\"].apply(ast.literal_eval)"
   ]
  },
  {
   "cell_type": "code",
   "execution_count": 12,
   "metadata": {},
   "outputs": [
    {
     "name": "stderr",
     "output_type": "stream",
     "text": [
      "c:\\Users\\matej\\SKOLA\\Diplomovka\\Code\\EmbeddingModels\\.venv\\Lib\\site-packages\\numpy\\core\\fromnumeric.py:3504: RuntimeWarning: Mean of empty slice.\n",
      "  return _methods._mean(a, axis=axis, dtype=dtype,\n",
      "c:\\Users\\matej\\SKOLA\\Diplomovka\\Code\\EmbeddingModels\\.venv\\Lib\\site-packages\\numpy\\core\\_methods.py:129: RuntimeWarning: invalid value encountered in scalar divide\n",
      "  ret = ret.dtype.type(ret / rcount)\n"
     ]
    }
   ],
   "source": [
    "df[\"article_embedding\"] = df[\"tokenized_text\"].apply(\n",
    "    get_article_embedding, embedding_dict=glove_embeddings\n",
    ")"
   ]
  },
  {
   "cell_type": "code",
   "execution_count": 13,
   "metadata": {},
   "outputs": [],
   "source": [
    "df = df.dropna()"
   ]
  },
  {
   "cell_type": "code",
   "execution_count": 15,
   "metadata": {},
   "outputs": [
    {
     "data": {
      "text/html": [
       "<div>\n",
       "<style scoped>\n",
       "    .dataframe tbody tr th:only-of-type {\n",
       "        vertical-align: middle;\n",
       "    }\n",
       "\n",
       "    .dataframe tbody tr th {\n",
       "        vertical-align: top;\n",
       "    }\n",
       "\n",
       "    .dataframe thead th {\n",
       "        text-align: right;\n",
       "    }\n",
       "</style>\n",
       "<table border=\"1\" class=\"dataframe\">\n",
       "  <thead>\n",
       "    <tr style=\"text-align: right;\">\n",
       "      <th></th>\n",
       "      <th>label</th>\n",
       "      <th>article_embedding</th>\n",
       "    </tr>\n",
       "  </thead>\n",
       "  <tbody>\n",
       "    <tr>\n",
       "      <th>0</th>\n",
       "      <td>0</td>\n",
       "      <td>[-0.053752294114244516, 0.07634543051337686, -...</td>\n",
       "    </tr>\n",
       "    <tr>\n",
       "      <th>1</th>\n",
       "      <td>0</td>\n",
       "      <td>[-0.02040734840579709, 0.13278928281573504, -0...</td>\n",
       "    </tr>\n",
       "    <tr>\n",
       "      <th>2</th>\n",
       "      <td>1</td>\n",
       "      <td>[0.008755360566448779, 0.16197980239651436, -0...</td>\n",
       "    </tr>\n",
       "    <tr>\n",
       "      <th>3</th>\n",
       "      <td>0</td>\n",
       "      <td>[-0.04732918329670325, 0.14267663296703312, 0....</td>\n",
       "    </tr>\n",
       "    <tr>\n",
       "      <th>4</th>\n",
       "      <td>1</td>\n",
       "      <td>[-0.010228732398921843, 0.12861340997304568, -...</td>\n",
       "    </tr>\n",
       "    <tr>\n",
       "      <th>...</th>\n",
       "      <td>...</td>\n",
       "      <td>...</td>\n",
       "    </tr>\n",
       "    <tr>\n",
       "      <th>5985</th>\n",
       "      <td>1</td>\n",
       "      <td>[-0.03298530886052995, 0.09652802845188284, -0...</td>\n",
       "    </tr>\n",
       "    <tr>\n",
       "      <th>5986</th>\n",
       "      <td>0</td>\n",
       "      <td>[-0.05746439514249245, 0.06366235355593386, -0...</td>\n",
       "    </tr>\n",
       "    <tr>\n",
       "      <th>5987</th>\n",
       "      <td>0</td>\n",
       "      <td>[-0.04954178220742176, 0.06829223741769763, -0...</td>\n",
       "    </tr>\n",
       "    <tr>\n",
       "      <th>5988</th>\n",
       "      <td>1</td>\n",
       "      <td>[-0.03130578169406023, 0.11930146348250588, 0....</td>\n",
       "    </tr>\n",
       "    <tr>\n",
       "      <th>5989</th>\n",
       "      <td>1</td>\n",
       "      <td>[-0.042446327328556806, 0.153322475230297, -0....</td>\n",
       "    </tr>\n",
       "  </tbody>\n",
       "</table>\n",
       "<p>5989 rows × 2 columns</p>\n",
       "</div>"
      ],
      "text/plain": [
       "      label                                  article_embedding\n",
       "0         0  [-0.053752294114244516, 0.07634543051337686, -...\n",
       "1         0  [-0.02040734840579709, 0.13278928281573504, -0...\n",
       "2         1  [0.008755360566448779, 0.16197980239651436, -0...\n",
       "3         0  [-0.04732918329670325, 0.14267663296703312, 0....\n",
       "4         1  [-0.010228732398921843, 0.12861340997304568, -...\n",
       "...     ...                                                ...\n",
       "5985      1  [-0.03298530886052995, 0.09652802845188284, -0...\n",
       "5986      0  [-0.05746439514249245, 0.06366235355593386, -0...\n",
       "5987      0  [-0.04954178220742176, 0.06829223741769763, -0...\n",
       "5988      1  [-0.03130578169406023, 0.11930146348250588, 0....\n",
       "5989      1  [-0.042446327328556806, 0.153322475230297, -0....\n",
       "\n",
       "[5989 rows x 2 columns]"
      ]
     },
     "execution_count": 15,
     "metadata": {},
     "output_type": "execute_result"
    }
   ],
   "source": [
    "df = df[[\"label\", \"article_embedding\"]]\n",
    "df"
   ]
  },
  {
   "cell_type": "code",
   "execution_count": 16,
   "metadata": {},
   "outputs": [],
   "source": [
    "df[\"article_embedding\"] = df[\"article_embedding\"].apply(\n",
    "    lambda x: x.tolist() if isinstance(x, np.ndarray) else x\n",
    ")"
   ]
  },
  {
   "cell_type": "code",
   "execution_count": 17,
   "metadata": {},
   "outputs": [],
   "source": [
    "df.to_csv(\n",
    "    \"embedded_datasets/GloVe/GloVe_Embedded_Generalization_Dataset.csv\",\n",
    "    encoding=\"utf-8\",\n",
    "    index=False,\n",
    ")"
   ]
  },
  {
   "cell_type": "code",
   "execution_count": null,
   "metadata": {},
   "outputs": [],
   "source": []
  }
 ],
 "metadata": {
  "kernelspec": {
   "display_name": ".venv",
   "language": "python",
   "name": "python3"
  },
  "language_info": {
   "codemirror_mode": {
    "name": "ipython",
    "version": 3
   },
   "file_extension": ".py",
   "mimetype": "text/x-python",
   "name": "python",
   "nbconvert_exporter": "python",
   "pygments_lexer": "ipython3",
   "version": "3.12.3"
  }
 },
 "nbformat": 4,
 "nbformat_minor": 2
}

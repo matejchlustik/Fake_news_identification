{
 "cells": [
  {
   "cell_type": "code",
   "execution_count": 1,
   "metadata": {},
   "outputs": [],
   "source": [
    "import numpy as np\n",
    "import pandas as pd\n",
    "import ast"
   ]
  },
  {
   "cell_type": "code",
   "execution_count": 2,
   "metadata": {},
   "outputs": [],
   "source": [
    "df = pd.read_csv(\"embedded_datasets/FastText/FastText_Embedded_Dataset.csv\")\n",
    "df[\"article_embedding\"] = df[\"article_embedding\"].apply(ast.literal_eval)\n",
    "df = df[[\"article_embedding\", \"label\"]]"
   ]
  },
  {
   "cell_type": "code",
   "execution_count": 3,
   "metadata": {},
   "outputs": [],
   "source": [
    "from sklearn.model_selection import train_test_split\n",
    "from sklearn.metrics import classification_report, confusion_matrix"
   ]
  },
  {
   "cell_type": "markdown",
   "metadata": {},
   "source": [
    "# Random Forest\n"
   ]
  },
  {
   "cell_type": "code",
   "execution_count": 4,
   "metadata": {},
   "outputs": [],
   "source": [
    "from sklearn.ensemble import RandomForestClassifier"
   ]
  },
  {
   "cell_type": "code",
   "execution_count": null,
   "metadata": {},
   "outputs": [],
   "source": [
    "X = np.array(df[\"article_embedding\"].tolist())\n",
    "y = df[\"label\"]\n",
    "\n",
    "\n",
    "X_train, X_test, y_train, y_test = train_test_split(\n",
    "    X, y, test_size=0.2, random_state=42\n",
    ")"
   ]
  },
  {
   "cell_type": "code",
   "execution_count": null,
   "metadata": {},
   "outputs": [
    {
     "name": "stdout",
     "output_type": "stream",
     "text": [
      "Best Parameters: {'bootstrap': False, 'criterion': 'entropy', 'max_depth': 15, 'max_features': 'sqrt', 'min_samples_leaf': 1, 'min_samples_split': 7, 'n_estimators': 690}\n",
      "Best Cross-Validated Accuracy: 0.8657731215905814\n"
     ]
    }
   ],
   "source": [
    "from sklearn.model_selection import RandomizedSearchCV\n",
    "from scipy.stats import randint\n",
    "\n",
    "param_distributions = {\n",
    "    \"n_estimators\": randint(300, 700),\n",
    "    \"max_depth\": randint(5, 20),\n",
    "    \"min_samples_split\": randint(2, 20),\n",
    "    \"min_samples_leaf\": randint(1, 20),\n",
    "    \"max_features\": [\"sqrt\", \"log2\"],\n",
    "    \"bootstrap\": [True, False],\n",
    "    \"criterion\": [\"gini\", \"entropy\", \"log_loss\"],\n",
    "}\n",
    "\n",
    "random_search_rf = RandomizedSearchCV(\n",
    "    estimator=RandomForestClassifier(),\n",
    "    param_distributions=param_distributions,\n",
    "    n_iter=50,\n",
    "    cv=3,\n",
    "    scoring=\"accuracy\",\n",
    "    n_jobs=4,\n",
    ")\n",
    "\n",
    "random_search_rf.fit(X_train, y_train)\n",
    "\n",
    "print(\"Best Parameters:\", random_search_rf.best_params_)\n",
    "print(\"Best Cross-Validated Accuracy:\", random_search_rf.best_score_)\n",
    "\n",
    "best_rf = random_search_rf.best_estimator_"
   ]
  },
  {
   "cell_type": "code",
   "execution_count": 7,
   "metadata": {},
   "outputs": [
    {
     "name": "stdout",
     "output_type": "stream",
     "text": [
      "Evaluating based on test split\n",
      "              precision    recall  f1-score   support\n",
      "\n",
      "           0       0.89      0.81      0.84      6169\n",
      "           1       0.86      0.92      0.89      7691\n",
      "\n",
      "    accuracy                           0.87     13860\n",
      "   macro avg       0.87      0.86      0.86     13860\n",
      "weighted avg       0.87      0.87      0.87     13860\n",
      "\n",
      "[[4974 1195]\n",
      " [ 637 7054]]\n"
     ]
    }
   ],
   "source": [
    "print(\"Evaluating based on test split\")\n",
    "y_pred = best_rf.predict(X_test)\n",
    "print(classification_report(y_test, y_pred))\n",
    "print(confusion_matrix(y_test, y_pred))"
   ]
  },
  {
   "cell_type": "code",
   "execution_count": 8,
   "metadata": {},
   "outputs": [
    {
     "name": "stdout",
     "output_type": "stream",
     "text": [
      "Model saved successfully!\n"
     ]
    }
   ],
   "source": [
    "import joblib\n",
    "\n",
    "# Save the model to a file\n",
    "joblib.dump(best_rf, \"FastTextModels/random_forest_model2.joblib\")\n",
    "print(\"Model saved successfully!\")"
   ]
  },
  {
   "cell_type": "markdown",
   "metadata": {},
   "source": [
    "# XGBoost\n"
   ]
  },
  {
   "cell_type": "code",
   "execution_count": 4,
   "metadata": {},
   "outputs": [],
   "source": [
    "from xgboost import XGBClassifier\n",
    "import xgboost as xgb"
   ]
  },
  {
   "cell_type": "code",
   "execution_count": null,
   "metadata": {},
   "outputs": [],
   "source": [
    "X = np.array(df[\"article_embedding\"].tolist())\n",
    "y = df[\"label\"]\n",
    "\n",
    "\n",
    "X_train, X_test, y_train, y_test = train_test_split(\n",
    "    X, y, test_size=0.2, random_state=42\n",
    ")"
   ]
  },
  {
   "cell_type": "code",
   "execution_count": null,
   "metadata": {},
   "outputs": [
    {
     "name": "stdout",
     "output_type": "stream",
     "text": [
      "Fitting 3 folds for each of 648 candidates, totalling 1944 fits\n",
      "Best Parameters: {'colsample_bytree': 0.8, 'gamma': 0.1, 'learning_rate': 0.1, 'max_depth': 5, 'min_child_weight': 3, 'n_estimators': 500, 'subsample': 0.8}\n",
      "Best Log Loss Score: 0.22503331308759436\n"
     ]
    }
   ],
   "source": [
    "import numpy as np\n",
    "import xgboost as xgb\n",
    "from sklearn.model_selection import GridSearchCV\n",
    "from sklearn.datasets import make_classification\n",
    "from sklearn.model_selection import train_test_split\n",
    "\n",
    "model = xgb.XGBClassifier(\n",
    "    device=\"cuda\",\n",
    "    objective=\"binary:logistic\",\n",
    "    eval_metric=\"logloss\",\n",
    ")\n",
    "\n",
    "param_grid = {\n",
    "    \"max_depth\": [3, 5, 7],\n",
    "    \"learning_rate\": [0.01, 0.1, 0.2],\n",
    "    \"n_estimators\": [300, 500, 700],\n",
    "    \"subsample\": [0.8, 0.9],\n",
    "    \"colsample_bytree\": [0.8, 0.9],\n",
    "    \"gamma\": [0, 0.1],\n",
    "    \"min_child_weight\": [1, 3, 5],\n",
    "}\n",
    "\n",
    "grid_search = GridSearchCV(\n",
    "    estimator=model,\n",
    "    param_grid=param_grid,\n",
    "    scoring=\"neg_log_loss\",\n",
    "    cv=3,\n",
    "    verbose=2,\n",
    "    n_jobs=3,\n",
    ")\n",
    "\n",
    "grid_search.fit(X_train, y_train)\n",
    "\n",
    "best_model = grid_search.best_estimator_\n",
    "best_params = grid_search.best_params_\n",
    "best_score = grid_search.best_score_\n",
    "\n",
    "print(\"Best Parameters:\", best_params)\n",
    "print(\"Best Log Loss Score:\", -best_score)"
   ]
  },
  {
   "cell_type": "code",
   "execution_count": 8,
   "metadata": {},
   "outputs": [
    {
     "name": "stdout",
     "output_type": "stream",
     "text": [
      "              precision    recall  f1-score   support\n",
      "\n",
      "           0       0.90      0.87      0.88      6169\n",
      "           1       0.90      0.92      0.91      7691\n",
      "\n",
      "    accuracy                           0.90     13860\n",
      "   macro avg       0.90      0.89      0.90     13860\n",
      "weighted avg       0.90      0.90      0.90     13860\n",
      "\n",
      "[[5358  811]\n",
      " [ 619 7072]]\n"
     ]
    },
    {
     "name": "stderr",
     "output_type": "stream",
     "text": [
      "c:\\Users\\matej\\SKOLA\\Diplomovka\\Code\\EmbeddingModels\\.venv\\Lib\\site-packages\\xgboost\\core.py:158: UserWarning: [11:43:41] WARNING: C:\\buildkite-agent\\builds\\buildkite-windows-cpu-autoscaling-group-i-0ed59c031377d09b8-1\\xgboost\\xgboost-ci-windows\\src\\common\\error_msg.cc:58: Falling back to prediction using DMatrix due to mismatched devices. This might lead to higher memory usage and slower performance. XGBoost is running on: cuda:0, while the input data is on: cpu.\n",
      "Potential solutions:\n",
      "- Use a data structure that matches the device ordinal in the booster.\n",
      "- Set the device for booster before call to inplace_predict.\n",
      "\n",
      "This warning will only be shown once.\n",
      "\n",
      "  warnings.warn(smsg, UserWarning)\n"
     ]
    }
   ],
   "source": [
    "from sklearn.metrics import classification_report, confusion_matrix\n",
    "\n",
    "y_pred = best_model.predict(X_test)\n",
    "print(classification_report(y_test, y_pred))\n",
    "print(confusion_matrix(y_test, y_pred))"
   ]
  },
  {
   "cell_type": "code",
   "execution_count": 18,
   "metadata": {},
   "outputs": [
    {
     "name": "stdout",
     "output_type": "stream",
     "text": [
      "Model saved successfully!\n"
     ]
    }
   ],
   "source": [
    "import joblib\n",
    "\n",
    "# Save the model to a file\n",
    "joblib.dump(best_model, \"FastTextModels/xgboost_model.joblib\")\n",
    "print(\"Model saved successfully!\")"
   ]
  },
  {
   "cell_type": "markdown",
   "metadata": {},
   "source": [
    "# SVM\n"
   ]
  },
  {
   "cell_type": "code",
   "execution_count": 4,
   "metadata": {},
   "outputs": [],
   "source": [
    "import pandas as pd\n",
    "import ast\n",
    "import numpy as np\n",
    "from sklearn.model_selection import GridSearchCV\n",
    "from sklearn.model_selection import train_test_split\n",
    "from sklearn.svm import SVC\n",
    "from sklearn.datasets import make_classification"
   ]
  },
  {
   "cell_type": "code",
   "execution_count": null,
   "metadata": {},
   "outputs": [],
   "source": [
    "X = np.array(df[\"article_embedding\"].tolist())\n",
    "y = df[\"label\"]\n",
    "\n",
    "X_train, X_test, y_train, y_test = train_test_split(\n",
    "    X, y, test_size=0.2, random_state=42\n",
    ")"
   ]
  },
  {
   "cell_type": "code",
   "execution_count": null,
   "metadata": {},
   "outputs": [
    {
     "name": "stdout",
     "output_type": "stream",
     "text": [
      "Fitting 3 folds for each of 18 candidates, totalling 54 fits\n",
      "Best Parameters: {'C': 10, 'gamma': 'scale', 'kernel': 'rbf'}\n",
      "Best Accuracy: 0.8915506383337704\n",
      "Test Accuracy: 0.8931457431457431\n"
     ]
    }
   ],
   "source": [
    "svm_model = SVC()\n",
    "\n",
    "\n",
    "param_grid = {\n",
    "    \"C\": [0.1, 1, 10],\n",
    "    \"kernel\": [\"linear\", \"rbf\"],\n",
    "    \"gamma\": [\"scale\", \"auto\", 0.1],\n",
    "}\n",
    "\n",
    "\n",
    "grid_search = GridSearchCV(\n",
    "    estimator=svm_model,\n",
    "    param_grid=param_grid,\n",
    "    scoring=\"accuracy\",\n",
    "    cv=3,\n",
    "    verbose=2,\n",
    "    n_jobs=4,\n",
    ")\n",
    "\n",
    "grid_search.fit(X_train, y_train)\n",
    "\n",
    "best_model = grid_search.best_estimator_\n",
    "best_params = grid_search.best_params_\n",
    "best_score = grid_search.best_score_\n",
    "\n",
    "print(\"Best Parameters:\", best_params)\n",
    "print(\"Best Accuracy:\", best_score)\n",
    "\n",
    "test_accuracy = best_model.score(X_test, y_test)\n",
    "print(\"Test Accuracy:\", test_accuracy)"
   ]
  },
  {
   "cell_type": "code",
   "execution_count": 7,
   "metadata": {},
   "outputs": [
    {
     "name": "stdout",
     "output_type": "stream",
     "text": [
      "              precision    recall  f1-score   support\n",
      "\n",
      "           0       0.90      0.86      0.88      6169\n",
      "           1       0.89      0.92      0.91      7691\n",
      "\n",
      "    accuracy                           0.89     13860\n",
      "   macro avg       0.89      0.89      0.89     13860\n",
      "weighted avg       0.89      0.89      0.89     13860\n",
      "\n",
      "[[5293  876]\n",
      " [ 605 7086]]\n"
     ]
    }
   ],
   "source": [
    "from sklearn.metrics import classification_report, confusion_matrix\n",
    "\n",
    "y_pred = best_model.predict(X_test)\n",
    "print(classification_report(y_test, y_pred))\n",
    "print(confusion_matrix(y_test, y_pred))"
   ]
  },
  {
   "cell_type": "code",
   "execution_count": 9,
   "metadata": {},
   "outputs": [
    {
     "name": "stdout",
     "output_type": "stream",
     "text": [
      "Model saved successfully!\n"
     ]
    }
   ],
   "source": [
    "import joblib\n",
    "\n",
    "# Save the model to a file\n",
    "joblib.dump(best_model, \"FastTextModels/svm_model.joblib\")\n",
    "print(\"Model saved successfully!\")"
   ]
  },
  {
   "cell_type": "markdown",
   "metadata": {},
   "source": [
    "# Generalization\n"
   ]
  },
  {
   "cell_type": "code",
   "execution_count": 9,
   "metadata": {},
   "outputs": [],
   "source": [
    "df_generalization = pd.read_csv(\n",
    "    \"embedded_datasets/FastText/FastText_Embedded_Generalization_Dataset.csv\"\n",
    ")"
   ]
  },
  {
   "cell_type": "code",
   "execution_count": 10,
   "metadata": {},
   "outputs": [],
   "source": [
    "df_generalization[\"article_embedding\"] = df_generalization[\"article_embedding\"].apply(\n",
    "    ast.literal_eval\n",
    ")"
   ]
  },
  {
   "cell_type": "code",
   "execution_count": null,
   "metadata": {},
   "outputs": [],
   "source": [
    "X = np.array(df_generalization[\"article_embedding\"].tolist())\n",
    "y = df_generalization[\"label\"]"
   ]
  },
  {
   "cell_type": "code",
   "execution_count": 14,
   "metadata": {},
   "outputs": [],
   "source": [
    "import joblib\n",
    "\n",
    "# Load the model from the file\n",
    "model = joblib.load(\"FastTextModels/random_forest_model.joblib\")"
   ]
  },
  {
   "cell_type": "code",
   "execution_count": 15,
   "metadata": {},
   "outputs": [],
   "source": [
    "y_pred = model.predict(X)"
   ]
  },
  {
   "cell_type": "code",
   "execution_count": 16,
   "metadata": {},
   "outputs": [
    {
     "name": "stdout",
     "output_type": "stream",
     "text": [
      "              precision    recall  f1-score   support\n",
      "\n",
      "           0       0.74      0.77      0.75      3037\n",
      "           1       0.75      0.72      0.74      2952\n",
      "\n",
      "    accuracy                           0.75      5989\n",
      "   macro avg       0.75      0.74      0.75      5989\n",
      "weighted avg       0.75      0.75      0.75      5989\n",
      "\n",
      "[[2341  696]\n",
      " [ 829 2123]]\n"
     ]
    }
   ],
   "source": [
    "from sklearn.metrics import classification_report, confusion_matrix\n",
    "\n",
    "print(classification_report(y, y_pred))\n",
    "print(confusion_matrix(y, y_pred))"
   ]
  },
  {
   "cell_type": "code",
   "execution_count": 16,
   "metadata": {},
   "outputs": [
    {
     "data": {
      "text/html": [
       "<div>\n",
       "<style scoped>\n",
       "    .dataframe tbody tr th:only-of-type {\n",
       "        vertical-align: middle;\n",
       "    }\n",
       "\n",
       "    .dataframe tbody tr th {\n",
       "        vertical-align: top;\n",
       "    }\n",
       "\n",
       "    .dataframe thead th {\n",
       "        text-align: right;\n",
       "    }\n",
       "</style>\n",
       "<table border=\"1\" class=\"dataframe\">\n",
       "  <thead>\n",
       "    <tr style=\"text-align: right;\">\n",
       "      <th></th>\n",
       "      <th>Unnamed: 0</th>\n",
       "      <th>label</th>\n",
       "      <th>tokenized_text</th>\n",
       "      <th>article_embedding</th>\n",
       "    </tr>\n",
       "  </thead>\n",
       "  <tbody>\n",
       "    <tr>\n",
       "      <th>0</th>\n",
       "      <td>0</td>\n",
       "      <td>0</td>\n",
       "      <td>[['Daniel', 'Greenfield', ',', 'a', 'Shillman'...</td>\n",
       "      <td>[0.000995249138213694, -0.009249774739146233, ...</td>\n",
       "    </tr>\n",
       "    <tr>\n",
       "      <th>1</th>\n",
       "      <td>1</td>\n",
       "      <td>0</td>\n",
       "      <td>[['Google', 'Pinterest', 'Digg', 'Linkedin', '...</td>\n",
       "      <td>[0.006638066843152046, -0.027202058583498, 0.0...</td>\n",
       "    </tr>\n",
       "    <tr>\n",
       "      <th>2</th>\n",
       "      <td>2</td>\n",
       "      <td>1</td>\n",
       "      <td>[['U.S.', 'Secretary', 'of', 'State', 'John', ...</td>\n",
       "      <td>[0.0005832619499415159, -0.0407441109418869, 0...</td>\n",
       "    </tr>\n",
       "    <tr>\n",
       "      <th>3</th>\n",
       "      <td>3</td>\n",
       "      <td>0</td>\n",
       "      <td>[['—', 'Kaydee', 'King', '(', '@', 'KaydeeKing...</td>\n",
       "      <td>[0.005948025733232498, -0.03658789396286011, 0...</td>\n",
       "    </tr>\n",
       "    <tr>\n",
       "      <th>4</th>\n",
       "      <td>4</td>\n",
       "      <td>1</td>\n",
       "      <td>[['It', \"'s\", 'primary', 'day', 'in', 'New', '...</td>\n",
       "      <td>[-0.008395880460739136, -0.04971924051642418, ...</td>\n",
       "    </tr>\n",
       "    <tr>\n",
       "      <th>...</th>\n",
       "      <td>...</td>\n",
       "      <td>...</td>\n",
       "      <td>...</td>\n",
       "      <td>...</td>\n",
       "    </tr>\n",
       "    <tr>\n",
       "      <th>5984</th>\n",
       "      <td>5985</td>\n",
       "      <td>1</td>\n",
       "      <td>[['The', 'State', 'Department', 'told', 'the',...</td>\n",
       "      <td>[-0.009721430018544197, -0.033943723887205124,...</td>\n",
       "    </tr>\n",
       "    <tr>\n",
       "      <th>5985</th>\n",
       "      <td>5986</td>\n",
       "      <td>0</td>\n",
       "      <td>[['The', \"'P'\", 'in', 'PBS', 'Should', 'Stand'...</td>\n",
       "      <td>[-0.003399275941774249, -0.019133001565933228,...</td>\n",
       "    </tr>\n",
       "    <tr>\n",
       "      <th>5986</th>\n",
       "      <td>5987</td>\n",
       "      <td>0</td>\n",
       "      <td>[['Anti-Trump', 'Protesters', 'Are', 'Tools', ...</td>\n",
       "      <td>[-0.001935584587045014, -0.02292737364768982, ...</td>\n",
       "    </tr>\n",
       "    <tr>\n",
       "      <th>5987</th>\n",
       "      <td>5988</td>\n",
       "      <td>1</td>\n",
       "      <td>[['ADDIS', 'ABABA', ',', 'Ethiopia', '—Preside...</td>\n",
       "      <td>[-0.0008060219115577638, -0.024534158408641815...</td>\n",
       "    </tr>\n",
       "    <tr>\n",
       "      <th>5988</th>\n",
       "      <td>5989</td>\n",
       "      <td>1</td>\n",
       "      <td>[['Jeb', 'Bush', 'Is', 'Suddenly', 'Attacking'...</td>\n",
       "      <td>[-0.01361955888569355, -0.027704546228051186, ...</td>\n",
       "    </tr>\n",
       "  </tbody>\n",
       "</table>\n",
       "<p>5989 rows × 4 columns</p>\n",
       "</div>"
      ],
      "text/plain": [
       "      Unnamed: 0  label                                     tokenized_text  \\\n",
       "0              0      0  [['Daniel', 'Greenfield', ',', 'a', 'Shillman'...   \n",
       "1              1      0  [['Google', 'Pinterest', 'Digg', 'Linkedin', '...   \n",
       "2              2      1  [['U.S.', 'Secretary', 'of', 'State', 'John', ...   \n",
       "3              3      0  [['—', 'Kaydee', 'King', '(', '@', 'KaydeeKing...   \n",
       "4              4      1  [['It', \"'s\", 'primary', 'day', 'in', 'New', '...   \n",
       "...          ...    ...                                                ...   \n",
       "5984        5985      1  [['The', 'State', 'Department', 'told', 'the',...   \n",
       "5985        5986      0  [['The', \"'P'\", 'in', 'PBS', 'Should', 'Stand'...   \n",
       "5986        5987      0  [['Anti-Trump', 'Protesters', 'Are', 'Tools', ...   \n",
       "5987        5988      1  [['ADDIS', 'ABABA', ',', 'Ethiopia', '—Preside...   \n",
       "5988        5989      1  [['Jeb', 'Bush', 'Is', 'Suddenly', 'Attacking'...   \n",
       "\n",
       "                                      article_embedding  \n",
       "0     [0.000995249138213694, -0.009249774739146233, ...  \n",
       "1     [0.006638066843152046, -0.027202058583498, 0.0...  \n",
       "2     [0.0005832619499415159, -0.0407441109418869, 0...  \n",
       "3     [0.005948025733232498, -0.03658789396286011, 0...  \n",
       "4     [-0.008395880460739136, -0.04971924051642418, ...  \n",
       "...                                                 ...  \n",
       "5984  [-0.009721430018544197, -0.033943723887205124,...  \n",
       "5985  [-0.003399275941774249, -0.019133001565933228,...  \n",
       "5986  [-0.001935584587045014, -0.02292737364768982, ...  \n",
       "5987  [-0.0008060219115577638, -0.024534158408641815...  \n",
       "5988  [-0.01361955888569355, -0.027704546228051186, ...  \n",
       "\n",
       "[5989 rows x 4 columns]"
      ]
     },
     "execution_count": 16,
     "metadata": {},
     "output_type": "execute_result"
    }
   ],
   "source": [
    "df_generalization"
   ]
  },
  {
   "cell_type": "code",
   "execution_count": null,
   "metadata": {},
   "outputs": [],
   "source": []
  }
 ],
 "metadata": {
  "kernelspec": {
   "display_name": ".venv",
   "language": "python",
   "name": "python3"
  },
  "language_info": {
   "codemirror_mode": {
    "name": "ipython",
    "version": 3
   },
   "file_extension": ".py",
   "mimetype": "text/x-python",
   "name": "python",
   "nbconvert_exporter": "python",
   "pygments_lexer": "ipython3",
   "version": "3.12.3"
  }
 },
 "nbformat": 4,
 "nbformat_minor": 2
}

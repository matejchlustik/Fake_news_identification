{
 "cells": [
  {
   "cell_type": "code",
   "execution_count": 1,
   "metadata": {},
   "outputs": [
    {
     "name": "stderr",
     "output_type": "stream",
     "text": [
      "c:\\Users\\matej\\SKOLA\\Diplomovka\\Code\\EmbeddingModels\\.venv\\Lib\\site-packages\\tqdm\\auto.py:21: TqdmWarning: IProgress not found. Please update jupyter and ipywidgets. See https://ipywidgets.readthedocs.io/en/stable/user_install.html\n",
      "  from .autonotebook import tqdm as notebook_tqdm\n"
     ]
    }
   ],
   "source": [
    "from transformers import BertTokenizer\n",
    "from transformers import BertTokenizerFast\n",
    "from datasets import Dataset, DatasetDict, load_from_disk\n",
    "from transformers import BertForMaskedLM"
   ]
  },
  {
   "cell_type": "code",
   "execution_count": 78,
   "metadata": {},
   "outputs": [
    {
     "name": "stdout",
     "output_type": "stream",
     "text": [
      "Using device: cuda\n"
     ]
    }
   ],
   "source": [
    "import torch\n",
    "\n",
    "# Check if GPU is available\n",
    "device = torch.device(\"cuda\" if torch.cuda.is_available() else \"cpu\")\n",
    "print(f\"Using device: {device}\")"
   ]
  },
  {
   "cell_type": "code",
   "execution_count": 79,
   "metadata": {},
   "outputs": [],
   "source": [
    "tokenizer = BertTokenizerFast.from_pretrained(\"bert-base-cased\")"
   ]
  },
  {
   "cell_type": "code",
   "execution_count": 91,
   "metadata": {},
   "outputs": [],
   "source": [
    "dataset = load_from_disk(\"MLM_fake_generalization_data_with_article_ids_256\")\n",
    "\n",
    "# Path to your saved checkpoint directory\n",
    "checkpoint_path = \"./training_prog_256_final1/results/checkpoint-198940\"\n",
    "\n",
    "# Load the model from the checkpoint\n",
    "model = BertForMaskedLM.from_pretrained(checkpoint_path)"
   ]
  },
  {
   "cell_type": "code",
   "execution_count": 92,
   "metadata": {},
   "outputs": [
    {
     "data": {
      "text/plain": [
       "BertForMaskedLM(\n",
       "  (bert): BertModel(\n",
       "    (embeddings): BertEmbeddings(\n",
       "      (word_embeddings): Embedding(28996, 768, padding_idx=0)\n",
       "      (position_embeddings): Embedding(256, 768)\n",
       "      (token_type_embeddings): Embedding(2, 768)\n",
       "      (LayerNorm): LayerNorm((768,), eps=1e-12, elementwise_affine=True)\n",
       "      (dropout): Dropout(p=0.1, inplace=False)\n",
       "    )\n",
       "    (encoder): BertEncoder(\n",
       "      (layer): ModuleList(\n",
       "        (0-5): 6 x BertLayer(\n",
       "          (attention): BertAttention(\n",
       "            (self): BertSdpaSelfAttention(\n",
       "              (query): Linear(in_features=768, out_features=768, bias=True)\n",
       "              (key): Linear(in_features=768, out_features=768, bias=True)\n",
       "              (value): Linear(in_features=768, out_features=768, bias=True)\n",
       "              (dropout): Dropout(p=0.1, inplace=False)\n",
       "            )\n",
       "            (output): BertSelfOutput(\n",
       "              (dense): Linear(in_features=768, out_features=768, bias=True)\n",
       "              (LayerNorm): LayerNorm((768,), eps=1e-12, elementwise_affine=True)\n",
       "              (dropout): Dropout(p=0.1, inplace=False)\n",
       "            )\n",
       "          )\n",
       "          (intermediate): BertIntermediate(\n",
       "            (dense): Linear(in_features=768, out_features=3072, bias=True)\n",
       "            (intermediate_act_fn): GELUActivation()\n",
       "          )\n",
       "          (output): BertOutput(\n",
       "            (dense): Linear(in_features=3072, out_features=768, bias=True)\n",
       "            (LayerNorm): LayerNorm((768,), eps=1e-12, elementwise_affine=True)\n",
       "            (dropout): Dropout(p=0.1, inplace=False)\n",
       "          )\n",
       "        )\n",
       "      )\n",
       "    )\n",
       "  )\n",
       "  (cls): BertOnlyMLMHead(\n",
       "    (predictions): BertLMPredictionHead(\n",
       "      (transform): BertPredictionHeadTransform(\n",
       "        (dense): Linear(in_features=768, out_features=768, bias=True)\n",
       "        (transform_act_fn): GELUActivation()\n",
       "        (LayerNorm): LayerNorm((768,), eps=1e-12, elementwise_affine=True)\n",
       "      )\n",
       "      (decoder): Linear(in_features=768, out_features=28996, bias=True)\n",
       "    )\n",
       "  )\n",
       ")"
      ]
     },
     "execution_count": 92,
     "metadata": {},
     "output_type": "execute_result"
    }
   ],
   "source": [
    "model.to(device)\n",
    "model.eval()"
   ]
  },
  {
   "cell_type": "code",
   "execution_count": 93,
   "metadata": {},
   "outputs": [
    {
     "name": "stdout",
     "output_type": "stream",
     "text": [
      "cuda:0\n"
     ]
    }
   ],
   "source": [
    "print(next(model.parameters()).device)"
   ]
  },
  {
   "cell_type": "code",
   "execution_count": 94,
   "metadata": {},
   "outputs": [
    {
     "data": {
      "text/plain": [
       "Dataset({\n",
       "    features: ['input_ids', 'token_type_ids', 'attention_mask', 'labels', 'article_id', 'label'],\n",
       "    num_rows: 27791\n",
       "})"
      ]
     },
     "execution_count": 94,
     "metadata": {},
     "output_type": "execute_result"
    }
   ],
   "source": [
    "dataset"
   ]
  },
  {
   "cell_type": "code",
   "execution_count": 82,
   "metadata": {},
   "outputs": [],
   "source": [
    "dataset = dataset.remove_columns(\"word_ids\")"
   ]
  },
  {
   "cell_type": "code",
   "execution_count": 95,
   "metadata": {},
   "outputs": [],
   "source": [
    "from collections import defaultdict\n",
    "\n",
    "\n",
    "def group_chunks(dataset):\n",
    "    grouped_chunks = defaultdict(lambda: {\"data\": [], \"label\": None})\n",
    "\n",
    "    # Group chunks by article_id and add article_id and label to the group\n",
    "    for chunk in dataset:\n",
    "        article_id = chunk[\"article_id\"]\n",
    "        label = chunk[\"label\"]\n",
    "\n",
    "        # Create a new chunk without 'article_id' and 'label'\n",
    "        chunk_data = {\n",
    "            k: v for k, v in chunk.items() if k not in [\"article_id\", \"label\"]\n",
    "        }\n",
    "\n",
    "        # Append the chunk data to the correct article group\n",
    "        grouped_chunks[article_id][\"data\"].append(chunk_data)\n",
    "        grouped_chunks[article_id][\n",
    "            \"label\"\n",
    "        ] = label  # Since label is the same for all chunks in an article\n",
    "\n",
    "    # Convert the defaultdict to a list of formatted dictionaries\n",
    "    return [\n",
    "        {\"data\": group[\"data\"], \"article_id\": article_id, \"label\": group[\"label\"]}\n",
    "        for article_id, group in grouped_chunks.items()\n",
    "    ]"
   ]
  },
  {
   "cell_type": "code",
   "execution_count": 96,
   "metadata": {},
   "outputs": [],
   "source": [
    "grouped_chunks = group_chunks(dataset)"
   ]
  },
  {
   "cell_type": "code",
   "execution_count": 9,
   "metadata": {},
   "outputs": [
    {
     "data": {
      "text/plain": [
       "5990"
      ]
     },
     "execution_count": 9,
     "metadata": {},
     "output_type": "execute_result"
    }
   ],
   "source": [
    "len(grouped_chunks)"
   ]
  },
  {
   "cell_type": "code",
   "execution_count": 2,
   "metadata": {},
   "outputs": [],
   "source": [
    "import torch.nn.functional as F\n",
    "import copy"
   ]
  },
  {
   "cell_type": "code",
   "execution_count": 51,
   "metadata": {},
   "outputs": [],
   "source": [
    "from transformers import DataCollatorForLanguageModeling\n",
    "import numpy as np\n",
    "\n",
    "# Define the data collator\n",
    "data_collator = DataCollatorForLanguageModeling(\n",
    "    tokenizer=tokenizer,  # Use the tokenizer you trained with\n",
    "    mlm=True,  # Enable masking\n",
    "    mlm_probability=0.15,  # 15% of tokens will be masked (BERT default)\n",
    ")"
   ]
  },
  {
   "cell_type": "code",
   "execution_count": 52,
   "metadata": {},
   "outputs": [],
   "source": [
    "def get_cosine_similarities(dataset, model, tokenizer):\n",
    "    cos_similarities = []\n",
    "\n",
    "    for row in dataset:\n",
    "\n",
    "        row_masked = [copy.deepcopy(row)]\n",
    "        row_masked = data_collator(row_masked)\n",
    "\n",
    "        tensor_row = {key: torch.tensor([row[key]]) for key in row}\n",
    "\n",
    "        row_masked = {key: value.to(device) for key, value in row_masked.items()}\n",
    "\n",
    "        tensor_row = {key: value.to(device) for key, value in tensor_row.items()}\n",
    "\n",
    "        with torch.no_grad():\n",
    "\n",
    "            output_masked = model(**row_masked, output_hidden_states=True)\n",
    "            output_nonmasked = model(**tensor_row, output_hidden_states=True)\n",
    "\n",
    "        masked_positions = (row_masked[\"labels\"] != -100).nonzero(as_tuple=True)[1]\n",
    "\n",
    "        hidden_states_masked = output_masked.hidden_states[-1]\n",
    "        masked_embeddings = hidden_states_masked[0, masked_positions, :]\n",
    "\n",
    "        # get embedding from last hidden layer for real words on masked positions\n",
    "        hidden_states_nonmasked = output_nonmasked.hidden_states[-1]\n",
    "        actual_embeddings = hidden_states_nonmasked[0, masked_positions, :]\n",
    "\n",
    "        cosine_similarities = []\n",
    "\n",
    "        for masked_emb, actual_emb in zip(masked_embeddings, actual_embeddings):\n",
    "\n",
    "            similarity = F.cosine_similarity(\n",
    "                masked_emb.unsqueeze(0), actual_emb.unsqueeze(0)\n",
    "            )\n",
    "            cosine_similarities.append(similarity.item())\n",
    "        cos_similarities.append(cosine_similarities)\n",
    "\n",
    "    return cos_similarities"
   ]
  },
  {
   "cell_type": "code",
   "execution_count": 53,
   "metadata": {},
   "outputs": [],
   "source": [
    "def get_similarities_for_articles(data, model, tokenizer):\n",
    "    similarities = {}\n",
    "    for article in data:\n",
    "        chunks = article[\"data\"]\n",
    "        article_id = article[\"article_id\"]\n",
    "        label = article[\"label\"]\n",
    "        article_similarities = get_cosine_similarities(chunks, model, tokenizer)\n",
    "\n",
    "        similarities[article_id] = {\n",
    "            \"label\": label,\n",
    "            \"article_similarities\": article_similarities,\n",
    "        }\n",
    "\n",
    "    return similarities"
   ]
  },
  {
   "cell_type": "code",
   "execution_count": 54,
   "metadata": {},
   "outputs": [],
   "source": [
    "all_similarities = get_similarities_for_articles(grouped_chunks, model, tokenizer)"
   ]
  },
  {
   "cell_type": "code",
   "execution_count": 55,
   "metadata": {},
   "outputs": [],
   "source": [
    "import pickle\n",
    "\n",
    "\n",
    "# Save defaultdict to a file\n",
    "def save_defaultdict(data, filename):\n",
    "    with open(filename, \"wb\") as f:\n",
    "        pickle.dump(data, f)\n",
    "\n",
    "\n",
    "save_defaultdict(all_similarities, \"cosine_similarities_generalization_128.pkl\")"
   ]
  },
  {
   "cell_type": "code",
   "execution_count": null,
   "metadata": {},
   "outputs": [],
   "source": [
    "import pickle\n",
    "\n",
    "\n",
    "# Load defaultdict from a pickle file\n",
    "def load_defaultdict(filename):\n",
    "    with open(filename, \"rb\") as f:\n",
    "        data = pickle.load(f)\n",
    "    return data\n",
    "\n",
    "\n",
    "all_similarities = load_defaultdict(\"cosine_similarities_generalization_256.pkl\")"
   ]
  },
  {
   "cell_type": "code",
   "execution_count": 76,
   "metadata": {},
   "outputs": [
    {
     "data": {
      "text/plain": [
       "{'label': 0,\n",
       " 'article_similarities': [[0.9910404086112976,\n",
       "   0.8330944180488586,\n",
       "   0.7644830346107483,\n",
       "   0.9763064384460449,\n",
       "   0.82860267162323,\n",
       "   0.6316606998443604,\n",
       "   0.6668955683708191,\n",
       "   0.6947353482246399,\n",
       "   0.7502620220184326,\n",
       "   0.41321948170661926,\n",
       "   0.8217844367027283,\n",
       "   0.8146418929100037,\n",
       "   0.4598400890827179,\n",
       "   0.9945367574691772,\n",
       "   0.9917094707489014,\n",
       "   0.6549168229103088,\n",
       "   0.9742869138717651,\n",
       "   0.7724089026451111,\n",
       "   0.6398820877075195,\n",
       "   0.6170458793640137,\n",
       "   0.6770745515823364,\n",
       "   0.7195927500724792,\n",
       "   0.795966386795044,\n",
       "   0.6982587575912476,\n",
       "   0.5656644105911255,\n",
       "   0.5546984076499939,\n",
       "   0.8845198154449463,\n",
       "   0.7024232149124146,\n",
       "   0.8270209431648254,\n",
       "   0.6069740056991577,\n",
       "   0.6210905313491821,\n",
       "   0.8280870914459229,\n",
       "   0.8658665418624878,\n",
       "   0.7971113920211792,\n",
       "   0.5972217321395874,\n",
       "   0.7452385425567627,\n",
       "   0.5706127882003784,\n",
       "   0.9907678365707397,\n",
       "   0.7131085991859436,\n",
       "   0.9142731428146362,\n",
       "   0.9754266738891602,\n",
       "   0.6002132296562195,\n",
       "   0.539868950843811,\n",
       "   0.9431501626968384],\n",
       "  [0.8396971225738525,\n",
       "   0.6942856907844543,\n",
       "   0.6668273210525513,\n",
       "   0.7366127967834473,\n",
       "   0.9126648902893066,\n",
       "   0.9788700938224792,\n",
       "   0.6856096982955933,\n",
       "   0.6724096536636353,\n",
       "   0.6046103239059448,\n",
       "   0.4178740680217743,\n",
       "   0.778412938117981,\n",
       "   0.8228387832641602,\n",
       "   0.7581163644790649,\n",
       "   0.7066232562065125,\n",
       "   0.6722176671028137,\n",
       "   0.9531040787696838,\n",
       "   0.6684515476226807,\n",
       "   0.67919921875,\n",
       "   0.6565780639648438,\n",
       "   0.8377583026885986,\n",
       "   0.7836199998855591,\n",
       "   0.6536686420440674,\n",
       "   0.7423540353775024,\n",
       "   0.6573227643966675,\n",
       "   0.6896975040435791,\n",
       "   0.7477472424507141,\n",
       "   0.9961496591567993,\n",
       "   0.7989740371704102,\n",
       "   0.7772693634033203],\n",
       "  [0.5193668007850647,\n",
       "   0.67316734790802,\n",
       "   0.7042882442474365,\n",
       "   0.8561897277832031,\n",
       "   0.6978397369384766,\n",
       "   0.7834241390228271,\n",
       "   0.5870933532714844,\n",
       "   0.43938297033309937,\n",
       "   0.5794614553451538,\n",
       "   0.5797102451324463,\n",
       "   0.7469515204429626,\n",
       "   0.6418748497962952,\n",
       "   0.9396185278892517,\n",
       "   0.6509729623794556,\n",
       "   0.754736065864563,\n",
       "   0.6842425465583801,\n",
       "   0.6529406905174255,\n",
       "   0.6133841276168823,\n",
       "   0.49138471484184265,\n",
       "   0.6638588905334473,\n",
       "   0.7636758089065552,\n",
       "   0.8046432733535767,\n",
       "   0.6775577664375305,\n",
       "   0.6765916347503662,\n",
       "   0.634477436542511,\n",
       "   0.6470715999603271,\n",
       "   0.7524520754814148,\n",
       "   0.6171619892120361,\n",
       "   0.9983977675437927,\n",
       "   0.741623044013977,\n",
       "   0.9655569195747375,\n",
       "   0.6233935356140137,\n",
       "   0.7377337217330933,\n",
       "   0.6412746906280518],\n",
       "  [0.6346575021743774,\n",
       "   0.9967676401138306,\n",
       "   0.9949803948402405,\n",
       "   0.7390972375869751,\n",
       "   0.6352406740188599,\n",
       "   0.2579834461212158,\n",
       "   0.704247236251831,\n",
       "   0.8613501787185669,\n",
       "   0.8173829317092896,\n",
       "   0.7301391363143921,\n",
       "   0.6580865979194641,\n",
       "   0.6506797671318054,\n",
       "   0.7580526471138,\n",
       "   0.6944883465766907,\n",
       "   0.6636394262313843,\n",
       "   0.8433346748352051,\n",
       "   0.5585131049156189,\n",
       "   0.7135800123214722,\n",
       "   0.9906473159790039,\n",
       "   0.7510920763015747,\n",
       "   0.6533935070037842,\n",
       "   0.7489967942237854,\n",
       "   0.8660976886749268,\n",
       "   0.7537500262260437,\n",
       "   0.7336868047714233,\n",
       "   0.4970073699951172,\n",
       "   0.562086820602417,\n",
       "   0.991952657699585,\n",
       "   0.7540156841278076,\n",
       "   0.13527311384677887,\n",
       "   0.8023602962493896,\n",
       "   0.6835676431655884,\n",
       "   0.4924042224884033,\n",
       "   0.5702447891235352,\n",
       "   0.646249532699585,\n",
       "   0.558243989944458,\n",
       "   0.3380557894706726],\n",
       "  [0.8294830322265625,\n",
       "   0.959682047367096,\n",
       "   0.7187542915344238,\n",
       "   0.7443231344223022,\n",
       "   0.6717032194137573,\n",
       "   0.637776255607605,\n",
       "   0.49593454599380493,\n",
       "   0.34902989864349365,\n",
       "   0.6625758409500122,\n",
       "   0.6879301071166992,\n",
       "   0.767942488193512,\n",
       "   0.7733352184295654,\n",
       "   0.4367476999759674,\n",
       "   0.8288230895996094,\n",
       "   0.626232385635376,\n",
       "   0.6823599338531494,\n",
       "   0.9790315628051758,\n",
       "   0.7568988800048828,\n",
       "   0.6039626598358154,\n",
       "   0.5394397974014282,\n",
       "   0.45818662643432617,\n",
       "   0.5091708302497864,\n",
       "   0.8584168553352356,\n",
       "   0.8603494763374329,\n",
       "   0.8313860297203064,\n",
       "   0.6385271549224854,\n",
       "   0.60883629322052,\n",
       "   0.7184215784072876,\n",
       "   0.8473824858665466,\n",
       "   0.7618511915206909,\n",
       "   0.9750827550888062,\n",
       "   0.8434757590293884,\n",
       "   0.7620434761047363],\n",
       "  [0.869903564453125,\n",
       "   0.8550611734390259,\n",
       "   0.6606018543243408,\n",
       "   0.7167372703552246,\n",
       "   0.6736568808555603,\n",
       "   0.8612679243087769,\n",
       "   0.7169777154922485,\n",
       "   0.8536784648895264,\n",
       "   0.68988037109375,\n",
       "   0.997618556022644,\n",
       "   0.9973624348640442,\n",
       "   0.7517684698104858,\n",
       "   0.6155414581298828,\n",
       "   0.5411422252655029,\n",
       "   0.9992955327033997,\n",
       "   0.8384857177734375,\n",
       "   0.47923246026039124,\n",
       "   0.5400790572166443,\n",
       "   0.8225308656692505,\n",
       "   0.7310280203819275,\n",
       "   0.656825065612793,\n",
       "   0.40137767791748047,\n",
       "   0.9938473701477051,\n",
       "   0.7061840295791626,\n",
       "   0.7836331129074097,\n",
       "   0.6336508989334106,\n",
       "   0.6505312919616699,\n",
       "   0.7881390452384949,\n",
       "   0.6339082717895508,\n",
       "   0.73955237865448,\n",
       "   0.4056812524795532],\n",
       "  [0.8340071439743042,\n",
       "   0.8295137882232666,\n",
       "   0.7683219313621521,\n",
       "   0.8024531602859497]]}"
      ]
     },
     "execution_count": 76,
     "metadata": {},
     "output_type": "execute_result"
    }
   ],
   "source": [
    "all_similarities[0]"
   ]
  },
  {
   "cell_type": "code",
   "execution_count": null,
   "metadata": {},
   "outputs": [],
   "source": [
    "import pandas as pd\n",
    "import numpy as np\n",
    "\n",
    "\n",
    "def create_similarity_dataframe(grouped_chunks):\n",
    "    data = []\n",
    "\n",
    "    for article_id, values in grouped_chunks.items():\n",
    "\n",
    "        label = values[\"label\"]\n",
    "        article_similarities = values[\"article_similarities\"]\n",
    "\n",
    "        flat_list = [item for sublist in article_similarities for item in sublist]\n",
    "        avg_similarity = np.mean(flat_list)\n",
    "\n",
    "        data.append(\n",
    "            {\"article_id\": article_id, \"label\": label, \"avg_similarity\": avg_similarity}\n",
    "        )\n",
    "\n",
    "    df = pd.DataFrame(data)\n",
    "    return df"
   ]
  },
  {
   "cell_type": "code",
   "execution_count": 5,
   "metadata": {},
   "outputs": [],
   "source": [
    "import matplotlib.pyplot as plt\n",
    "import seaborn as sns"
   ]
  },
  {
   "cell_type": "code",
   "execution_count": 6,
   "metadata": {},
   "outputs": [],
   "source": [
    "all_similarities_256 = load_defaultdict(\"cosine_similarities_generalization_256.pkl\")\n",
    "all_similarities_128 = load_defaultdict(\"cosine_similarities_generalization_128.pkl\")"
   ]
  },
  {
   "cell_type": "code",
   "execution_count": 7,
   "metadata": {},
   "outputs": [
    {
     "name": "stderr",
     "output_type": "stream",
     "text": [
      "c:\\Users\\matej\\SKOLA\\Diplomovka\\Code\\EmbeddingModels\\.venv\\Lib\\site-packages\\numpy\\core\\fromnumeric.py:3504: RuntimeWarning: Mean of empty slice.\n",
      "  return _methods._mean(a, axis=axis, dtype=dtype,\n",
      "c:\\Users\\matej\\SKOLA\\Diplomovka\\Code\\EmbeddingModels\\.venv\\Lib\\site-packages\\numpy\\core\\_methods.py:129: RuntimeWarning: invalid value encountered in scalar divide\n",
      "  ret = ret.dtype.type(ret / rcount)\n"
     ]
    }
   ],
   "source": [
    "df_similarities_128 = create_similarity_dataframe(all_similarities_128)\n",
    "df_similarities_256 = create_similarity_dataframe(all_similarities_256)"
   ]
  },
  {
   "cell_type": "code",
   "execution_count": 8,
   "metadata": {},
   "outputs": [],
   "source": [
    "df_similarities_128 = df_similarities_128.dropna()\n",
    "df_similarities_256 = df_similarities_256.dropna()"
   ]
  },
  {
   "cell_type": "code",
   "execution_count": 9,
   "metadata": {},
   "outputs": [],
   "source": [
    "df_label_0_128 = df_similarities_128[df_similarities_128[\"label\"] == 0]\n",
    "df_label_1_128 = df_similarities_128[df_similarities_128[\"label\"] == 1]\n",
    "df_label_0_256 = df_similarities_256[df_similarities_256[\"label\"] == 0]\n",
    "df_label_1_256 = df_similarities_256[df_similarities_256[\"label\"] == 1]"
   ]
  },
  {
   "cell_type": "code",
   "execution_count": 14,
   "metadata": {},
   "outputs": [
    {
     "data": {
      "text/plain": [
       "0.7035767859346671"
      ]
     },
     "execution_count": 14,
     "metadata": {},
     "output_type": "execute_result"
    }
   ],
   "source": [
    "df_label_0_128[\"avg_similarity\"].median()"
   ]
  },
  {
   "cell_type": "code",
   "execution_count": 15,
   "metadata": {},
   "outputs": [
    {
     "data": {
      "text/plain": [
       "0.7007104530427102"
      ]
     },
     "execution_count": 15,
     "metadata": {},
     "output_type": "execute_result"
    }
   ],
   "source": [
    "df_label_1_128[\"avg_similarity\"].median()"
   ]
  },
  {
   "cell_type": "code",
   "execution_count": 16,
   "metadata": {},
   "outputs": [
    {
     "data": {
      "text/plain": [
       "0.6773406956389726"
      ]
     },
     "execution_count": 16,
     "metadata": {},
     "output_type": "execute_result"
    }
   ],
   "source": [
    "df_label_0_256[\"avg_similarity\"].median()"
   ]
  },
  {
   "cell_type": "code",
   "execution_count": 17,
   "metadata": {},
   "outputs": [
    {
     "data": {
      "text/plain": [
       "0.6684553724136378"
      ]
     },
     "execution_count": 17,
     "metadata": {},
     "output_type": "execute_result"
    }
   ],
   "source": [
    "df_label_1_256[\"avg_similarity\"].median()"
   ]
  },
  {
   "cell_type": "code",
   "execution_count": 19,
   "metadata": {},
   "outputs": [
    {
     "data": {
      "text/html": [
       "<div>\n",
       "<style scoped>\n",
       "    .dataframe tbody tr th:only-of-type {\n",
       "        vertical-align: middle;\n",
       "    }\n",
       "\n",
       "    .dataframe tbody tr th {\n",
       "        vertical-align: top;\n",
       "    }\n",
       "\n",
       "    .dataframe thead th {\n",
       "        text-align: right;\n",
       "    }\n",
       "</style>\n",
       "<table border=\"1\" class=\"dataframe\">\n",
       "  <thead>\n",
       "    <tr style=\"text-align: right;\">\n",
       "      <th></th>\n",
       "      <th>article_id</th>\n",
       "      <th>label</th>\n",
       "      <th>avg_similarity</th>\n",
       "    </tr>\n",
       "  </thead>\n",
       "  <tbody>\n",
       "    <tr>\n",
       "      <th>count</th>\n",
       "      <td>2951.000000</td>\n",
       "      <td>2951.0</td>\n",
       "      <td>2951.000000</td>\n",
       "    </tr>\n",
       "    <tr>\n",
       "      <th>mean</th>\n",
       "      <td>3000.886479</td>\n",
       "      <td>1.0</td>\n",
       "      <td>0.701725</td>\n",
       "    </tr>\n",
       "    <tr>\n",
       "      <th>std</th>\n",
       "      <td>1711.106708</td>\n",
       "      <td>0.0</td>\n",
       "      <td>0.022823</td>\n",
       "    </tr>\n",
       "    <tr>\n",
       "      <th>min</th>\n",
       "      <td>2.000000</td>\n",
       "      <td>1.0</td>\n",
       "      <td>0.551007</td>\n",
       "    </tr>\n",
       "    <tr>\n",
       "      <th>25%</th>\n",
       "      <td>1534.500000</td>\n",
       "      <td>1.0</td>\n",
       "      <td>0.688701</td>\n",
       "    </tr>\n",
       "    <tr>\n",
       "      <th>50%</th>\n",
       "      <td>3032.000000</td>\n",
       "      <td>1.0</td>\n",
       "      <td>0.700710</td>\n",
       "    </tr>\n",
       "    <tr>\n",
       "      <th>75%</th>\n",
       "      <td>4465.000000</td>\n",
       "      <td>1.0</td>\n",
       "      <td>0.713592</td>\n",
       "    </tr>\n",
       "    <tr>\n",
       "      <th>max</th>\n",
       "      <td>5989.000000</td>\n",
       "      <td>1.0</td>\n",
       "      <td>0.838991</td>\n",
       "    </tr>\n",
       "  </tbody>\n",
       "</table>\n",
       "</div>"
      ],
      "text/plain": [
       "        article_id   label  avg_similarity\n",
       "count  2951.000000  2951.0     2951.000000\n",
       "mean   3000.886479     1.0        0.701725\n",
       "std    1711.106708     0.0        0.022823\n",
       "min       2.000000     1.0        0.551007\n",
       "25%    1534.500000     1.0        0.688701\n",
       "50%    3032.000000     1.0        0.700710\n",
       "75%    4465.000000     1.0        0.713592\n",
       "max    5989.000000     1.0        0.838991"
      ]
     },
     "execution_count": 19,
     "metadata": {},
     "output_type": "execute_result"
    }
   ],
   "source": [
    "df_label_1_128.describe()"
   ]
  },
  {
   "cell_type": "code",
   "execution_count": 122,
   "metadata": {},
   "outputs": [
    {
     "name": "stderr",
     "output_type": "stream",
     "text": [
      "C:\\Users\\matej\\AppData\\Local\\Temp\\ipykernel_23888\\3401751642.py:17: MatplotlibDeprecationWarning: The 'labels' parameter of boxplot() has been renamed 'tick_labels' since Matplotlib 3.9; support for the old name will be dropped in 3.11.\n",
      "  plt.boxplot(\n"
     ]
    },
    {
     "data": {
      "image/png": "[encoded data removed]",
      "text/plain": [
       "<Figure size 800x600 with 1 Axes>"
      ]
     },
     "metadata": {},
     "output_type": "display_data"
    }
   ],
   "source": [
    "# Combine into a list for plotting\n",
    "data = [\n",
    "    df_label_0_128[\"avg_similarity\"],\n",
    "    df_label_1_128[\"avg_similarity\"],\n",
    "    df_label_0_256[\"avg_similarity\"],\n",
    "    df_label_1_256[\"avg_similarity\"],\n",
    "]\n",
    "labels = [\n",
    "    \"False Articles (128)\",\n",
    "    \"True Articles (128)\",\n",
    "    \"False Articles (256)\",\n",
    "    \"True Articles (256)\",\n",
    "]\n",
    "\n",
    "# Create the box plot\n",
    "plt.figure(figsize=(8, 6))\n",
    "plt.boxplot(\n",
    "    data,\n",
    "    labels=labels,\n",
    "    patch_artist=True,\n",
    "    boxprops=dict(facecolor=\"lightblue\"),  # Color for boxes\n",
    "    medianprops=dict(color=\"red\"),\n",
    ")  # Color for median lines\n",
    "\n",
    "plt.grid(True, linewidth=0.5, alpha=0.7)\n",
    "\n",
    "# Add title and labels\n",
    "plt.title(\"Box Plot of Similarity for True vs. False Articles\")\n",
    "plt.ylabel(\"Similarity\")\n",
    "\n",
    "# Show the plot\n",
    "plt.savefig(\"boxplot_similarity.png\", dpi=300, bbox_inches=\"tight\", transparent=True)\n",
    "plt.show()"
   ]
  },
  {
   "cell_type": "code",
   "execution_count": 118,
   "metadata": {},
   "outputs": [
    {
     "name": "stdout",
     "output_type": "stream",
     "text": [
      "0.6513646188500007\n",
      "0.7509280151945515\n",
      "0.6390595062371238\n",
      "0.7712759395950504\n",
      "Number of outliers in True Articles: 103\n",
      "Number of outliers in False Articles: 150\n"
     ]
    }
   ],
   "source": [
    "def calculate_outliers(data):\n",
    "    # Calculate Q1, Q3, and IQR\n",
    "    Q1 = np.percentile(data, 25)\n",
    "    Q3 = np.percentile(data, 75)\n",
    "    IQR = Q3 - Q1\n",
    "\n",
    "    # Define outlier bounds\n",
    "    lower_bound = Q1 - 1.5 * IQR\n",
    "    upper_bound = Q3 + 1.5 * IQR\n",
    "    print(lower_bound)\n",
    "    print(upper_bound)\n",
    "    # Identify outliers\n",
    "    outliers = data[(data < lower_bound) | (data > upper_bound)]\n",
    "    return outliers\n",
    "\n",
    "\n",
    "# Calculate outliers for each class\n",
    "true_articles_outliers = calculate_outliers(df_label_1_128[\"avg_similarity\"])\n",
    "false_articles_outliers = calculate_outliers(df_label_0_128[\"avg_similarity\"])\n",
    "\n",
    "# Print the number of outliers\n",
    "print(f\"Number of outliers in True Articles: {len(true_articles_outliers)}\")\n",
    "print(f\"Number of outliers in False Articles: {len(false_articles_outliers)}\")"
   ]
  },
  {
   "cell_type": "code",
   "execution_count": 119,
   "metadata": {},
   "outputs": [
    {
     "name": "stdout",
     "output_type": "stream",
     "text": [
      "0.615420368954452\n",
      "0.7221925011497177\n",
      "0.6067628334645631\n",
      "0.7525813378414147\n",
      "Number of outliers in True Articles: 100\n",
      "Number of outliers in False Articles: 174\n"
     ]
    }
   ],
   "source": [
    "# Calculate outliers for each class\n",
    "true_articles_outliers = calculate_outliers(df_label_1_256[\"avg_similarity\"])\n",
    "false_articles_outliers = calculate_outliers(df_label_0_256[\"avg_similarity\"])\n",
    "\n",
    "# Print the number of outliers\n",
    "print(f\"Number of outliers in True Articles: {len(true_articles_outliers)}\")\n",
    "print(f\"Number of outliers in False Articles: {len(false_articles_outliers)}\")"
   ]
  },
  {
   "cell_type": "code",
   "execution_count": 77,
   "metadata": {},
   "outputs": [
    {
     "name": "stderr",
     "output_type": "stream",
     "text": [
      "c:\\Users\\matej\\SKOLA\\Diplomovka\\Code\\EmbeddingModels\\.venv\\Lib\\site-packages\\numpy\\core\\fromnumeric.py:3504: RuntimeWarning: Mean of empty slice.\n",
      "  return _methods._mean(a, axis=axis, dtype=dtype,\n",
      "c:\\Users\\matej\\SKOLA\\Diplomovka\\Code\\EmbeddingModels\\.venv\\Lib\\site-packages\\numpy\\core\\_methods.py:129: RuntimeWarning: invalid value encountered in scalar divide\n",
      "  ret = ret.dtype.type(ret / rcount)\n"
     ]
    }
   ],
   "source": [
    "df_similarities = create_similarity_dataframe(all_similarities)"
   ]
  },
  {
   "cell_type": "code",
   "execution_count": 78,
   "metadata": {},
   "outputs": [
    {
     "data": {
      "text/html": [
       "<div>\n",
       "<style scoped>\n",
       "    .dataframe tbody tr th:only-of-type {\n",
       "        vertical-align: middle;\n",
       "    }\n",
       "\n",
       "    .dataframe tbody tr th {\n",
       "        vertical-align: top;\n",
       "    }\n",
       "\n",
       "    .dataframe thead th {\n",
       "        text-align: right;\n",
       "    }\n",
       "</style>\n",
       "<table border=\"1\" class=\"dataframe\">\n",
       "  <thead>\n",
       "    <tr style=\"text-align: right;\">\n",
       "      <th></th>\n",
       "      <th>article_id</th>\n",
       "      <th>label</th>\n",
       "      <th>avg_similarity</th>\n",
       "    </tr>\n",
       "  </thead>\n",
       "  <tbody>\n",
       "    <tr>\n",
       "      <th>0</th>\n",
       "      <td>0</td>\n",
       "      <td>0</td>\n",
       "      <td>0.721050</td>\n",
       "    </tr>\n",
       "    <tr>\n",
       "      <th>1</th>\n",
       "      <td>1</td>\n",
       "      <td>0</td>\n",
       "      <td>0.700592</td>\n",
       "    </tr>\n",
       "    <tr>\n",
       "      <th>2</th>\n",
       "      <td>2</td>\n",
       "      <td>1</td>\n",
       "      <td>0.653640</td>\n",
       "    </tr>\n",
       "    <tr>\n",
       "      <th>3</th>\n",
       "      <td>3</td>\n",
       "      <td>0</td>\n",
       "      <td>0.687255</td>\n",
       "    </tr>\n",
       "    <tr>\n",
       "      <th>4</th>\n",
       "      <td>4</td>\n",
       "      <td>1</td>\n",
       "      <td>0.653405</td>\n",
       "    </tr>\n",
       "    <tr>\n",
       "      <th>...</th>\n",
       "      <td>...</td>\n",
       "      <td>...</td>\n",
       "      <td>...</td>\n",
       "    </tr>\n",
       "    <tr>\n",
       "      <th>5985</th>\n",
       "      <td>5985</td>\n",
       "      <td>1</td>\n",
       "      <td>0.689091</td>\n",
       "    </tr>\n",
       "    <tr>\n",
       "      <th>5986</th>\n",
       "      <td>5986</td>\n",
       "      <td>0</td>\n",
       "      <td>0.662255</td>\n",
       "    </tr>\n",
       "    <tr>\n",
       "      <th>5987</th>\n",
       "      <td>5987</td>\n",
       "      <td>0</td>\n",
       "      <td>0.674059</td>\n",
       "    </tr>\n",
       "    <tr>\n",
       "      <th>5988</th>\n",
       "      <td>5988</td>\n",
       "      <td>1</td>\n",
       "      <td>0.654285</td>\n",
       "    </tr>\n",
       "    <tr>\n",
       "      <th>5989</th>\n",
       "      <td>5989</td>\n",
       "      <td>1</td>\n",
       "      <td>0.648479</td>\n",
       "    </tr>\n",
       "  </tbody>\n",
       "</table>\n",
       "<p>5990 rows × 3 columns</p>\n",
       "</div>"
      ],
      "text/plain": [
       "      article_id  label  avg_similarity\n",
       "0              0      0        0.721050\n",
       "1              1      0        0.700592\n",
       "2              2      1        0.653640\n",
       "3              3      0        0.687255\n",
       "4              4      1        0.653405\n",
       "...          ...    ...             ...\n",
       "5985        5985      1        0.689091\n",
       "5986        5986      0        0.662255\n",
       "5987        5987      0        0.674059\n",
       "5988        5988      1        0.654285\n",
       "5989        5989      1        0.648479\n",
       "\n",
       "[5990 rows x 3 columns]"
      ]
     },
     "execution_count": 78,
     "metadata": {},
     "output_type": "execute_result"
    }
   ],
   "source": [
    "df_similarities"
   ]
  },
  {
   "cell_type": "code",
   "execution_count": 79,
   "metadata": {},
   "outputs": [
    {
     "name": "stdout",
     "output_type": "stream",
     "text": [
      "<class 'pandas.core.frame.DataFrame'>\n",
      "RangeIndex: 5990 entries, 0 to 5989\n",
      "Data columns (total 3 columns):\n",
      " #   Column          Non-Null Count  Dtype  \n",
      "---  ------          --------------  -----  \n",
      " 0   article_id      5990 non-null   int64  \n",
      " 1   label           5990 non-null   int64  \n",
      " 2   avg_similarity  5986 non-null   float64\n",
      "dtypes: float64(1), int64(2)\n",
      "memory usage: 140.5 KB\n"
     ]
    }
   ],
   "source": [
    "df_similarities.info()"
   ]
  },
  {
   "cell_type": "code",
   "execution_count": 80,
   "metadata": {},
   "outputs": [],
   "source": [
    "df_similarities = df_similarities.dropna()"
   ]
  },
  {
   "cell_type": "code",
   "execution_count": 81,
   "metadata": {},
   "outputs": [
    {
     "data": {
      "text/html": [
       "<div>\n",
       "<style scoped>\n",
       "    .dataframe tbody tr th:only-of-type {\n",
       "        vertical-align: middle;\n",
       "    }\n",
       "\n",
       "    .dataframe tbody tr th {\n",
       "        vertical-align: top;\n",
       "    }\n",
       "\n",
       "    .dataframe thead th {\n",
       "        text-align: right;\n",
       "    }\n",
       "</style>\n",
       "<table border=\"1\" class=\"dataframe\">\n",
       "  <thead>\n",
       "    <tr style=\"text-align: right;\">\n",
       "      <th></th>\n",
       "      <th>article_id</th>\n",
       "      <th>label</th>\n",
       "      <th>avg_similarity</th>\n",
       "    </tr>\n",
       "  </thead>\n",
       "  <tbody>\n",
       "    <tr>\n",
       "      <th>count</th>\n",
       "      <td>5986.000000</td>\n",
       "      <td>5986.000000</td>\n",
       "      <td>5986.000000</td>\n",
       "    </tr>\n",
       "    <tr>\n",
       "      <th>mean</th>\n",
       "      <td>2994.503675</td>\n",
       "      <td>0.492984</td>\n",
       "      <td>0.676666</td>\n",
       "    </tr>\n",
       "    <tr>\n",
       "      <th>std</th>\n",
       "      <td>1729.713931</td>\n",
       "      <td>0.499993</td>\n",
       "      <td>0.032685</td>\n",
       "    </tr>\n",
       "    <tr>\n",
       "      <th>min</th>\n",
       "      <td>0.000000</td>\n",
       "      <td>0.000000</td>\n",
       "      <td>0.531321</td>\n",
       "    </tr>\n",
       "    <tr>\n",
       "      <th>25%</th>\n",
       "      <td>1496.250000</td>\n",
       "      <td>0.000000</td>\n",
       "      <td>0.658236</td>\n",
       "    </tr>\n",
       "    <tr>\n",
       "      <th>50%</th>\n",
       "      <td>2994.500000</td>\n",
       "      <td>0.000000</td>\n",
       "      <td>0.672335</td>\n",
       "    </tr>\n",
       "    <tr>\n",
       "      <th>75%</th>\n",
       "      <td>4492.750000</td>\n",
       "      <td>1.000000</td>\n",
       "      <td>0.688832</td>\n",
       "    </tr>\n",
       "    <tr>\n",
       "      <th>max</th>\n",
       "      <td>5989.000000</td>\n",
       "      <td>1.000000</td>\n",
       "      <td>1.000000</td>\n",
       "    </tr>\n",
       "  </tbody>\n",
       "</table>\n",
       "</div>"
      ],
      "text/plain": [
       "        article_id        label  avg_similarity\n",
       "count  5986.000000  5986.000000     5986.000000\n",
       "mean   2994.503675     0.492984        0.676666\n",
       "std    1729.713931     0.499993        0.032685\n",
       "min       0.000000     0.000000        0.531321\n",
       "25%    1496.250000     0.000000        0.658236\n",
       "50%    2994.500000     0.000000        0.672335\n",
       "75%    4492.750000     1.000000        0.688832\n",
       "max    5989.000000     1.000000        1.000000"
      ]
     },
     "execution_count": 81,
     "metadata": {},
     "output_type": "execute_result"
    }
   ],
   "source": [
    "df_similarities.describe()"
   ]
  },
  {
   "cell_type": "code",
   "execution_count": 82,
   "metadata": {},
   "outputs": [],
   "source": [
    "df_label_0 = df_similarities[df_similarities[\"label\"] == 0]\n",
    "df_label_1 = df_similarities[df_similarities[\"label\"] == 1]"
   ]
  },
  {
   "cell_type": "code",
   "execution_count": 83,
   "metadata": {},
   "outputs": [],
   "source": [
    "df_label_0 = df_label_0.reset_index()\n",
    "df_label_1 = df_label_1.reset_index()"
   ]
  },
  {
   "cell_type": "code",
   "execution_count": 84,
   "metadata": {},
   "outputs": [
    {
     "data": {
      "text/html": [
       "<div>\n",
       "<style scoped>\n",
       "    .dataframe tbody tr th:only-of-type {\n",
       "        vertical-align: middle;\n",
       "    }\n",
       "\n",
       "    .dataframe tbody tr th {\n",
       "        vertical-align: top;\n",
       "    }\n",
       "\n",
       "    .dataframe thead th {\n",
       "        text-align: right;\n",
       "    }\n",
       "</style>\n",
       "<table border=\"1\" class=\"dataframe\">\n",
       "  <thead>\n",
       "    <tr style=\"text-align: right;\">\n",
       "      <th></th>\n",
       "      <th>index</th>\n",
       "      <th>article_id</th>\n",
       "      <th>label</th>\n",
       "      <th>avg_similarity</th>\n",
       "    </tr>\n",
       "  </thead>\n",
       "  <tbody>\n",
       "    <tr>\n",
       "      <th>count</th>\n",
       "      <td>3035.000000</td>\n",
       "      <td>3035.000000</td>\n",
       "      <td>3035.0</td>\n",
       "      <td>3035.000000</td>\n",
       "    </tr>\n",
       "    <tr>\n",
       "      <th>mean</th>\n",
       "      <td>2988.389127</td>\n",
       "      <td>2988.389127</td>\n",
       "      <td>0.0</td>\n",
       "      <td>0.683003</td>\n",
       "    </tr>\n",
       "    <tr>\n",
       "      <th>std</th>\n",
       "      <td>1747.793940</td>\n",
       "      <td>1747.793940</td>\n",
       "      <td>0.0</td>\n",
       "      <td>0.037715</td>\n",
       "    </tr>\n",
       "    <tr>\n",
       "      <th>min</th>\n",
       "      <td>0.000000</td>\n",
       "      <td>0.000000</td>\n",
       "      <td>0.0</td>\n",
       "      <td>0.531321</td>\n",
       "    </tr>\n",
       "    <tr>\n",
       "      <th>25%</th>\n",
       "      <td>1472.000000</td>\n",
       "      <td>1472.000000</td>\n",
       "      <td>0.0</td>\n",
       "      <td>0.661445</td>\n",
       "    </tr>\n",
       "    <tr>\n",
       "      <th>50%</th>\n",
       "      <td>2955.000000</td>\n",
       "      <td>2955.000000</td>\n",
       "      <td>0.0</td>\n",
       "      <td>0.677341</td>\n",
       "    </tr>\n",
       "    <tr>\n",
       "      <th>75%</th>\n",
       "      <td>4525.500000</td>\n",
       "      <td>4525.500000</td>\n",
       "      <td>0.0</td>\n",
       "      <td>0.697899</td>\n",
       "    </tr>\n",
       "    <tr>\n",
       "      <th>max</th>\n",
       "      <td>5987.000000</td>\n",
       "      <td>5987.000000</td>\n",
       "      <td>0.0</td>\n",
       "      <td>1.000000</td>\n",
       "    </tr>\n",
       "  </tbody>\n",
       "</table>\n",
       "</div>"
      ],
      "text/plain": [
       "             index   article_id   label  avg_similarity\n",
       "count  3035.000000  3035.000000  3035.0     3035.000000\n",
       "mean   2988.389127  2988.389127     0.0        0.683003\n",
       "std    1747.793940  1747.793940     0.0        0.037715\n",
       "min       0.000000     0.000000     0.0        0.531321\n",
       "25%    1472.000000  1472.000000     0.0        0.661445\n",
       "50%    2955.000000  2955.000000     0.0        0.677341\n",
       "75%    4525.500000  4525.500000     0.0        0.697899\n",
       "max    5987.000000  5987.000000     0.0        1.000000"
      ]
     },
     "execution_count": 84,
     "metadata": {},
     "output_type": "execute_result"
    }
   ],
   "source": [
    "df_label_0.describe()"
   ]
  },
  {
   "cell_type": "code",
   "execution_count": 85,
   "metadata": {},
   "outputs": [
    {
     "data": {
      "text/html": [
       "<div>\n",
       "<style scoped>\n",
       "    .dataframe tbody tr th:only-of-type {\n",
       "        vertical-align: middle;\n",
       "    }\n",
       "\n",
       "    .dataframe tbody tr th {\n",
       "        vertical-align: top;\n",
       "    }\n",
       "\n",
       "    .dataframe thead th {\n",
       "        text-align: right;\n",
       "    }\n",
       "</style>\n",
       "<table border=\"1\" class=\"dataframe\">\n",
       "  <thead>\n",
       "    <tr style=\"text-align: right;\">\n",
       "      <th></th>\n",
       "      <th>index</th>\n",
       "      <th>article_id</th>\n",
       "      <th>label</th>\n",
       "      <th>avg_similarity</th>\n",
       "    </tr>\n",
       "  </thead>\n",
       "  <tbody>\n",
       "    <tr>\n",
       "      <th>count</th>\n",
       "      <td>2951.000000</td>\n",
       "      <td>2951.000000</td>\n",
       "      <td>2951.0</td>\n",
       "      <td>2951.000000</td>\n",
       "    </tr>\n",
       "    <tr>\n",
       "      <th>mean</th>\n",
       "      <td>3000.792274</td>\n",
       "      <td>3000.792274</td>\n",
       "      <td>1.0</td>\n",
       "      <td>0.670148</td>\n",
       "    </tr>\n",
       "    <tr>\n",
       "      <th>std</th>\n",
       "      <td>1711.193383</td>\n",
       "      <td>1711.193383</td>\n",
       "      <td>0.0</td>\n",
       "      <td>0.024914</td>\n",
       "    </tr>\n",
       "    <tr>\n",
       "      <th>min</th>\n",
       "      <td>2.000000</td>\n",
       "      <td>2.000000</td>\n",
       "      <td>1.0</td>\n",
       "      <td>0.562047</td>\n",
       "    </tr>\n",
       "    <tr>\n",
       "      <th>25%</th>\n",
       "      <td>1532.000000</td>\n",
       "      <td>1532.000000</td>\n",
       "      <td>1.0</td>\n",
       "      <td>0.655460</td>\n",
       "    </tr>\n",
       "    <tr>\n",
       "      <th>50%</th>\n",
       "      <td>3032.000000</td>\n",
       "      <td>3032.000000</td>\n",
       "      <td>1.0</td>\n",
       "      <td>0.668455</td>\n",
       "    </tr>\n",
       "    <tr>\n",
       "      <th>75%</th>\n",
       "      <td>4465.000000</td>\n",
       "      <td>4465.000000</td>\n",
       "      <td>1.0</td>\n",
       "      <td>0.682153</td>\n",
       "    </tr>\n",
       "    <tr>\n",
       "      <th>max</th>\n",
       "      <td>5989.000000</td>\n",
       "      <td>5989.000000</td>\n",
       "      <td>1.0</td>\n",
       "      <td>0.894841</td>\n",
       "    </tr>\n",
       "  </tbody>\n",
       "</table>\n",
       "</div>"
      ],
      "text/plain": [
       "             index   article_id   label  avg_similarity\n",
       "count  2951.000000  2951.000000  2951.0     2951.000000\n",
       "mean   3000.792274  3000.792274     1.0        0.670148\n",
       "std    1711.193383  1711.193383     0.0        0.024914\n",
       "min       2.000000     2.000000     1.0        0.562047\n",
       "25%    1532.000000  1532.000000     1.0        0.655460\n",
       "50%    3032.000000  3032.000000     1.0        0.668455\n",
       "75%    4465.000000  4465.000000     1.0        0.682153\n",
       "max    5989.000000  5989.000000     1.0        0.894841"
      ]
     },
     "execution_count": 85,
     "metadata": {},
     "output_type": "execute_result"
    }
   ],
   "source": [
    "df_label_1.describe()"
   ]
  },
  {
   "cell_type": "code",
   "execution_count": null,
   "metadata": {},
   "outputs": [
    {
     "name": "stdout",
     "output_type": "stream",
     "text": [
      "Best Threshold: 0.9488628089928814\n",
      "Best Accuracy: 0.5068493150684932\n"
     ]
    }
   ],
   "source": [
    "from sklearn.metrics import accuracy_score\n",
    "\n",
    "min_threshold = df_similarities[\"avg_similarity\"].min()\n",
    "max_threshold = df_similarities[\"avg_similarity\"].max()\n",
    "thresholds = np.linspace(min_threshold, max_threshold, 1000)\n",
    "\n",
    "best_threshold = None\n",
    "best_score = -1\n",
    "best_predictions = None\n",
    "\n",
    "for threshold in thresholds:\n",
    "\n",
    "    predictions = (df_similarities[\"avg_similarity\"] >= threshold).astype(int)\n",
    "\n",
    "    score = accuracy_score(df_similarities[\"label\"], predictions)\n",
    "\n",
    "    if score > best_score:\n",
    "        best_score = score\n",
    "        best_threshold = threshold\n",
    "        best_predictions = predictions\n",
    "\n",
    "print(f\"Best Threshold: {best_threshold}\")\n",
    "print(f\"Best Accuracy: {best_score}\")"
   ]
  },
  {
   "cell_type": "code",
   "execution_count": 87,
   "metadata": {},
   "outputs": [
    {
     "name": "stdout",
     "output_type": "stream",
     "text": [
      "Classification Report:\n",
      "              precision    recall  f1-score   support\n",
      "\n",
      "           0       0.51      1.00      0.67      3035\n",
      "           1       0.00      0.00      0.00      2951\n",
      "\n",
      "    accuracy                           0.51      5986\n",
      "   macro avg       0.25      0.50      0.34      5986\n",
      "weighted avg       0.26      0.51      0.34      5986\n",
      "\n",
      "Confusion Matrix:\n",
      "[[3034    1]\n",
      " [2951    0]]\n"
     ]
    }
   ],
   "source": [
    "from sklearn.metrics import accuracy_score, confusion_matrix, classification_report\n",
    "\n",
    "class_report = classification_report(df_similarities[\"label\"], best_predictions)\n",
    "print(\"Classification Report:\")\n",
    "print(class_report)\n",
    "\n",
    "conf_matrix = confusion_matrix(df_similarities[\"label\"], best_predictions)\n",
    "print(\"Confusion Matrix:\")\n",
    "print(conf_matrix)"
   ]
  },
  {
   "cell_type": "code",
   "execution_count": null,
   "metadata": {},
   "outputs": [
    {
     "name": "stdout",
     "output_type": "stream",
     "text": [
      "Precision: 0.000\n",
      "Recall: 0.000\n",
      "F1-Score: 0.000\n",
      "Accuracy: 0.507\n"
     ]
    }
   ],
   "source": [
    "from sklearn.metrics import precision_score, recall_score, f1_score, accuracy_score\n",
    "\n",
    "y_true = df_similarities[\"label\"]\n",
    "y_pred = best_predictions\n",
    "\n",
    "precision = precision_score(y_true, y_pred)\n",
    "recall = recall_score(y_true, y_pred)\n",
    "f1 = f1_score(y_true, y_pred)\n",
    "accuracy = accuracy_score(y_true, y_pred)\n",
    "\n",
    "print(f\"Precision: {precision:.3f}\")\n",
    "print(f\"Recall: {recall:.3f}\")\n",
    "print(f\"F1-Score: {f1:.3f}\")\n",
    "print(f\"Accuracy: {accuracy:.3f}\")"
   ]
  },
  {
   "cell_type": "markdown",
   "metadata": {},
   "source": [
    "# Word accuracy\n"
   ]
  },
  {
   "cell_type": "code",
   "execution_count": 85,
   "metadata": {},
   "outputs": [],
   "source": [
    "import numpy as np"
   ]
  },
  {
   "cell_type": "code",
   "execution_count": null,
   "metadata": {},
   "outputs": [],
   "source": [
    "from transformers import DataCollatorForLanguageModeling\n",
    "import numpy as np\n",
    "\n",
    "data_collator = DataCollatorForLanguageModeling(\n",
    "    tokenizer=tokenizer,\n",
    "    mlm=True,\n",
    "    mlm_probability=0.15,\n",
    ")"
   ]
  },
  {
   "cell_type": "code",
   "execution_count": null,
   "metadata": {},
   "outputs": [],
   "source": [
    "def get_accuracies(dataset, model, tokenizer):\n",
    "    accuracies = []\n",
    "    for row in dataset:\n",
    "        row_masked = [copy.deepcopy(row)]\n",
    "        row_masked = data_collator(row_masked)\n",
    "        row_masked = {key: value.to(device) for key, value in row_masked.items()}\n",
    "\n",
    "        with torch.no_grad():\n",
    "            output_masked = model(**row_masked, output_hidden_states=True)\n",
    "\n",
    "        logits = output_masked.logits\n",
    "        masked_positions = (row_masked[\"labels\"] != -100).nonzero(as_tuple=True)[1]\n",
    "        predicted_tokens = torch.argmax(logits[0, masked_positions], dim=-1)\n",
    "\n",
    "        labels = row_masked[\"labels\"]\n",
    "        actual_tokens = labels[0, masked_positions]\n",
    "\n",
    "        predicted_words = [\n",
    "            tokenizer.decode([token_id], skip_special_tokens=True)\n",
    "            for token_id in predicted_tokens\n",
    "        ]\n",
    "\n",
    "        actual_words = [\n",
    "            tokenizer.decode([token_id], skip_special_tokens=True)\n",
    "            for token_id in actual_tokens\n",
    "        ]\n",
    "\n",
    "        accuracy_array = np.zeros(len(predicted_words), dtype=int)\n",
    "\n",
    "        for i in range(len(predicted_words)):\n",
    "            if predicted_words[i] == actual_words[i]:\n",
    "                accuracy_array[i] = 1\n",
    "            else:\n",
    "                accuracy_array[i] = 0\n",
    "\n",
    "        accuracies.append(accuracy_array)\n",
    "\n",
    "    return accuracies"
   ]
  },
  {
   "cell_type": "code",
   "execution_count": 99,
   "metadata": {},
   "outputs": [],
   "source": [
    "import copy\n",
    "\n",
    "\n",
    "def get_accuracies_for_articles(data, model, tokenizer):\n",
    "\n",
    "    accuracies = {}\n",
    "\n",
    "    for article in data:\n",
    "\n",
    "        chunks = article[\"data\"]\n",
    "\n",
    "        article_id = article[\"article_id\"]\n",
    "\n",
    "        label = article[\"label\"]\n",
    "\n",
    "        article_accuracies = get_accuracies(chunks, model, tokenizer)\n",
    "\n",
    "        accuracies[article_id] = {\n",
    "            \"label\": label,\n",
    "            \"article_similarities\": article_accuracies,\n",
    "        }\n",
    "\n",
    "    return accuracies"
   ]
  },
  {
   "cell_type": "code",
   "execution_count": 100,
   "metadata": {},
   "outputs": [],
   "source": [
    "all_accuracies = get_accuracies_for_articles(grouped_chunks, model, tokenizer)"
   ]
  },
  {
   "cell_type": "code",
   "execution_count": 102,
   "metadata": {},
   "outputs": [],
   "source": [
    "import pickle\n",
    "\n",
    "\n",
    "# Save defaultdict to a file\n",
    "def save_defaultdict(data, filename):\n",
    "    with open(filename, \"wb\") as f:\n",
    "        pickle.dump(data, f)\n",
    "\n",
    "\n",
    "save_defaultdict(all_accuracies, \"accuracies_generalization_256.pkl\")"
   ]
  },
  {
   "cell_type": "code",
   "execution_count": 46,
   "metadata": {},
   "outputs": [],
   "source": [
    "import pickle\n",
    "\n",
    "\n",
    "# Load defaultdict from a pickle file\n",
    "def load_defaultdict(filename):\n",
    "    with open(filename, \"rb\") as f:\n",
    "        data = pickle.load(f)\n",
    "    return data\n",
    "\n",
    "\n",
    "# Example usage\n",
    "all_accuracies = load_defaultdict(\"accuracies_generalization_256.pkl\")"
   ]
  },
  {
   "cell_type": "code",
   "execution_count": 47,
   "metadata": {},
   "outputs": [
    {
     "data": {
      "text/plain": [
       "{'label': 0,\n",
       " 'article_similarities': [array([1, 1, 1, 1, 1, 1, 0, 0, 0, 0, 0, 0, 1, 1, 1, 0, 1, 1, 1, 1, 1, 1,\n",
       "         1, 1, 0, 0, 0, 0, 0, 1, 0, 0, 1, 0, 1, 1, 0, 1, 0]),\n",
       "  array([0, 0, 1, 1, 1, 1, 1, 0, 1, 1, 0, 1, 1, 1, 1, 0, 1, 1, 1, 1, 1, 1,\n",
       "         0, 1, 1, 0, 1, 1, 1, 0]),\n",
       "  array([1, 0, 0, 1, 0, 0, 0, 1, 0, 1, 0, 0, 0, 0, 0, 1, 1, 1, 0, 1, 1, 1,\n",
       "         0, 0, 1, 1, 0, 0, 0, 0, 1, 0, 1, 0, 0, 1, 1, 0, 1, 0, 1]),\n",
       "  array([1, 1, 1, 0, 1, 0, 1, 1, 0, 1, 1, 1, 0, 0, 1, 0, 0, 0, 1, 0, 1, 1,\n",
       "         1, 1, 0, 1, 1, 0, 1, 1, 1, 1, 1, 1, 0, 1, 1, 0, 1, 0, 1, 0, 0]),\n",
       "  array([0, 0, 0, 1, 0, 0, 0, 1, 1, 1, 1, 0, 1, 1, 1, 1, 1, 1, 1, 1, 1, 0,\n",
       "         0, 1, 0, 0, 0, 0, 1, 1, 0, 1, 1, 0, 1, 0, 0, 0, 1, 1, 0, 1, 1, 0]),\n",
       "  array([0, 1, 1, 0, 1, 1, 0, 1, 0, 0, 1, 1, 0, 1, 1, 1, 0, 1, 0, 1, 0, 1,\n",
       "         0, 1, 0, 1, 1, 0, 1, 1, 0, 0, 1, 0, 1, 1, 1, 1, 0, 0]),\n",
       "  array([1, 0, 0, 0, 1])]}"
      ]
     },
     "execution_count": 47,
     "metadata": {},
     "output_type": "execute_result"
    }
   ],
   "source": [
    "all_accuracies[0]"
   ]
  },
  {
   "cell_type": "code",
   "execution_count": 33,
   "metadata": {},
   "outputs": [],
   "source": [
    "import pandas as pd\n",
    "import numpy as np\n",
    "\n",
    "\n",
    "def create_accuracy_dataframe(grouped_chunks):\n",
    "    data = []\n",
    "\n",
    "    for article_id, values in grouped_chunks.items():\n",
    "\n",
    "        label = values[\"label\"]\n",
    "        article_accuracies = values[\"article_similarities\"]\n",
    "\n",
    "        # Flatten the list of lists and calculate the average similarity\n",
    "        flat_list = [item for sublist in article_accuracies for item in sublist]\n",
    "        avg_similarity = np.mean(flat_list)\n",
    "\n",
    "        # Append data as a dictionary\n",
    "        data.append(\n",
    "            {\"article_id\": article_id, \"label\": label, \"accuracy\": avg_similarity}\n",
    "        )\n",
    "    # Create a pandas DataFrame from the list of dictionaries\n",
    "    df = pd.DataFrame(data)\n",
    "    return df"
   ]
  },
  {
   "cell_type": "code",
   "execution_count": 123,
   "metadata": {},
   "outputs": [],
   "source": [
    "import matplotlib.pyplot as plt\n",
    "import seaborn as sns"
   ]
  },
  {
   "cell_type": "code",
   "execution_count": 20,
   "metadata": {},
   "outputs": [],
   "source": [
    "all_similarities_256 = load_defaultdict(\"accuracies_generalization_256.pkl\")\n",
    "all_similarities_128 = load_defaultdict(\"accuracies_generalization_128.pkl\")"
   ]
  },
  {
   "cell_type": "code",
   "execution_count": 21,
   "metadata": {},
   "outputs": [
    {
     "name": "stderr",
     "output_type": "stream",
     "text": [
      "c:\\Users\\matej\\SKOLA\\Diplomovka\\Code\\EmbeddingModels\\.venv\\Lib\\site-packages\\numpy\\core\\fromnumeric.py:3504: RuntimeWarning: Mean of empty slice.\n",
      "  return _methods._mean(a, axis=axis, dtype=dtype,\n",
      "c:\\Users\\matej\\SKOLA\\Diplomovka\\Code\\EmbeddingModels\\.venv\\Lib\\site-packages\\numpy\\core\\_methods.py:129: RuntimeWarning: invalid value encountered in scalar divide\n",
      "  ret = ret.dtype.type(ret / rcount)\n"
     ]
    }
   ],
   "source": [
    "df_similarities_128 = create_similarity_dataframe(all_similarities_128)\n",
    "df_similarities_256 = create_similarity_dataframe(all_similarities_256)"
   ]
  },
  {
   "cell_type": "code",
   "execution_count": 22,
   "metadata": {},
   "outputs": [],
   "source": [
    "df_similarities_128 = df_similarities_128.dropna()\n",
    "df_similarities_256 = df_similarities_256.dropna()"
   ]
  },
  {
   "cell_type": "code",
   "execution_count": 23,
   "metadata": {},
   "outputs": [],
   "source": [
    "df_label_0_128 = df_similarities_128[df_similarities_128[\"label\"] == 0]\n",
    "df_label_1_128 = df_similarities_128[df_similarities_128[\"label\"] == 1]\n",
    "df_label_0_256 = df_similarities_256[df_similarities_256[\"label\"] == 0]\n",
    "df_label_1_256 = df_similarities_256[df_similarities_256[\"label\"] == 1]"
   ]
  },
  {
   "cell_type": "code",
   "execution_count": null,
   "metadata": {},
   "outputs": [
    {
     "data": {
      "text/plain": [
       "0.5"
      ]
     },
     "execution_count": 24,
     "metadata": {},
     "output_type": "execute_result"
    }
   ],
   "source": [
    "df_label_0_128[\"accuracy\"].median()"
   ]
  },
  {
   "cell_type": "code",
   "execution_count": null,
   "metadata": {},
   "outputs": [
    {
     "data": {
      "text/plain": [
       "0.5729751872659176"
      ]
     },
     "execution_count": 25,
     "metadata": {},
     "output_type": "execute_result"
    }
   ],
   "source": [
    "df_label_1_128[\"accuracy\"].median()"
   ]
  },
  {
   "cell_type": "code",
   "execution_count": null,
   "metadata": {},
   "outputs": [
    {
     "data": {
      "text/plain": [
       "0.5166271721958926"
      ]
     },
     "execution_count": 26,
     "metadata": {},
     "output_type": "execute_result"
    }
   ],
   "source": [
    "df_label_0_256[\"accuracy\"].median()"
   ]
  },
  {
   "cell_type": "code",
   "execution_count": null,
   "metadata": {},
   "outputs": [
    {
     "data": {
      "text/plain": [
       "0.5829336943469249"
      ]
     },
     "execution_count": 27,
     "metadata": {},
     "output_type": "execute_result"
    }
   ],
   "source": [
    "df_label_1_256[\"accuracy\"].median()"
   ]
  },
  {
   "cell_type": "code",
   "execution_count": null,
   "metadata": {},
   "outputs": [
    {
     "name": "stderr",
     "output_type": "stream",
     "text": [
      "C:\\Users\\matej\\AppData\\Local\\Temp\\ipykernel_23888\\3884576652.py:17: MatplotlibDeprecationWarning: The 'labels' parameter of boxplot() has been renamed 'tick_labels' since Matplotlib 3.9; support for the old name will be dropped in 3.11.\n",
      "  plt.boxplot(\n"
     ]
    },
    {
     "data": {
      "image/png": "[encoded data removed]",
      "text/plain": [
       "<Figure size 800x600 with 1 Axes>"
      ]
     },
     "metadata": {},
     "output_type": "display_data"
    }
   ],
   "source": [
    "# Combine into a list for plotting\n",
    "data = [\n",
    "    df_label_0_128[\"accuracy\"],\n",
    "    df_label_1_128[\"accuracy\"],\n",
    "    df_label_0_256[\"accuracy\"],\n",
    "    df_label_1_256[\"accuracy\"],\n",
    "]\n",
    "labels = [\n",
    "    \"False Articles (128)\",\n",
    "    \"True Articles (128)\",\n",
    "    \"False Articles (256)\",\n",
    "    \"True Articles (256)\",\n",
    "]\n",
    "\n",
    "# Create the box plot\n",
    "plt.figure(figsize=(8, 6))\n",
    "plt.boxplot(\n",
    "    data,\n",
    "    labels=labels,\n",
    "    patch_artist=True,\n",
    "    boxprops=dict(facecolor=\"lightblue\"),  # Color for boxes\n",
    "    medianprops=dict(color=\"red\"),\n",
    ")  # Color for median lines\n",
    "\n",
    "plt.grid(True, linewidth=0.5, alpha=0.7)\n",
    "\n",
    "# Add title and labels\n",
    "plt.title(\"Box Plot of Accuracy for True vs. False Articles\")\n",
    "plt.ylabel(\"Accuracy\")\n",
    "\n",
    "# Show the plot\n",
    "plt.savefig(\"boxplot_accuracy.png\", dpi=300, bbox_inches=\"tight\", transparent=True)\n",
    "plt.show()"
   ]
  },
  {
   "cell_type": "code",
   "execution_count": null,
   "metadata": {},
   "outputs": [
    {
     "name": "stdout",
     "output_type": "stream",
     "text": [
      "0.4143430402233219\n",
      "0.7316504885166857\n",
      "0.2672955974842767\n",
      "0.728511530398323\n",
      "Number of outliers in True Articles: 98\n",
      "Number of outliers in False Articles: 108\n"
     ]
    }
   ],
   "source": [
    "def calculate_outliers(data):\n",
    "    # Calculate Q1, Q3, and IQR\n",
    "    Q1 = np.percentile(data, 25)\n",
    "    Q3 = np.percentile(data, 75)\n",
    "    IQR = Q3 - Q1\n",
    "\n",
    "    # Define outlier bounds\n",
    "    lower_bound = Q1 - 1.5 * IQR\n",
    "    upper_bound = Q3 + 1.5 * IQR\n",
    "    print(lower_bound)\n",
    "    print(upper_bound)\n",
    "    # Identify outliers\n",
    "    outliers = data[(data < lower_bound) | (data > upper_bound)]\n",
    "    return outliers\n",
    "\n",
    "\n",
    "# Calculate outliers for each class\n",
    "true_articles_outliers = calculate_outliers(df_label_1_128[\"accuracy\"])\n",
    "false_articles_outliers = calculate_outliers(df_label_0_128[\"accuracy\"])\n",
    "\n",
    "# Print the number of outliers\n",
    "print(f\"Number of outliers in True Articles: {len(true_articles_outliers)}\")\n",
    "print(f\"Number of outliers in False Articles: {len(false_articles_outliers)}\")"
   ]
  },
  {
   "cell_type": "code",
   "execution_count": null,
   "metadata": {},
   "outputs": [
    {
     "name": "stdout",
     "output_type": "stream",
     "text": [
      "0.4249713749496427\n",
      "0.738843638421895\n",
      "0.29434957471243756\n",
      "0.7376759694582518\n",
      "Number of outliers in True Articles: 89\n",
      "Number of outliers in False Articles: 146\n"
     ]
    }
   ],
   "source": [
    "# Calculate outliers for each class\n",
    "true_articles_outliers = calculate_outliers(df_label_1_256[\"accuracy\"])\n",
    "false_articles_outliers = calculate_outliers(df_label_0_256[\"accuracy\"])\n",
    "\n",
    "# Print the number of outliers\n",
    "print(f\"Number of outliers in True Articles: {len(true_articles_outliers)}\")\n",
    "print(f\"Number of outliers in False Articles: {len(false_articles_outliers)}\")"
   ]
  },
  {
   "cell_type": "code",
   "execution_count": 48,
   "metadata": {},
   "outputs": [
    {
     "name": "stderr",
     "output_type": "stream",
     "text": [
      "c:\\Users\\matej\\SKOLA\\Diplomovka\\Code\\EmbeddingModels\\.venv\\Lib\\site-packages\\numpy\\core\\fromnumeric.py:3504: RuntimeWarning: Mean of empty slice.\n",
      "  return _methods._mean(a, axis=axis, dtype=dtype,\n",
      "c:\\Users\\matej\\SKOLA\\Diplomovka\\Code\\EmbeddingModels\\.venv\\Lib\\site-packages\\numpy\\core\\_methods.py:129: RuntimeWarning: invalid value encountered in scalar divide\n",
      "  ret = ret.dtype.type(ret / rcount)\n"
     ]
    }
   ],
   "source": [
    "df_accuracies = create_accuracy_dataframe(all_accuracies)"
   ]
  },
  {
   "cell_type": "code",
   "execution_count": 49,
   "metadata": {},
   "outputs": [
    {
     "data": {
      "text/html": [
       "<div>\n",
       "<style scoped>\n",
       "    .dataframe tbody tr th:only-of-type {\n",
       "        vertical-align: middle;\n",
       "    }\n",
       "\n",
       "    .dataframe tbody tr th {\n",
       "        vertical-align: top;\n",
       "    }\n",
       "\n",
       "    .dataframe thead th {\n",
       "        text-align: right;\n",
       "    }\n",
       "</style>\n",
       "<table border=\"1\" class=\"dataframe\">\n",
       "  <thead>\n",
       "    <tr style=\"text-align: right;\">\n",
       "      <th></th>\n",
       "      <th>article_id</th>\n",
       "      <th>label</th>\n",
       "      <th>accuracy</th>\n",
       "    </tr>\n",
       "  </thead>\n",
       "  <tbody>\n",
       "    <tr>\n",
       "      <th>count</th>\n",
       "      <td>5990.000000</td>\n",
       "      <td>5990.000000</td>\n",
       "      <td>5984.000000</td>\n",
       "    </tr>\n",
       "    <tr>\n",
       "      <th>mean</th>\n",
       "      <td>2994.500000</td>\n",
       "      <td>0.492821</td>\n",
       "      <td>0.547268</td>\n",
       "    </tr>\n",
       "    <tr>\n",
       "      <th>std</th>\n",
       "      <td>1729.308388</td>\n",
       "      <td>0.499990</td>\n",
       "      <td>0.097216</td>\n",
       "    </tr>\n",
       "    <tr>\n",
       "      <th>min</th>\n",
       "      <td>0.000000</td>\n",
       "      <td>0.000000</td>\n",
       "      <td>0.000000</td>\n",
       "    </tr>\n",
       "    <tr>\n",
       "      <th>25%</th>\n",
       "      <td>1497.250000</td>\n",
       "      <td>0.000000</td>\n",
       "      <td>0.500000</td>\n",
       "    </tr>\n",
       "    <tr>\n",
       "      <th>50%</th>\n",
       "      <td>2994.500000</td>\n",
       "      <td>0.000000</td>\n",
       "      <td>0.554110</td>\n",
       "    </tr>\n",
       "    <tr>\n",
       "      <th>75%</th>\n",
       "      <td>4491.750000</td>\n",
       "      <td>1.000000</td>\n",
       "      <td>0.603448</td>\n",
       "    </tr>\n",
       "    <tr>\n",
       "      <th>max</th>\n",
       "      <td>5989.000000</td>\n",
       "      <td>1.000000</td>\n",
       "      <td>1.000000</td>\n",
       "    </tr>\n",
       "  </tbody>\n",
       "</table>\n",
       "</div>"
      ],
      "text/plain": [
       "        article_id        label     accuracy\n",
       "count  5990.000000  5990.000000  5984.000000\n",
       "mean   2994.500000     0.492821     0.547268\n",
       "std    1729.308388     0.499990     0.097216\n",
       "min       0.000000     0.000000     0.000000\n",
       "25%    1497.250000     0.000000     0.500000\n",
       "50%    2994.500000     0.000000     0.554110\n",
       "75%    4491.750000     1.000000     0.603448\n",
       "max    5989.000000     1.000000     1.000000"
      ]
     },
     "execution_count": 49,
     "metadata": {},
     "output_type": "execute_result"
    }
   ],
   "source": [
    "df_accuracies.describe()"
   ]
  },
  {
   "cell_type": "code",
   "execution_count": 50,
   "metadata": {},
   "outputs": [],
   "source": [
    "df_accuracies = df_accuracies.dropna()"
   ]
  },
  {
   "cell_type": "code",
   "execution_count": 51,
   "metadata": {},
   "outputs": [],
   "source": [
    "df_label_0 = df_accuracies[df_accuracies[\"label\"] == 0]\n",
    "df_label_1 = df_accuracies[df_accuracies[\"label\"] == 1]"
   ]
  },
  {
   "cell_type": "code",
   "execution_count": 52,
   "metadata": {},
   "outputs": [],
   "source": [
    "df_label_0 = df_label_0.reset_index()\n",
    "df_label_1 = df_label_1.reset_index()"
   ]
  },
  {
   "cell_type": "code",
   "execution_count": 53,
   "metadata": {},
   "outputs": [
    {
     "data": {
      "text/html": [
       "<div>\n",
       "<style scoped>\n",
       "    .dataframe tbody tr th:only-of-type {\n",
       "        vertical-align: middle;\n",
       "    }\n",
       "\n",
       "    .dataframe tbody tr th {\n",
       "        vertical-align: top;\n",
       "    }\n",
       "\n",
       "    .dataframe thead th {\n",
       "        text-align: right;\n",
       "    }\n",
       "</style>\n",
       "<table border=\"1\" class=\"dataframe\">\n",
       "  <thead>\n",
       "    <tr style=\"text-align: right;\">\n",
       "      <th></th>\n",
       "      <th>index</th>\n",
       "      <th>article_id</th>\n",
       "      <th>label</th>\n",
       "      <th>accuracy</th>\n",
       "    </tr>\n",
       "  </thead>\n",
       "  <tbody>\n",
       "    <tr>\n",
       "      <th>count</th>\n",
       "      <td>3036.000000</td>\n",
       "      <td>3036.000000</td>\n",
       "      <td>3036.0</td>\n",
       "      <td>3036.000000</td>\n",
       "    </tr>\n",
       "    <tr>\n",
       "      <th>mean</th>\n",
       "      <td>2989.642292</td>\n",
       "      <td>2989.642292</td>\n",
       "      <td>0.0</td>\n",
       "      <td>0.512914</td>\n",
       "    </tr>\n",
       "    <tr>\n",
       "      <th>std</th>\n",
       "      <td>1746.913551</td>\n",
       "      <td>1746.913551</td>\n",
       "      <td>0.0</td>\n",
       "      <td>0.106146</td>\n",
       "    </tr>\n",
       "    <tr>\n",
       "      <th>min</th>\n",
       "      <td>0.000000</td>\n",
       "      <td>0.000000</td>\n",
       "      <td>0.0</td>\n",
       "      <td>0.000000</td>\n",
       "    </tr>\n",
       "    <tr>\n",
       "      <th>25%</th>\n",
       "      <td>1473.750000</td>\n",
       "      <td>1473.750000</td>\n",
       "      <td>0.0</td>\n",
       "      <td>0.460597</td>\n",
       "    </tr>\n",
       "    <tr>\n",
       "      <th>50%</th>\n",
       "      <td>2956.000000</td>\n",
       "      <td>2956.000000</td>\n",
       "      <td>0.0</td>\n",
       "      <td>0.516627</td>\n",
       "    </tr>\n",
       "    <tr>\n",
       "      <th>75%</th>\n",
       "      <td>4524.750000</td>\n",
       "      <td>4524.750000</td>\n",
       "      <td>0.0</td>\n",
       "      <td>0.571429</td>\n",
       "    </tr>\n",
       "    <tr>\n",
       "      <th>max</th>\n",
       "      <td>5987.000000</td>\n",
       "      <td>5987.000000</td>\n",
       "      <td>0.0</td>\n",
       "      <td>1.000000</td>\n",
       "    </tr>\n",
       "  </tbody>\n",
       "</table>\n",
       "</div>"
      ],
      "text/plain": [
       "             index   article_id   label     accuracy\n",
       "count  3036.000000  3036.000000  3036.0  3036.000000\n",
       "mean   2989.642292  2989.642292     0.0     0.512914\n",
       "std    1746.913551  1746.913551     0.0     0.106146\n",
       "min       0.000000     0.000000     0.0     0.000000\n",
       "25%    1473.750000  1473.750000     0.0     0.460597\n",
       "50%    2956.000000  2956.000000     0.0     0.516627\n",
       "75%    4524.750000  4524.750000     0.0     0.571429\n",
       "max    5987.000000  5987.000000     0.0     1.000000"
      ]
     },
     "execution_count": 53,
     "metadata": {},
     "output_type": "execute_result"
    }
   ],
   "source": [
    "df_label_0.describe()"
   ]
  },
  {
   "cell_type": "code",
   "execution_count": 54,
   "metadata": {},
   "outputs": [
    {
     "data": {
      "text/html": [
       "<div>\n",
       "<style scoped>\n",
       "    .dataframe tbody tr th:only-of-type {\n",
       "        vertical-align: middle;\n",
       "    }\n",
       "\n",
       "    .dataframe tbody tr th {\n",
       "        vertical-align: top;\n",
       "    }\n",
       "\n",
       "    .dataframe thead th {\n",
       "        text-align: right;\n",
       "    }\n",
       "</style>\n",
       "<table border=\"1\" class=\"dataframe\">\n",
       "  <thead>\n",
       "    <tr style=\"text-align: right;\">\n",
       "      <th></th>\n",
       "      <th>index</th>\n",
       "      <th>article_id</th>\n",
       "      <th>label</th>\n",
       "      <th>accuracy</th>\n",
       "    </tr>\n",
       "  </thead>\n",
       "  <tbody>\n",
       "    <tr>\n",
       "      <th>count</th>\n",
       "      <td>2948.000000</td>\n",
       "      <td>2948.000000</td>\n",
       "      <td>2948.0</td>\n",
       "      <td>2948.000000</td>\n",
       "    </tr>\n",
       "    <tr>\n",
       "      <th>mean</th>\n",
       "      <td>3000.036974</td>\n",
       "      <td>3000.036974</td>\n",
       "      <td>1.0</td>\n",
       "      <td>0.582648</td>\n",
       "    </tr>\n",
       "    <tr>\n",
       "      <th>std</th>\n",
       "      <td>1711.092932</td>\n",
       "      <td>1711.092932</td>\n",
       "      <td>0.0</td>\n",
       "      <td>0.071525</td>\n",
       "    </tr>\n",
       "    <tr>\n",
       "      <th>min</th>\n",
       "      <td>2.000000</td>\n",
       "      <td>2.000000</td>\n",
       "      <td>1.0</td>\n",
       "      <td>0.000000</td>\n",
       "    </tr>\n",
       "    <tr>\n",
       "      <th>25%</th>\n",
       "      <td>1532.500000</td>\n",
       "      <td>1532.500000</td>\n",
       "      <td>1.0</td>\n",
       "      <td>0.542673</td>\n",
       "    </tr>\n",
       "    <tr>\n",
       "      <th>50%</th>\n",
       "      <td>3030.000000</td>\n",
       "      <td>3030.000000</td>\n",
       "      <td>1.0</td>\n",
       "      <td>0.582934</td>\n",
       "    </tr>\n",
       "    <tr>\n",
       "      <th>75%</th>\n",
       "      <td>4464.500000</td>\n",
       "      <td>4464.500000</td>\n",
       "      <td>1.0</td>\n",
       "      <td>0.621142</td>\n",
       "    </tr>\n",
       "    <tr>\n",
       "      <th>max</th>\n",
       "      <td>5989.000000</td>\n",
       "      <td>5989.000000</td>\n",
       "      <td>1.0</td>\n",
       "      <td>1.000000</td>\n",
       "    </tr>\n",
       "  </tbody>\n",
       "</table>\n",
       "</div>"
      ],
      "text/plain": [
       "             index   article_id   label     accuracy\n",
       "count  2948.000000  2948.000000  2948.0  2948.000000\n",
       "mean   3000.036974  3000.036974     1.0     0.582648\n",
       "std    1711.092932  1711.092932     0.0     0.071525\n",
       "min       2.000000     2.000000     1.0     0.000000\n",
       "25%    1532.500000  1532.500000     1.0     0.542673\n",
       "50%    3030.000000  3030.000000     1.0     0.582934\n",
       "75%    4464.500000  4464.500000     1.0     0.621142\n",
       "max    5989.000000  5989.000000     1.0     1.000000"
      ]
     },
     "execution_count": 54,
     "metadata": {},
     "output_type": "execute_result"
    }
   ],
   "source": [
    "df_label_1.describe()"
   ]
  },
  {
   "cell_type": "code",
   "execution_count": 55,
   "metadata": {},
   "outputs": [
    {
     "data": {
      "text/html": [
       "<div>\n",
       "<style scoped>\n",
       "    .dataframe tbody tr th:only-of-type {\n",
       "        vertical-align: middle;\n",
       "    }\n",
       "\n",
       "    .dataframe tbody tr th {\n",
       "        vertical-align: top;\n",
       "    }\n",
       "\n",
       "    .dataframe thead th {\n",
       "        text-align: right;\n",
       "    }\n",
       "</style>\n",
       "<table border=\"1\" class=\"dataframe\">\n",
       "  <thead>\n",
       "    <tr style=\"text-align: right;\">\n",
       "      <th></th>\n",
       "      <th>article_id</th>\n",
       "      <th>label</th>\n",
       "      <th>accuracy</th>\n",
       "    </tr>\n",
       "  </thead>\n",
       "  <tbody>\n",
       "    <tr>\n",
       "      <th>0</th>\n",
       "      <td>0</td>\n",
       "      <td>0</td>\n",
       "      <td>0.570248</td>\n",
       "    </tr>\n",
       "    <tr>\n",
       "      <th>1</th>\n",
       "      <td>1</td>\n",
       "      <td>0</td>\n",
       "      <td>0.500000</td>\n",
       "    </tr>\n",
       "    <tr>\n",
       "      <th>2</th>\n",
       "      <td>2</td>\n",
       "      <td>1</td>\n",
       "      <td>0.650000</td>\n",
       "    </tr>\n",
       "    <tr>\n",
       "      <th>3</th>\n",
       "      <td>3</td>\n",
       "      <td>0</td>\n",
       "      <td>0.583333</td>\n",
       "    </tr>\n",
       "    <tr>\n",
       "      <th>4</th>\n",
       "      <td>4</td>\n",
       "      <td>1</td>\n",
       "      <td>0.675325</td>\n",
       "    </tr>\n",
       "    <tr>\n",
       "      <th>...</th>\n",
       "      <td>...</td>\n",
       "      <td>...</td>\n",
       "      <td>...</td>\n",
       "    </tr>\n",
       "    <tr>\n",
       "      <th>5985</th>\n",
       "      <td>5985</td>\n",
       "      <td>1</td>\n",
       "      <td>0.615385</td>\n",
       "    </tr>\n",
       "    <tr>\n",
       "      <th>5986</th>\n",
       "      <td>5986</td>\n",
       "      <td>0</td>\n",
       "      <td>0.495671</td>\n",
       "    </tr>\n",
       "    <tr>\n",
       "      <th>5987</th>\n",
       "      <td>5987</td>\n",
       "      <td>0</td>\n",
       "      <td>0.521053</td>\n",
       "    </tr>\n",
       "    <tr>\n",
       "      <th>5988</th>\n",
       "      <td>5988</td>\n",
       "      <td>1</td>\n",
       "      <td>0.626866</td>\n",
       "    </tr>\n",
       "    <tr>\n",
       "      <th>5989</th>\n",
       "      <td>5989</td>\n",
       "      <td>1</td>\n",
       "      <td>0.627778</td>\n",
       "    </tr>\n",
       "  </tbody>\n",
       "</table>\n",
       "<p>5984 rows × 3 columns</p>\n",
       "</div>"
      ],
      "text/plain": [
       "      article_id  label  accuracy\n",
       "0              0      0  0.570248\n",
       "1              1      0  0.500000\n",
       "2              2      1  0.650000\n",
       "3              3      0  0.583333\n",
       "4              4      1  0.675325\n",
       "...          ...    ...       ...\n",
       "5985        5985      1  0.615385\n",
       "5986        5986      0  0.495671\n",
       "5987        5987      0  0.521053\n",
       "5988        5988      1  0.626866\n",
       "5989        5989      1  0.627778\n",
       "\n",
       "[5984 rows x 3 columns]"
      ]
     },
     "execution_count": 55,
     "metadata": {},
     "output_type": "execute_result"
    }
   ],
   "source": [
    "df_accuracies"
   ]
  },
  {
   "cell_type": "code",
   "execution_count": 56,
   "metadata": {},
   "outputs": [
    {
     "name": "stdout",
     "output_type": "stream",
     "text": [
      "Best Threshold: 0.5375375375375375\n",
      "Best Accuracy: 0.6903409090909091\n"
     ]
    }
   ],
   "source": [
    "from sklearn.metrics import accuracy_score\n",
    "\n",
    "# Define the range of thresholds\n",
    "min_threshold = df_accuracies[\"accuracy\"].min()\n",
    "max_threshold = df_accuracies[\"accuracy\"].max()\n",
    "thresholds = np.linspace(min_threshold, max_threshold, 1000)\n",
    "\n",
    "# Initialize variables to track the best threshold and score\n",
    "best_threshold = None\n",
    "best_score = -1\n",
    "best_predictions = None  # Variable to store predictions for the best threshold\n",
    "\n",
    "# Iterate over thresholds\n",
    "for threshold in thresholds:\n",
    "    # Apply threshold to create predictions\n",
    "    predictions = (df_accuracies[\"accuracy\"] >= threshold).astype(int)\n",
    "\n",
    "    # Calculate accuracy\n",
    "    score = accuracy_score(df_accuracies[\"label\"], predictions)\n",
    "\n",
    "    # Update best threshold and score if this is the best so far\n",
    "    if score > best_score:\n",
    "        best_score = score\n",
    "        best_threshold = threshold\n",
    "        best_predictions = predictions  # Save the predictions for the best threshold\n",
    "\n",
    "print(f\"Best Threshold: {best_threshold}\")\n",
    "print(f\"Best Accuracy: {best_score}\")"
   ]
  },
  {
   "cell_type": "code",
   "execution_count": 57,
   "metadata": {},
   "outputs": [
    {
     "name": "stdout",
     "output_type": "stream",
     "text": [
      "Classification Report:\n",
      "              precision    recall  f1-score   support\n",
      "\n",
      "           0       0.74      0.60      0.66      3036\n",
      "           1       0.66      0.78      0.71      2948\n",
      "\n",
      "    accuracy                           0.69      5984\n",
      "   macro avg       0.70      0.69      0.69      5984\n",
      "weighted avg       0.70      0.69      0.69      5984\n",
      "\n",
      "Confusion Matrix:\n",
      "[[1835 1201]\n",
      " [ 652 2296]]\n"
     ]
    }
   ],
   "source": [
    "from sklearn.metrics import accuracy_score, confusion_matrix, classification_report\n",
    "\n",
    "class_report = classification_report(df_accuracies[\"label\"], best_predictions)\n",
    "print(\"Classification Report:\")\n",
    "print(class_report)\n",
    "\n",
    "conf_matrix = confusion_matrix(df_accuracies[\"label\"], best_predictions)\n",
    "print(\"Confusion Matrix:\")\n",
    "print(conf_matrix)"
   ]
  },
  {
   "cell_type": "code",
   "execution_count": 58,
   "metadata": {},
   "outputs": [
    {
     "name": "stdout",
     "output_type": "stream",
     "text": [
      "Precision: 0.6566\n",
      "Recall: 0.7788\n",
      "F1-Score: 0.7125\n",
      "Accuracy: 0.6903\n"
     ]
    }
   ],
   "source": [
    "from sklearn.metrics import precision_score, recall_score, f1_score, accuracy_score\n",
    "\n",
    "# Replace these with your actual data\n",
    "y_true = df_accuracies[\"label\"]\n",
    "y_pred = best_predictions\n",
    "\n",
    "# Compute metrics\n",
    "precision = precision_score(y_true, y_pred)  # or 'macro' if you prefer\n",
    "recall = recall_score(y_true, y_pred)\n",
    "f1 = f1_score(y_true, y_pred)\n",
    "accuracy = accuracy_score(y_true, y_pred)\n",
    "\n",
    "print(f\"Precision: {precision:.4f}\")\n",
    "print(f\"Recall: {recall:.4f}\")\n",
    "print(f\"F1-Score: {f1:.4f}\")\n",
    "print(f\"Accuracy: {accuracy:.4f}\")"
   ]
  },
  {
   "cell_type": "code",
   "execution_count": 59,
   "metadata": {},
   "outputs": [
    {
     "data": {
      "text/plain": [
       "label\n",
       "0    3036\n",
       "1    2948\n",
       "Name: count, dtype: int64"
      ]
     },
     "execution_count": 59,
     "metadata": {},
     "output_type": "execute_result"
    }
   ],
   "source": [
    "df_accuracies[\"label\"].value_counts()"
   ]
  },
  {
   "cell_type": "code",
   "execution_count": null,
   "metadata": {},
   "outputs": [],
   "source": []
  }
 ],
 "metadata": {
  "kernelspec": {
   "display_name": ".venv",
   "language": "python",
   "name": "python3"
  },
  "language_info": {
   "codemirror_mode": {
    "name": "ipython",
    "version": 3
   },
   "file_extension": ".py",
   "mimetype": "text/x-python",
   "name": "python",
   "nbconvert_exporter": "python",
   "pygments_lexer": "ipython3",
   "version": "3.12.3"
  }
 },
 "nbformat": 4,
 "nbformat_minor": 2
}

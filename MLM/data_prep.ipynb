{
 "cells": [
  {
   "cell_type": "code",
   "execution_count": 3,
   "metadata": {},
   "outputs": [],
   "source": [
    "import pandas as pd\n",
    "from transformers import BertTokenizerFast\n",
    "import pandas\n",
    "import numpy as np\n",
    "import re"
   ]
  },
  {
   "cell_type": "code",
   "execution_count": 4,
   "metadata": {},
   "outputs": [],
   "source": [
    "tokenizer = BertTokenizerFast.from_pretrained(\"bert-base-cased\")"
   ]
  },
  {
   "cell_type": "code",
   "execution_count": 6,
   "metadata": {},
   "outputs": [],
   "source": [
    "output = tokenizer(\"Random tokenizer text example\")"
   ]
  },
  {
   "cell_type": "code",
   "execution_count": 7,
   "metadata": {},
   "outputs": [
    {
     "data": {
      "text/plain": [
       "{'input_ids': [101, 6721, 19204, 17629, 3793, 2742, 102], 'token_type_ids': [0, 0, 0, 0, 0, 0, 0], 'attention_mask': [1, 1, 1, 1, 1, 1, 1]}"
      ]
     },
     "execution_count": 7,
     "metadata": {},
     "output_type": "execute_result"
    }
   ],
   "source": [
    "output"
   ]
  },
  {
   "cell_type": "code",
   "execution_count": 8,
   "metadata": {},
   "outputs": [
    {
     "data": {
      "text/plain": [
       "['[CLS]', 'random', 'token', '##izer', 'text', 'example', '[SEP]']"
      ]
     },
     "execution_count": 8,
     "metadata": {},
     "output_type": "execute_result"
    }
   ],
   "source": [
    "tokens = tokenizer.convert_ids_to_tokens(output[\"input_ids\"])\n",
    "tokens"
   ]
  },
  {
   "cell_type": "code",
   "execution_count": 9,
   "metadata": {},
   "outputs": [],
   "source": [
    "df = pandas.read_csv(\"../TRAINING_DATASET_wo_LIAR.csv\")"
   ]
  },
  {
   "cell_type": "code",
   "execution_count": 5,
   "metadata": {},
   "outputs": [],
   "source": [
    "from sklearn.model_selection import train_test_split"
   ]
  },
  {
   "cell_type": "code",
   "execution_count": 5,
   "metadata": {},
   "outputs": [
    {
     "name": "stdout",
     "output_type": "stream",
     "text": [
      "House Dem Aide: We Didn’t Even See Comey’s Letter Until Jason Chaffetz Tweeted It By Darrell Lucus on October 30, 2016 Subscribe Jason Chaffetz on the stump in American Fork, Utah ( image courtesy Michael Jolley, available under a Creative Commons-BY license) \n",
      "With apologies to Keith Olbermann, there is no doubt who the Worst Person in The World is this week–FBI Director James Comey. But according to a House Democratic aide, it looks like we also know who the second-worst person is as well. It turns out that when Comey sent his now-infamous letter announcing that the FBI was looking into emails that may be related to Hillary Clinton’s email server, the ranking Democrats on the relevant committees didn’t hear about it from Comey. They found out via a tweet from one of the Republican committee chairmen. \n",
      "As we now know, Comey notified the Republican chairmen and Democratic ranking members of the House Intelligence, Judiciary, and Oversight committees that his agency was reviewing emails it had recently discovered in order to see if they contained classified information. Not long after this letter went out, Oversight Committee Chairman Jason Chaffetz set the political world ablaze with this tweet. FBI Dir just informed me, \"The FBI has learned of the existence of emails that appear to be pertinent to the investigation.\" Case reopened \n",
      "— Jason Chaffetz (@jasoninthehouse) October 28, 2016 \n",
      "Of course, we now know that this was not the case . Comey was actually saying that it was reviewing the emails in light of “an unrelated case”–which we now know to be Anthony Weiner’s sexting with a teenager. But apparently such little things as facts didn’t matter to Chaffetz. The Utah Republican had already vowed to initiate a raft of investigations if Hillary wins–at least two years’ worth, and possibly an entire term’s worth of them. Apparently Chaffetz thought the FBI was already doing his work for him–resulting in a tweet that briefly roiled the nation before cooler heads realized it was a dud. \n",
      "But according to a senior House Democratic aide, misreading that letter may have been the least of Chaffetz’ sins. That aide told Shareblue that his boss and other Democrats didn’t even know about Comey’s letter at the time–and only found out when they checked Twitter. “Democratic Ranking Members on the relevant committees didn’t receive Comey’s letter until after the Republican Chairmen. In fact, the Democratic Ranking Members didn’ receive it until after the Chairman of the Oversight and Government Reform Committee, Jason Chaffetz, tweeted it out and made it public.” \n",
      "So let’s see if we’ve got this right. The FBI director tells Chaffetz and other GOP committee chairmen about a major development in a potentially politically explosive investigation, and neither Chaffetz nor his other colleagues had the courtesy to let their Democratic counterparts know about it. Instead, according to this aide, he made them find out about it on Twitter. \n",
      "There has already been talk on Daily Kos that Comey himself provided advance notice of this letter to Chaffetz and other Republicans, giving them time to turn on the spin machine. That may make for good theater, but there is nothing so far that even suggests this is the case. After all, there is nothing so far that suggests that Comey was anything other than grossly incompetent and tone-deaf. \n",
      "What it does suggest, however, is that Chaffetz is acting in a way that makes Dan Burton and Darrell Issa look like models of responsibility and bipartisanship. He didn’t even have the decency to notify ranking member Elijah Cummings about something this explosive. If that doesn’t trample on basic standards of fairness, I don’t know what does. \n",
      "Granted, it’s not likely that Chaffetz will have to answer for this. He sits in a ridiculously Republican district anchored in Provo and Orem; it has a Cook Partisan Voting Index of R+25, and gave Mitt Romney a punishing 78 percent of the vote in 2012. Moreover, the Republican House leadership has given its full support to Chaffetz’ planned fishing expedition. But that doesn’t mean we can’t turn the hot lights on him. After all, he is a textbook example of what the House has become under Republican control. And he is also the Second Worst Person in the World. About Darrell Lucus \n",
      "Darrell is a 30-something graduate of the University of North Carolina who considers himself a journalist of the old school. An attempt to turn him into a member of the religious right in college only succeeded in turning him into the religious right's worst nightmare--a charismatic Christian who is an unapologetic liberal. His desire to stand up for those who have been scared into silence only increased when he survived an abusive three-year marriage. You may know him on Daily Kos as Christian Dem in NC . Follow him on Twitter @DarrellLucus or connect with him on Facebook . Click here to buy Darrell a Mello Yello. Connect\n"
     ]
    }
   ],
   "source": [
    "print(df.iloc[0][\"text\"])"
   ]
  },
  {
   "cell_type": "code",
   "execution_count": 39,
   "metadata": {},
   "outputs": [
    {
     "data": {
      "text/html": [
       "<div>\n",
       "<style scoped>\n",
       "    .dataframe tbody tr th:only-of-type {\n",
       "        vertical-align: middle;\n",
       "    }\n",
       "\n",
       "    .dataframe tbody tr th {\n",
       "        vertical-align: top;\n",
       "    }\n",
       "\n",
       "    .dataframe thead th {\n",
       "        text-align: right;\n",
       "    }\n",
       "</style>\n",
       "<table border=\"1\" class=\"dataframe\">\n",
       "  <thead>\n",
       "    <tr style=\"text-align: right;\">\n",
       "      <th></th>\n",
       "      <th>label</th>\n",
       "      <th>text</th>\n",
       "    </tr>\n",
       "  </thead>\n",
       "  <tbody>\n",
       "    <tr>\n",
       "      <th>0</th>\n",
       "      <td>0</td>\n",
       "      <td>House Dem Aide: We Didn’t Even See Comey’s Let...</td>\n",
       "    </tr>\n",
       "    <tr>\n",
       "      <th>1</th>\n",
       "      <td>1</td>\n",
       "      <td>Ever get the feeling your life circles the rou...</td>\n",
       "    </tr>\n",
       "    <tr>\n",
       "      <th>2</th>\n",
       "      <td>0</td>\n",
       "      <td>Why the Truth Might Get You Fired October 29, ...</td>\n",
       "    </tr>\n",
       "    <tr>\n",
       "      <th>3</th>\n",
       "      <td>0</td>\n",
       "      <td>Print \\nAn Iranian woman has been sentenced to...</td>\n",
       "    </tr>\n",
       "    <tr>\n",
       "      <th>4</th>\n",
       "      <td>1</td>\n",
       "      <td>In these trying times, Jackie Mason is the Voi...</td>\n",
       "    </tr>\n",
       "    <tr>\n",
       "      <th>...</th>\n",
       "      <td>...</td>\n",
       "      <td>...</td>\n",
       "    </tr>\n",
       "    <tr>\n",
       "      <th>56534</th>\n",
       "      <td>1</td>\n",
       "      <td>NATO allies on Tuesday welcomed President Dona...</td>\n",
       "    </tr>\n",
       "    <tr>\n",
       "      <th>56535</th>\n",
       "      <td>1</td>\n",
       "      <td>LexisNexis, a provider of legal, regulatory an...</td>\n",
       "    </tr>\n",
       "    <tr>\n",
       "      <th>56536</th>\n",
       "      <td>1</td>\n",
       "      <td>In the shadow of disused Soviet-era factories ...</td>\n",
       "    </tr>\n",
       "    <tr>\n",
       "      <th>56537</th>\n",
       "      <td>1</td>\n",
       "      <td>Vatican Secretary of State Cardinal Pietro Par...</td>\n",
       "    </tr>\n",
       "    <tr>\n",
       "      <th>56538</th>\n",
       "      <td>1</td>\n",
       "      <td>Indonesia will buy 11 Sukhoi fighter jets wort...</td>\n",
       "    </tr>\n",
       "  </tbody>\n",
       "</table>\n",
       "<p>56539 rows × 2 columns</p>\n",
       "</div>"
      ],
      "text/plain": [
       "       label                                               text\n",
       "0          0  House Dem Aide: We Didn’t Even See Comey’s Let...\n",
       "1          1  Ever get the feeling your life circles the rou...\n",
       "2          0  Why the Truth Might Get You Fired October 29, ...\n",
       "3          0  Print \\nAn Iranian woman has been sentenced to...\n",
       "4          1  In these trying times, Jackie Mason is the Voi...\n",
       "...      ...                                                ...\n",
       "56534      1  NATO allies on Tuesday welcomed President Dona...\n",
       "56535      1  LexisNexis, a provider of legal, regulatory an...\n",
       "56536      1  In the shadow of disused Soviet-era factories ...\n",
       "56537      1  Vatican Secretary of State Cardinal Pietro Par...\n",
       "56538      1  Indonesia will buy 11 Sukhoi fighter jets wort...\n",
       "\n",
       "[56539 rows x 2 columns]"
      ]
     },
     "execution_count": 39,
     "metadata": {},
     "output_type": "execute_result"
    }
   ],
   "source": [
    "df"
   ]
  },
  {
   "cell_type": "code",
   "execution_count": 11,
   "metadata": {},
   "outputs": [],
   "source": [
    "train_df, test_df = train_test_split(df, test_size=0.2, random_state=42)"
   ]
  },
  {
   "cell_type": "code",
   "execution_count": 12,
   "metadata": {},
   "outputs": [
    {
     "data": {
      "text/plain": [
       "label\n",
       "1    25254\n",
       "0    19977\n",
       "Name: count, dtype: int64"
      ]
     },
     "execution_count": 12,
     "metadata": {},
     "output_type": "execute_result"
    }
   ],
   "source": [
    "train_df[\"label\"].value_counts()"
   ]
  },
  {
   "cell_type": "code",
   "execution_count": 13,
   "metadata": {},
   "outputs": [
    {
     "data": {
      "text/plain": [
       "label\n",
       "1    6322\n",
       "0    4986\n",
       "Name: count, dtype: int64"
      ]
     },
     "execution_count": 13,
     "metadata": {},
     "output_type": "execute_result"
    }
   ],
   "source": [
    "test_df[\"label\"].value_counts()"
   ]
  },
  {
   "cell_type": "code",
   "execution_count": 14,
   "metadata": {},
   "outputs": [],
   "source": [
    "train_df.to_csv(\"Training_split4.csv\", index=False, encoding=\"utf-8\")"
   ]
  },
  {
   "cell_type": "code",
   "execution_count": 15,
   "metadata": {},
   "outputs": [],
   "source": [
    "test_df.to_csv(\"Testing_split4.csv\", index=False, encoding=\"utf-8\")"
   ]
  },
  {
   "cell_type": "code",
   "execution_count": 7,
   "metadata": {},
   "outputs": [
    {
     "data": {
      "text/html": [
       "<div>\n",
       "<style scoped>\n",
       "    .dataframe tbody tr th:only-of-type {\n",
       "        vertical-align: middle;\n",
       "    }\n",
       "\n",
       "    .dataframe tbody tr th {\n",
       "        vertical-align: top;\n",
       "    }\n",
       "\n",
       "    .dataframe thead th {\n",
       "        text-align: right;\n",
       "    }\n",
       "</style>\n",
       "<table border=\"1\" class=\"dataframe\">\n",
       "  <thead>\n",
       "    <tr style=\"text-align: right;\">\n",
       "      <th></th>\n",
       "      <th>label</th>\n",
       "      <th>text</th>\n",
       "    </tr>\n",
       "  </thead>\n",
       "  <tbody>\n",
       "    <tr>\n",
       "      <th>0</th>\n",
       "      <td>1</td>\n",
       "      <td>RIO DE JANEIRO  —   The American swimmers Ryan...</td>\n",
       "    </tr>\n",
       "    <tr>\n",
       "      <th>1</th>\n",
       "      <td>1</td>\n",
       "      <td>Colombia and the Marxist ELN rebels began a ce...</td>\n",
       "    </tr>\n",
       "    <tr>\n",
       "      <th>2</th>\n",
       "      <td>1</td>\n",
       "      <td>The U.S. Supreme Court on Monday declined to h...</td>\n",
       "    </tr>\n",
       "    <tr>\n",
       "      <th>3</th>\n",
       "      <td>0</td>\n",
       "      <td>0 comments \\nWhen Obamacare was voted in, it w...</td>\n",
       "    </tr>\n",
       "    <tr>\n",
       "      <th>4</th>\n",
       "      <td>0</td>\n",
       "      <td>The infamous conservative Republican financier...</td>\n",
       "    </tr>\n",
       "    <tr>\n",
       "      <th>...</th>\n",
       "      <td>...</td>\n",
       "      <td>...</td>\n",
       "    </tr>\n",
       "    <tr>\n",
       "      <th>45226</th>\n",
       "      <td>1</td>\n",
       "      <td>North Korea said on Saturday targeting the U.S...</td>\n",
       "    </tr>\n",
       "    <tr>\n",
       "      <th>45227</th>\n",
       "      <td>1</td>\n",
       "      <td>The U.S. House Intelligence Committee wants Do...</td>\n",
       "    </tr>\n",
       "    <tr>\n",
       "      <th>45228</th>\n",
       "      <td>0</td>\n",
       "      <td>Apple HomeKit home security security smart house</td>\n",
       "    </tr>\n",
       "    <tr>\n",
       "      <th>45229</th>\n",
       "      <td>0</td>\n",
       "      <td>Report Copyright Violation I'm at Sonic eating...</td>\n",
       "    </tr>\n",
       "    <tr>\n",
       "      <th>45230</th>\n",
       "      <td>1</td>\n",
       "      <td>Abu Yazan has rarely stepped out of his apartm...</td>\n",
       "    </tr>\n",
       "  </tbody>\n",
       "</table>\n",
       "<p>45231 rows × 2 columns</p>\n",
       "</div>"
      ],
      "text/plain": [
       "       label                                               text\n",
       "0          1  RIO DE JANEIRO  —   The American swimmers Ryan...\n",
       "1          1  Colombia and the Marxist ELN rebels began a ce...\n",
       "2          1  The U.S. Supreme Court on Monday declined to h...\n",
       "3          0  0 comments \\nWhen Obamacare was voted in, it w...\n",
       "4          0  The infamous conservative Republican financier...\n",
       "...      ...                                                ...\n",
       "45226      1  North Korea said on Saturday targeting the U.S...\n",
       "45227      1  The U.S. House Intelligence Committee wants Do...\n",
       "45228      0   Apple HomeKit home security security smart house\n",
       "45229      0  Report Copyright Violation I'm at Sonic eating...\n",
       "45230      1  Abu Yazan has rarely stepped out of his apartm...\n",
       "\n",
       "[45231 rows x 2 columns]"
      ]
     },
     "execution_count": 7,
     "metadata": {},
     "output_type": "execute_result"
    }
   ],
   "source": [
    "train_df = pd.read_csv(\"Training_split4.csv\")\n",
    "train_df"
   ]
  },
  {
   "cell_type": "code",
   "execution_count": 8,
   "metadata": {},
   "outputs": [
    {
     "data": {
      "text/html": [
       "<div>\n",
       "<style scoped>\n",
       "    .dataframe tbody tr th:only-of-type {\n",
       "        vertical-align: middle;\n",
       "    }\n",
       "\n",
       "    .dataframe tbody tr th {\n",
       "        vertical-align: top;\n",
       "    }\n",
       "\n",
       "    .dataframe thead th {\n",
       "        text-align: right;\n",
       "    }\n",
       "</style>\n",
       "<table border=\"1\" class=\"dataframe\">\n",
       "  <thead>\n",
       "    <tr style=\"text-align: right;\">\n",
       "      <th></th>\n",
       "      <th>label</th>\n",
       "      <th>text</th>\n",
       "    </tr>\n",
       "  </thead>\n",
       "  <tbody>\n",
       "    <tr>\n",
       "      <th>0</th>\n",
       "      <td>1</td>\n",
       "      <td>Pro-trade Republicans in the U.S. Congress are...</td>\n",
       "    </tr>\n",
       "    <tr>\n",
       "      <th>1</th>\n",
       "      <td>1</td>\n",
       "      <td>Police in Alabama arrested six civil rights ac...</td>\n",
       "    </tr>\n",
       "    <tr>\n",
       "      <th>2</th>\n",
       "      <td>0</td>\n",
       "      <td>Can’t make this up: Michael Moore is pissed th...</td>\n",
       "    </tr>\n",
       "    <tr>\n",
       "      <th>3</th>\n",
       "      <td>1</td>\n",
       "      <td>Sunday on ABC’s “This Week,” former Democratic...</td>\n",
       "    </tr>\n",
       "    <tr>\n",
       "      <th>4</th>\n",
       "      <td>1</td>\n",
       "      <td>Eastern Libyan forces on Thursday expelled Isl...</td>\n",
       "    </tr>\n",
       "    <tr>\n",
       "      <th>...</th>\n",
       "      <td>...</td>\n",
       "      <td>...</td>\n",
       "    </tr>\n",
       "    <tr>\n",
       "      <th>11303</th>\n",
       "      <td>0</td>\n",
       "      <td>21st Century Wire says As shocking and controv...</td>\n",
       "    </tr>\n",
       "    <tr>\n",
       "      <th>11304</th>\n",
       "      <td>0</td>\n",
       "      <td>What Exactly Are Poll Watchers? Here’s The Cli...</td>\n",
       "    </tr>\n",
       "    <tr>\n",
       "      <th>11305</th>\n",
       "      <td>0</td>\n",
       "      <td>While both of her parents travel around the co...</td>\n",
       "    </tr>\n",
       "    <tr>\n",
       "      <th>11306</th>\n",
       "      <td>1</td>\n",
       "      <td>VATICAN CITY (AP)  —   Pope Francis on Sunday ...</td>\n",
       "    </tr>\n",
       "    <tr>\n",
       "      <th>11307</th>\n",
       "      <td>1</td>\n",
       "      <td>The United Nations resumed aid convoys to besi...</td>\n",
       "    </tr>\n",
       "  </tbody>\n",
       "</table>\n",
       "<p>11308 rows × 2 columns</p>\n",
       "</div>"
      ],
      "text/plain": [
       "       label                                               text\n",
       "0          1  Pro-trade Republicans in the U.S. Congress are...\n",
       "1          1  Police in Alabama arrested six civil rights ac...\n",
       "2          0  Can’t make this up: Michael Moore is pissed th...\n",
       "3          1  Sunday on ABC’s “This Week,” former Democratic...\n",
       "4          1  Eastern Libyan forces on Thursday expelled Isl...\n",
       "...      ...                                                ...\n",
       "11303      0  21st Century Wire says As shocking and controv...\n",
       "11304      0  What Exactly Are Poll Watchers? Here’s The Cli...\n",
       "11305      0  While both of her parents travel around the co...\n",
       "11306      1  VATICAN CITY (AP)  —   Pope Francis on Sunday ...\n",
       "11307      1  The United Nations resumed aid convoys to besi...\n",
       "\n",
       "[11308 rows x 2 columns]"
      ]
     },
     "execution_count": 8,
     "metadata": {},
     "output_type": "execute_result"
    }
   ],
   "source": [
    "test_df = pd.read_csv(\"Testing_split4.csv\")\n",
    "test_df"
   ]
  },
  {
   "cell_type": "code",
   "execution_count": 10,
   "metadata": {},
   "outputs": [],
   "source": [
    "df = train_df\n",
    "df = df[df[\"label\"] == 1]"
   ]
  },
  {
   "cell_type": "code",
   "execution_count": 11,
   "metadata": {},
   "outputs": [],
   "source": [
    "df = df.reset_index()"
   ]
  },
  {
   "cell_type": "code",
   "execution_count": 12,
   "metadata": {},
   "outputs": [
    {
     "data": {
      "text/html": [
       "<div>\n",
       "<style scoped>\n",
       "    .dataframe tbody tr th:only-of-type {\n",
       "        vertical-align: middle;\n",
       "    }\n",
       "\n",
       "    .dataframe tbody tr th {\n",
       "        vertical-align: top;\n",
       "    }\n",
       "\n",
       "    .dataframe thead th {\n",
       "        text-align: right;\n",
       "    }\n",
       "</style>\n",
       "<table border=\"1\" class=\"dataframe\">\n",
       "  <thead>\n",
       "    <tr style=\"text-align: right;\">\n",
       "      <th></th>\n",
       "      <th>index</th>\n",
       "      <th>label</th>\n",
       "      <th>text</th>\n",
       "    </tr>\n",
       "  </thead>\n",
       "  <tbody>\n",
       "    <tr>\n",
       "      <th>0</th>\n",
       "      <td>0</td>\n",
       "      <td>1</td>\n",
       "      <td>RIO DE JANEIRO  —   The American swimmers Ryan...</td>\n",
       "    </tr>\n",
       "    <tr>\n",
       "      <th>1</th>\n",
       "      <td>1</td>\n",
       "      <td>1</td>\n",
       "      <td>Colombia and the Marxist ELN rebels began a ce...</td>\n",
       "    </tr>\n",
       "    <tr>\n",
       "      <th>2</th>\n",
       "      <td>2</td>\n",
       "      <td>1</td>\n",
       "      <td>The U.S. Supreme Court on Monday declined to h...</td>\n",
       "    </tr>\n",
       "    <tr>\n",
       "      <th>3</th>\n",
       "      <td>5</td>\n",
       "      <td>1</td>\n",
       "      <td>U.S. President Donald Trump fired top federal ...</td>\n",
       "    </tr>\n",
       "    <tr>\n",
       "      <th>4</th>\n",
       "      <td>6</td>\n",
       "      <td>1</td>\n",
       "      <td>President Donald Trump began talks with Republ...</td>\n",
       "    </tr>\n",
       "    <tr>\n",
       "      <th>...</th>\n",
       "      <td>...</td>\n",
       "      <td>...</td>\n",
       "      <td>...</td>\n",
       "    </tr>\n",
       "    <tr>\n",
       "      <th>25249</th>\n",
       "      <td>45224</td>\n",
       "      <td>1</td>\n",
       "      <td>“You can hear a whoosh of air as the train app...</td>\n",
       "    </tr>\n",
       "    <tr>\n",
       "      <th>25250</th>\n",
       "      <td>45225</td>\n",
       "      <td>1</td>\n",
       "      <td>The Supreme Court on Monday let stand a lower ...</td>\n",
       "    </tr>\n",
       "    <tr>\n",
       "      <th>25251</th>\n",
       "      <td>45226</td>\n",
       "      <td>1</td>\n",
       "      <td>North Korea said on Saturday targeting the U.S...</td>\n",
       "    </tr>\n",
       "    <tr>\n",
       "      <th>25252</th>\n",
       "      <td>45227</td>\n",
       "      <td>1</td>\n",
       "      <td>The U.S. House Intelligence Committee wants Do...</td>\n",
       "    </tr>\n",
       "    <tr>\n",
       "      <th>25253</th>\n",
       "      <td>45230</td>\n",
       "      <td>1</td>\n",
       "      <td>Abu Yazan has rarely stepped out of his apartm...</td>\n",
       "    </tr>\n",
       "  </tbody>\n",
       "</table>\n",
       "<p>25254 rows × 3 columns</p>\n",
       "</div>"
      ],
      "text/plain": [
       "       index  label                                               text\n",
       "0          0      1  RIO DE JANEIRO  —   The American swimmers Ryan...\n",
       "1          1      1  Colombia and the Marxist ELN rebels began a ce...\n",
       "2          2      1  The U.S. Supreme Court on Monday declined to h...\n",
       "3          5      1  U.S. President Donald Trump fired top federal ...\n",
       "4          6      1  President Donald Trump began talks with Republ...\n",
       "...      ...    ...                                                ...\n",
       "25249  45224      1  “You can hear a whoosh of air as the train app...\n",
       "25250  45225      1  The Supreme Court on Monday let stand a lower ...\n",
       "25251  45226      1  North Korea said on Saturday targeting the U.S...\n",
       "25252  45227      1  The U.S. House Intelligence Committee wants Do...\n",
       "25253  45230      1  Abu Yazan has rarely stepped out of his apartm...\n",
       "\n",
       "[25254 rows x 3 columns]"
      ]
     },
     "execution_count": 12,
     "metadata": {},
     "output_type": "execute_result"
    }
   ],
   "source": [
    "df"
   ]
  },
  {
   "cell_type": "code",
   "execution_count": null,
   "metadata": {},
   "outputs": [],
   "source": [
    "def preprocess_word(word):\n",
    "    word = re.sub(r\"[‘’]\", \"'\", word)\n",
    "    return re.sub(r\"[“”`]\", \"\", word)\n",
    "\n",
    "\n",
    "def preprocess_text(text):\n",
    "    words = text.split()\n",
    "\n",
    "    processed_words = [preprocess_word(word) for word in words]\n",
    "\n",
    "    return \" \".join(processed_words)\n",
    "\n",
    "\n",
    "df[\"processed_text\"] = df[\"text\"].apply(preprocess_text)"
   ]
  },
  {
   "cell_type": "code",
   "execution_count": 14,
   "metadata": {},
   "outputs": [
    {
     "data": {
      "text/html": [
       "<div>\n",
       "<style scoped>\n",
       "    .dataframe tbody tr th:only-of-type {\n",
       "        vertical-align: middle;\n",
       "    }\n",
       "\n",
       "    .dataframe tbody tr th {\n",
       "        vertical-align: top;\n",
       "    }\n",
       "\n",
       "    .dataframe thead th {\n",
       "        text-align: right;\n",
       "    }\n",
       "</style>\n",
       "<table border=\"1\" class=\"dataframe\">\n",
       "  <thead>\n",
       "    <tr style=\"text-align: right;\">\n",
       "      <th></th>\n",
       "      <th>index</th>\n",
       "      <th>label</th>\n",
       "      <th>text</th>\n",
       "      <th>processed_text</th>\n",
       "    </tr>\n",
       "  </thead>\n",
       "  <tbody>\n",
       "    <tr>\n",
       "      <th>0</th>\n",
       "      <td>0</td>\n",
       "      <td>1</td>\n",
       "      <td>RIO DE JANEIRO  —   The American swimmers Ryan...</td>\n",
       "      <td>RIO DE JANEIRO — The American swimmers Ryan Lo...</td>\n",
       "    </tr>\n",
       "    <tr>\n",
       "      <th>1</th>\n",
       "      <td>1</td>\n",
       "      <td>1</td>\n",
       "      <td>Colombia and the Marxist ELN rebels began a ce...</td>\n",
       "      <td>Colombia and the Marxist ELN rebels began a ce...</td>\n",
       "    </tr>\n",
       "    <tr>\n",
       "      <th>2</th>\n",
       "      <td>2</td>\n",
       "      <td>1</td>\n",
       "      <td>The U.S. Supreme Court on Monday declined to h...</td>\n",
       "      <td>The U.S. Supreme Court on Monday declined to h...</td>\n",
       "    </tr>\n",
       "    <tr>\n",
       "      <th>3</th>\n",
       "      <td>5</td>\n",
       "      <td>1</td>\n",
       "      <td>U.S. President Donald Trump fired top federal ...</td>\n",
       "      <td>U.S. President Donald Trump fired top federal ...</td>\n",
       "    </tr>\n",
       "    <tr>\n",
       "      <th>4</th>\n",
       "      <td>6</td>\n",
       "      <td>1</td>\n",
       "      <td>President Donald Trump began talks with Republ...</td>\n",
       "      <td>President Donald Trump began talks with Republ...</td>\n",
       "    </tr>\n",
       "    <tr>\n",
       "      <th>...</th>\n",
       "      <td>...</td>\n",
       "      <td>...</td>\n",
       "      <td>...</td>\n",
       "      <td>...</td>\n",
       "    </tr>\n",
       "    <tr>\n",
       "      <th>25249</th>\n",
       "      <td>45224</td>\n",
       "      <td>1</td>\n",
       "      <td>“You can hear a whoosh of air as the train app...</td>\n",
       "      <td>You can hear a whoosh of air as the train appr...</td>\n",
       "    </tr>\n",
       "    <tr>\n",
       "      <th>25250</th>\n",
       "      <td>45225</td>\n",
       "      <td>1</td>\n",
       "      <td>The Supreme Court on Monday let stand a lower ...</td>\n",
       "      <td>The Supreme Court on Monday let stand a lower ...</td>\n",
       "    </tr>\n",
       "    <tr>\n",
       "      <th>25251</th>\n",
       "      <td>45226</td>\n",
       "      <td>1</td>\n",
       "      <td>North Korea said on Saturday targeting the U.S...</td>\n",
       "      <td>North Korea said on Saturday targeting the U.S...</td>\n",
       "    </tr>\n",
       "    <tr>\n",
       "      <th>25252</th>\n",
       "      <td>45227</td>\n",
       "      <td>1</td>\n",
       "      <td>The U.S. House Intelligence Committee wants Do...</td>\n",
       "      <td>The U.S. House Intelligence Committee wants Do...</td>\n",
       "    </tr>\n",
       "    <tr>\n",
       "      <th>25253</th>\n",
       "      <td>45230</td>\n",
       "      <td>1</td>\n",
       "      <td>Abu Yazan has rarely stepped out of his apartm...</td>\n",
       "      <td>Abu Yazan has rarely stepped out of his apartm...</td>\n",
       "    </tr>\n",
       "  </tbody>\n",
       "</table>\n",
       "<p>25254 rows × 4 columns</p>\n",
       "</div>"
      ],
      "text/plain": [
       "       index  label                                               text  \\\n",
       "0          0      1  RIO DE JANEIRO  —   The American swimmers Ryan...   \n",
       "1          1      1  Colombia and the Marxist ELN rebels began a ce...   \n",
       "2          2      1  The U.S. Supreme Court on Monday declined to h...   \n",
       "3          5      1  U.S. President Donald Trump fired top federal ...   \n",
       "4          6      1  President Donald Trump began talks with Republ...   \n",
       "...      ...    ...                                                ...   \n",
       "25249  45224      1  “You can hear a whoosh of air as the train app...   \n",
       "25250  45225      1  The Supreme Court on Monday let stand a lower ...   \n",
       "25251  45226      1  North Korea said on Saturday targeting the U.S...   \n",
       "25252  45227      1  The U.S. House Intelligence Committee wants Do...   \n",
       "25253  45230      1  Abu Yazan has rarely stepped out of his apartm...   \n",
       "\n",
       "                                          processed_text  \n",
       "0      RIO DE JANEIRO — The American swimmers Ryan Lo...  \n",
       "1      Colombia and the Marxist ELN rebels began a ce...  \n",
       "2      The U.S. Supreme Court on Monday declined to h...  \n",
       "3      U.S. President Donald Trump fired top federal ...  \n",
       "4      President Donald Trump began talks with Republ...  \n",
       "...                                                  ...  \n",
       "25249  You can hear a whoosh of air as the train appr...  \n",
       "25250  The Supreme Court on Monday let stand a lower ...  \n",
       "25251  North Korea said on Saturday targeting the U.S...  \n",
       "25252  The U.S. House Intelligence Committee wants Do...  \n",
       "25253  Abu Yazan has rarely stepped out of his apartm...  \n",
       "\n",
       "[25254 rows x 4 columns]"
      ]
     },
     "execution_count": 14,
     "metadata": {},
     "output_type": "execute_result"
    }
   ],
   "source": [
    "df"
   ]
  },
  {
   "cell_type": "code",
   "execution_count": 14,
   "metadata": {},
   "outputs": [
    {
     "data": {
      "text/plain": [
       "\"RIO DE JANEIRO — The American swimmers Ryan Lochte, Jimmy Feigen, Jack Conger and Gunnar Bentz left a lavish Olympics party hosted by the French authorities early Sunday morning. They got into a taxi for the ride across Rio de Janeiro to their lodgings in the athletes' village. What happened next has been the subject of intense police scrutiny, diplomatic debate and widespread criticism — first for Rio's crime problems, and then for the behavior of the four American athletes. What's the latest? Mr. Conger and Mr. Bentz were allowed to fly back to the United States on Thursday night. (The night before, they were pulled off their flight and detained for questioning.) Mr. Feigen agreed to donate $11, 000 to a Brazilian charity in an effort to receive permission to leave the country, according to news reports Friday morning. Mr. Lochte returned to the United States earlier in the week and apologized Friday for his role in the episode (see below). What happened? The taxi stopped at a gas station and the swimmers got out to use the restroom. The police say that after one or more of them vandalized the restroom, a security guard brandished a gun to keep them under control until the police arrived. The chief of police said Thursday that the swimmers paid for the damages — about $50 — and left before the police arrived. In his original account, Mr. Lochte said the car had been pulled over by armed men, one of whom put a gun against his head before taking the cash from his wallet. He subsequently altered his version of events. What aspects of the incident remain unclear? Many. There is little doubt that one or more of the American athletes damaged the gas station restroom. What happened after that is less clear: Who brandished a gun? Did any of the athletes grow combative? Did the athletes understand that they were being asked to pay for the restroom damages, or did they believe they were being extorted? How did United States officials respond when the reports first emerged? What are the possible legal consequences for the athletes? The judge who oversees the special court handling the case said the crime the athletes have been accused of — making false statements about a crime — is not that serious.  He said it would not result in any time in prison if they were found guilty. Why did the swimmers describe the incident inaccurately? We don't know yet. The police chief speculated that the accounts were fabricated to disguise that the swimmers had remained at the party until almost sunrise. He said one of the first leads in the investigation had come from a taxi driver who gave a ride to two Brazilian women who had left the same party and discussed having romantic encounters with the swimmers. At least one of the athletes may have had a motive for telling a story that wasn't true, he said. Have the swimmers apologized? On Friday, Mr. Lochte apologized, in a statement on Twitter, for not being more careful and candid in how I described the events of that early morning and for my role in taking the focus away from the many athletes fulfilling their dreams of participating in the Olympics.  Many Brazilians have said they wanted to see contrition from the swimmers because, they say, the false claims portrayed Rio grossly on an international stage. Mario Andrada, a spokesman for the Rio Olympics, had said an apology was not necessary. Nevertheless, on Friday, he said, We accept and appreciate his apology, according to The Associated Press. Scott Blackmun, the chief executive of the United States Olympic Committee, issued an apology in a statement Thursday night. The behavior of these athletes is not acceptable, nor does it represent the values of Team USA or the conduct of the vast majority of its members, the statement said. On behalf of the United States Olympic Committee, we apologize to our hosts in Rio and the people of Brazil for this distracting ordeal in the midst of what should rightly be a celebration of excellence. \""
      ]
     },
     "execution_count": 14,
     "metadata": {},
     "output_type": "execute_result"
    }
   ],
   "source": [
    "df.iloc[0].processed_text"
   ]
  },
  {
   "cell_type": "code",
   "execution_count": 15,
   "metadata": {},
   "outputs": [],
   "source": [
    "from datasets import Dataset\n",
    "import pandas as pd\n",
    "\n",
    "\n",
    "dataset = Dataset.from_pandas(df[[\"processed_text\"]])"
   ]
  },
  {
   "cell_type": "code",
   "execution_count": 16,
   "metadata": {},
   "outputs": [],
   "source": [
    "from datasets import DatasetDict"
   ]
  },
  {
   "cell_type": "code",
   "execution_count": 17,
   "metadata": {},
   "outputs": [
    {
     "data": {
      "text/plain": [
       "DatasetDict({\n",
       "    train: Dataset({\n",
       "        features: ['processed_text'],\n",
       "        num_rows: 25254\n",
       "    })\n",
       "})"
      ]
     },
     "execution_count": 17,
     "metadata": {},
     "output_type": "execute_result"
    }
   ],
   "source": [
    "dataset_dict = DatasetDict(\n",
    "    {\n",
    "        \"train\": dataset,\n",
    "    }\n",
    ")\n",
    "\n",
    "dataset_dict"
   ]
  },
  {
   "cell_type": "code",
   "execution_count": null,
   "metadata": {},
   "outputs": [
    {
     "name": "stderr",
     "output_type": "stream",
     "text": [
      "Map:   0%|          | 0/25254 [00:00<?, ? examples/s]Token indices sequence length is longer than the specified maximum sequence length for this model (821 > 512). Running this sequence through the model will result in indexing errors\n",
      "Map: 100%|██████████| 25254/25254 [00:09<00:00, 2565.34 examples/s]\n"
     ]
    },
    {
     "data": {
      "text/plain": [
       "DatasetDict({\n",
       "    train: Dataset({\n",
       "        features: ['processed_text', 'input_ids', 'token_type_ids', 'attention_mask'],\n",
       "        num_rows: 25254\n",
       "    })\n",
       "})"
      ]
     },
     "execution_count": 18,
     "metadata": {},
     "output_type": "execute_result"
    }
   ],
   "source": [
    "def tokenize_function(examples):\n",
    "    result = tokenizer(examples[\"processed_text\"])\n",
    "    return result\n",
    "\n",
    "\n",
    "tokenized_datasets = dataset_dict.map(tokenize_function, batched=True)\n",
    "tokenized_datasets"
   ]
  },
  {
   "cell_type": "code",
   "execution_count": null,
   "metadata": {},
   "outputs": [
    {
     "name": "stdout",
     "output_type": "stream",
     "text": [
      "DatasetDict({\n",
      "    train: Dataset({\n",
      "        features: ['input_ids', 'token_type_ids', 'attention_mask'],\n",
      "        num_rows: 25254\n",
      "    })\n",
      "})\n"
     ]
    }
   ],
   "source": [
    "tokenized_datasets = tokenized_datasets.remove_columns([\"processed_text\"])\n",
    "\n",
    "print(tokenized_datasets)"
   ]
  },
  {
   "cell_type": "code",
   "execution_count": 20,
   "metadata": {},
   "outputs": [
    {
     "data": {
      "text/plain": [
       "512"
      ]
     },
     "execution_count": 20,
     "metadata": {},
     "output_type": "execute_result"
    }
   ],
   "source": [
    "tokenizer.model_max_length"
   ]
  },
  {
   "cell_type": "code",
   "execution_count": 20,
   "metadata": {},
   "outputs": [],
   "source": [
    "chunk_size = 256"
   ]
  },
  {
   "cell_type": "code",
   "execution_count": 24,
   "metadata": {},
   "outputs": [
    {
     "data": {
      "text/plain": [
       "DatasetDict({\n",
       "    train: Dataset({\n",
       "        features: ['input_ids', 'token_type_ids', 'attention_mask', 'word_ids'],\n",
       "        num_rows: 25254\n",
       "    })\n",
       "})"
      ]
     },
     "execution_count": 24,
     "metadata": {},
     "output_type": "execute_result"
    }
   ],
   "source": [
    "tokenized_datasets"
   ]
  },
  {
   "cell_type": "code",
   "execution_count": 25,
   "metadata": {},
   "outputs": [
    {
     "data": {
      "text/plain": [
       "{'train': ['input_ids', 'token_type_ids', 'attention_mask', 'word_ids']}"
      ]
     },
     "execution_count": 25,
     "metadata": {},
     "output_type": "execute_result"
    }
   ],
   "source": [
    "tokenized_datasets.column_names"
   ]
  },
  {
   "cell_type": "code",
   "execution_count": 25,
   "metadata": {},
   "outputs": [],
   "source": [
    "concatenated_examples = {\n",
    "    k: sum(tokenized_datasets[k], [])\n",
    "    for k in tokenized_datasets.column_names\n",
    "    if k in [\"input_ids\", \"attention_mask\", \"token_type_ids\"]\n",
    "}"
   ]
  },
  {
   "cell_type": "code",
   "execution_count": 26,
   "metadata": {},
   "outputs": [],
   "source": [
    "def group_texts(examples):\n",
    "    concatenated_examples = {k: sum(examples[k], []) for k in examples.keys()}\n",
    "    total_length = len(concatenated_examples[list(examples.keys())[0]])\n",
    "    total_length = (total_length // chunk_size) * chunk_size\n",
    "    result = {\n",
    "        k: [t[i : i + chunk_size] for i in range(0, total_length, chunk_size)]\n",
    "        for k, t in concatenated_examples.items()\n",
    "    }\n",
    "\n",
    "    result[\"labels\"] = result[\"input_ids\"].copy()\n",
    "    return result"
   ]
  },
  {
   "cell_type": "code",
   "execution_count": 27,
   "metadata": {},
   "outputs": [
    {
     "name": "stderr",
     "output_type": "stream",
     "text": [
      "Map: 100%|██████████| 25254/25254 [01:53<00:00, 222.95 examples/s]\n"
     ]
    },
    {
     "data": {
      "text/plain": [
       "DatasetDict({\n",
       "    train: Dataset({\n",
       "        features: ['input_ids', 'token_type_ids', 'attention_mask', 'labels'],\n",
       "        num_rows: 68585\n",
       "    })\n",
       "})"
      ]
     },
     "execution_count": 27,
     "metadata": {},
     "output_type": "execute_result"
    }
   ],
   "source": [
    "lm_datasets = tokenized_datasets.map(group_texts, batched=True)\n",
    "lm_datasets"
   ]
  },
  {
   "cell_type": "code",
   "execution_count": 28,
   "metadata": {},
   "outputs": [
    {
     "name": "stdout",
     "output_type": "stream",
     "text": [
      "[CLS] RIO DE JANEIRO — The American swimmers Ryan Lochte, Jimmy Feigen, Jack Conger and Gunnar Bentz left a lavish Olympics party hosted by the French authorities early Sunday morning. They got into a taxi for the ride across Rio de Janeiro to their lodgings in the athletes ' village. What happened next has been the subject of intense police scrutiny, diplomatic debate and widespread criticism — first for Rio ' s crime problems, and then for the behavior of the four American athletes. What ' s the latest? Mr. Conger and Mr. Bentz were allowed to fly back to the United States on Thursday night. ( The night before, they were pulled off their flight and detained for questioning. ) Mr. Feigen agreed to donate $ 11, 000 to a Brazilian charity in an effort to receive permission to leave the country, according to news reports Friday morning. Mr. Lochte returned to the United States earlier in the week and apologized Friday for his role in the episode ( see below ). What happened? The taxi stopped at a gas station and the swimmers got out to use the restroom. The police say that after one or more of them vandalized the restroom, a security guard brandished a gun to keep\n"
     ]
    }
   ],
   "source": [
    "print(tokenizer.decode(lm_datasets[\"train\"][0][\"input_ids\"]))"
   ]
  },
  {
   "cell_type": "code",
   "execution_count": null,
   "metadata": {},
   "outputs": [
    {
     "name": "stdout",
     "output_type": "stream",
     "text": [
      "DatasetDict({\n",
      "    train: Dataset({\n",
      "        features: ['input_ids', 'token_type_ids', 'attention_mask', 'labels'],\n",
      "        num_rows: 54868\n",
      "    })\n",
      "    test: Dataset({\n",
      "        features: ['input_ids', 'token_type_ids', 'attention_mask', 'labels'],\n",
      "        num_rows: 13717\n",
      "    })\n",
      "})\n"
     ]
    }
   ],
   "source": [
    "train_test_split = lm_datasets[\"train\"].train_test_split(test_size=0.2, seed=42)\n",
    "\n",
    "new_dataset_dict = DatasetDict(\n",
    "    {\n",
    "        \"train\": train_test_split[\"train\"],\n",
    "        \"test\": train_test_split[\"test\"],\n",
    "    }\n",
    ")\n",
    "\n",
    "print(new_dataset_dict)"
   ]
  },
  {
   "cell_type": "code",
   "execution_count": 30,
   "metadata": {},
   "outputs": [
    {
     "name": "stderr",
     "output_type": "stream",
     "text": [
      "Saving the dataset (1/1 shards): 100%|██████████| 54868/54868 [00:00<00:00, 149799.79 examples/s]\n",
      "Saving the dataset (1/1 shards): 100%|██████████| 13717/13717 [00:00<00:00, 162829.70 examples/s]\n"
     ]
    }
   ],
   "source": [
    "new_dataset_dict.save_to_disk(\"MLM_TRAIN_data_256_wo_LIAR\")"
   ]
  },
  {
   "cell_type": "markdown",
   "metadata": {},
   "source": [
    "# Fake news detection data\n"
   ]
  },
  {
   "cell_type": "code",
   "execution_count": 1,
   "metadata": {},
   "outputs": [
    {
     "name": "stderr",
     "output_type": "stream",
     "text": [
      "c:\\Users\\matej\\SKOLA\\Diplomovka\\Code\\EmbeddingModels\\.venv\\Lib\\site-packages\\tqdm\\auto.py:21: TqdmWarning: IProgress not found. Please update jupyter and ipywidgets. See https://ipywidgets.readthedocs.io/en/stable/user_install.html\n",
      "  from .autonotebook import tqdm as notebook_tqdm\n"
     ]
    }
   ],
   "source": [
    "import pandas as pd\n",
    "from transformers import BertTokenizerFast\n",
    "import pandas\n",
    "import numpy as np\n",
    "import re"
   ]
  },
  {
   "cell_type": "code",
   "execution_count": 2,
   "metadata": {},
   "outputs": [],
   "source": [
    "tokenizer = BertTokenizerFast.from_pretrained(\"bert-base-cased\")"
   ]
  },
  {
   "cell_type": "code",
   "execution_count": 50,
   "metadata": {},
   "outputs": [],
   "source": [
    "df = pandas.read_csv(\"Testing_split4.csv\")"
   ]
  },
  {
   "cell_type": "code",
   "execution_count": 51,
   "metadata": {},
   "outputs": [],
   "source": [
    "df = df.reset_index()"
   ]
  },
  {
   "cell_type": "code",
   "execution_count": 52,
   "metadata": {},
   "outputs": [
    {
     "data": {
      "text/html": [
       "<div>\n",
       "<style scoped>\n",
       "    .dataframe tbody tr th:only-of-type {\n",
       "        vertical-align: middle;\n",
       "    }\n",
       "\n",
       "    .dataframe tbody tr th {\n",
       "        vertical-align: top;\n",
       "    }\n",
       "\n",
       "    .dataframe thead th {\n",
       "        text-align: right;\n",
       "    }\n",
       "</style>\n",
       "<table border=\"1\" class=\"dataframe\">\n",
       "  <thead>\n",
       "    <tr style=\"text-align: right;\">\n",
       "      <th></th>\n",
       "      <th>index</th>\n",
       "      <th>label</th>\n",
       "      <th>text</th>\n",
       "    </tr>\n",
       "  </thead>\n",
       "  <tbody>\n",
       "    <tr>\n",
       "      <th>0</th>\n",
       "      <td>0</td>\n",
       "      <td>1</td>\n",
       "      <td>Pro-trade Republicans in the U.S. Congress are...</td>\n",
       "    </tr>\n",
       "    <tr>\n",
       "      <th>1</th>\n",
       "      <td>1</td>\n",
       "      <td>1</td>\n",
       "      <td>Police in Alabama arrested six civil rights ac...</td>\n",
       "    </tr>\n",
       "    <tr>\n",
       "      <th>2</th>\n",
       "      <td>2</td>\n",
       "      <td>0</td>\n",
       "      <td>Can’t make this up: Michael Moore is pissed th...</td>\n",
       "    </tr>\n",
       "    <tr>\n",
       "      <th>3</th>\n",
       "      <td>3</td>\n",
       "      <td>1</td>\n",
       "      <td>Sunday on ABC’s “This Week,” former Democratic...</td>\n",
       "    </tr>\n",
       "    <tr>\n",
       "      <th>4</th>\n",
       "      <td>4</td>\n",
       "      <td>1</td>\n",
       "      <td>Eastern Libyan forces on Thursday expelled Isl...</td>\n",
       "    </tr>\n",
       "    <tr>\n",
       "      <th>...</th>\n",
       "      <td>...</td>\n",
       "      <td>...</td>\n",
       "      <td>...</td>\n",
       "    </tr>\n",
       "    <tr>\n",
       "      <th>11303</th>\n",
       "      <td>11303</td>\n",
       "      <td>0</td>\n",
       "      <td>21st Century Wire says As shocking and controv...</td>\n",
       "    </tr>\n",
       "    <tr>\n",
       "      <th>11304</th>\n",
       "      <td>11304</td>\n",
       "      <td>0</td>\n",
       "      <td>What Exactly Are Poll Watchers? Here’s The Cli...</td>\n",
       "    </tr>\n",
       "    <tr>\n",
       "      <th>11305</th>\n",
       "      <td>11305</td>\n",
       "      <td>0</td>\n",
       "      <td>While both of her parents travel around the co...</td>\n",
       "    </tr>\n",
       "    <tr>\n",
       "      <th>11306</th>\n",
       "      <td>11306</td>\n",
       "      <td>1</td>\n",
       "      <td>VATICAN CITY (AP)  —   Pope Francis on Sunday ...</td>\n",
       "    </tr>\n",
       "    <tr>\n",
       "      <th>11307</th>\n",
       "      <td>11307</td>\n",
       "      <td>1</td>\n",
       "      <td>The United Nations resumed aid convoys to besi...</td>\n",
       "    </tr>\n",
       "  </tbody>\n",
       "</table>\n",
       "<p>11308 rows × 3 columns</p>\n",
       "</div>"
      ],
      "text/plain": [
       "       index  label                                               text\n",
       "0          0      1  Pro-trade Republicans in the U.S. Congress are...\n",
       "1          1      1  Police in Alabama arrested six civil rights ac...\n",
       "2          2      0  Can’t make this up: Michael Moore is pissed th...\n",
       "3          3      1  Sunday on ABC’s “This Week,” former Democratic...\n",
       "4          4      1  Eastern Libyan forces on Thursday expelled Isl...\n",
       "...      ...    ...                                                ...\n",
       "11303  11303      0  21st Century Wire says As shocking and controv...\n",
       "11304  11304      0  What Exactly Are Poll Watchers? Here’s The Cli...\n",
       "11305  11305      0  While both of her parents travel around the co...\n",
       "11306  11306      1  VATICAN CITY (AP)  —   Pope Francis on Sunday ...\n",
       "11307  11307      1  The United Nations resumed aid convoys to besi...\n",
       "\n",
       "[11308 rows x 3 columns]"
      ]
     },
     "execution_count": 52,
     "metadata": {},
     "output_type": "execute_result"
    }
   ],
   "source": [
    "df"
   ]
  },
  {
   "cell_type": "code",
   "execution_count": null,
   "metadata": {},
   "outputs": [],
   "source": [
    "def preprocess_word(word):\n",
    "    word = re.sub(r\"[‘’]\", \"'\", word)\n",
    "    return re.sub(r\"[“”`]\", \"\", word)\n",
    "\n",
    "\n",
    "def preprocess_text(text):\n",
    "    words = text.split()\n",
    "\n",
    "    processed_words = [preprocess_word(word) for word in words]\n",
    "\n",
    "    return \" \".join(processed_words)\n",
    "\n",
    "\n",
    "df[\"processed_text\"] = df[\"text\"].apply(preprocess_text)"
   ]
  },
  {
   "cell_type": "code",
   "execution_count": 54,
   "metadata": {},
   "outputs": [
    {
     "data": {
      "text/html": [
       "<div>\n",
       "<style scoped>\n",
       "    .dataframe tbody tr th:only-of-type {\n",
       "        vertical-align: middle;\n",
       "    }\n",
       "\n",
       "    .dataframe tbody tr th {\n",
       "        vertical-align: top;\n",
       "    }\n",
       "\n",
       "    .dataframe thead th {\n",
       "        text-align: right;\n",
       "    }\n",
       "</style>\n",
       "<table border=\"1\" class=\"dataframe\">\n",
       "  <thead>\n",
       "    <tr style=\"text-align: right;\">\n",
       "      <th></th>\n",
       "      <th>index</th>\n",
       "      <th>label</th>\n",
       "      <th>text</th>\n",
       "      <th>processed_text</th>\n",
       "    </tr>\n",
       "  </thead>\n",
       "  <tbody>\n",
       "    <tr>\n",
       "      <th>0</th>\n",
       "      <td>0</td>\n",
       "      <td>1</td>\n",
       "      <td>Pro-trade Republicans in the U.S. Congress are...</td>\n",
       "      <td>Pro-trade Republicans in the U.S. Congress are...</td>\n",
       "    </tr>\n",
       "    <tr>\n",
       "      <th>1</th>\n",
       "      <td>1</td>\n",
       "      <td>1</td>\n",
       "      <td>Police in Alabama arrested six civil rights ac...</td>\n",
       "      <td>Police in Alabama arrested six civil rights ac...</td>\n",
       "    </tr>\n",
       "    <tr>\n",
       "      <th>2</th>\n",
       "      <td>2</td>\n",
       "      <td>0</td>\n",
       "      <td>Can’t make this up: Michael Moore is pissed th...</td>\n",
       "      <td>Can't make this up: Michael Moore is pissed th...</td>\n",
       "    </tr>\n",
       "    <tr>\n",
       "      <th>3</th>\n",
       "      <td>3</td>\n",
       "      <td>1</td>\n",
       "      <td>Sunday on ABC’s “This Week,” former Democratic...</td>\n",
       "      <td>Sunday on ABC's This Week, former Democratic N...</td>\n",
       "    </tr>\n",
       "    <tr>\n",
       "      <th>4</th>\n",
       "      <td>4</td>\n",
       "      <td>1</td>\n",
       "      <td>Eastern Libyan forces on Thursday expelled Isl...</td>\n",
       "      <td>Eastern Libyan forces on Thursday expelled Isl...</td>\n",
       "    </tr>\n",
       "    <tr>\n",
       "      <th>...</th>\n",
       "      <td>...</td>\n",
       "      <td>...</td>\n",
       "      <td>...</td>\n",
       "      <td>...</td>\n",
       "    </tr>\n",
       "    <tr>\n",
       "      <th>11303</th>\n",
       "      <td>11303</td>\n",
       "      <td>0</td>\n",
       "      <td>21st Century Wire says As shocking and controv...</td>\n",
       "      <td>21st Century Wire says As shocking and controv...</td>\n",
       "    </tr>\n",
       "    <tr>\n",
       "      <th>11304</th>\n",
       "      <td>11304</td>\n",
       "      <td>0</td>\n",
       "      <td>What Exactly Are Poll Watchers? Here’s The Cli...</td>\n",
       "      <td>What Exactly Are Poll Watchers? Here's The Cli...</td>\n",
       "    </tr>\n",
       "    <tr>\n",
       "      <th>11305</th>\n",
       "      <td>11305</td>\n",
       "      <td>0</td>\n",
       "      <td>While both of her parents travel around the co...</td>\n",
       "      <td>While both of her parents travel around the co...</td>\n",
       "    </tr>\n",
       "    <tr>\n",
       "      <th>11306</th>\n",
       "      <td>11306</td>\n",
       "      <td>1</td>\n",
       "      <td>VATICAN CITY (AP)  —   Pope Francis on Sunday ...</td>\n",
       "      <td>VATICAN CITY (AP) — Pope Francis on Sunday dec...</td>\n",
       "    </tr>\n",
       "    <tr>\n",
       "      <th>11307</th>\n",
       "      <td>11307</td>\n",
       "      <td>1</td>\n",
       "      <td>The United Nations resumed aid convoys to besi...</td>\n",
       "      <td>The United Nations resumed aid convoys to besi...</td>\n",
       "    </tr>\n",
       "  </tbody>\n",
       "</table>\n",
       "<p>11308 rows × 4 columns</p>\n",
       "</div>"
      ],
      "text/plain": [
       "       index  label                                               text  \\\n",
       "0          0      1  Pro-trade Republicans in the U.S. Congress are...   \n",
       "1          1      1  Police in Alabama arrested six civil rights ac...   \n",
       "2          2      0  Can’t make this up: Michael Moore is pissed th...   \n",
       "3          3      1  Sunday on ABC’s “This Week,” former Democratic...   \n",
       "4          4      1  Eastern Libyan forces on Thursday expelled Isl...   \n",
       "...      ...    ...                                                ...   \n",
       "11303  11303      0  21st Century Wire says As shocking and controv...   \n",
       "11304  11304      0  What Exactly Are Poll Watchers? Here’s The Cli...   \n",
       "11305  11305      0  While both of her parents travel around the co...   \n",
       "11306  11306      1  VATICAN CITY (AP)  —   Pope Francis on Sunday ...   \n",
       "11307  11307      1  The United Nations resumed aid convoys to besi...   \n",
       "\n",
       "                                          processed_text  \n",
       "0      Pro-trade Republicans in the U.S. Congress are...  \n",
       "1      Police in Alabama arrested six civil rights ac...  \n",
       "2      Can't make this up: Michael Moore is pissed th...  \n",
       "3      Sunday on ABC's This Week, former Democratic N...  \n",
       "4      Eastern Libyan forces on Thursday expelled Isl...  \n",
       "...                                                  ...  \n",
       "11303  21st Century Wire says As shocking and controv...  \n",
       "11304  What Exactly Are Poll Watchers? Here's The Cli...  \n",
       "11305  While both of her parents travel around the co...  \n",
       "11306  VATICAN CITY (AP) — Pope Francis on Sunday dec...  \n",
       "11307  The United Nations resumed aid convoys to besi...  \n",
       "\n",
       "[11308 rows x 4 columns]"
      ]
     },
     "execution_count": 54,
     "metadata": {},
     "output_type": "execute_result"
    }
   ],
   "source": [
    "df"
   ]
  },
  {
   "cell_type": "code",
   "execution_count": 35,
   "metadata": {},
   "outputs": [
    {
     "data": {
      "text/plain": [
       "\"Daniel Greenfield, a Shillman Journalism Fellow at the Freedom Center, is a New York writer focusing on radical Islam. In the final stretch of the election, Hillary Rodham Clinton has gone to war with the FBI. The word unprecedented has been thrown around so often this election that it ought to be retired. But it's still unprecedented for the nominee of a major political party to go war with the FBI. But that's exactly what Hillary and her people have done. Coma patients just waking up now and watching an hour of CNN from their hospital beds would assume that FBI Director James Comey is Hillary's opponent in this election. The FBI is under attack by everyone from Obama to CNN. Hillary's people have circulated a letter attacking Comey. There are currently more media hit pieces lambasting him than targeting Trump. It wouldn't be too surprising if the Clintons or their allies were to start running attack ads against the FBI. The FBI's leadership is being warned that the entire left-wing establishment will form a lynch mob if they continue going after Hillary. And the FBI's credibility is being attacked by the media and the Democrats to preemptively head off the results of the investigation of the Clinton Foundation and Hillary Clinton. The covert struggle between FBI agents and Obama's DOJ people has gone explosively public. The New York Times has compared Comey to J. Edgar Hoover. Its bizarre headline, James Comey Role Recalls Hoover's FBI, Fairly or Not practically admits up front that it's spouting nonsense. The Boston Globe has published a column calling for Comey's resignation. Not to be outdone, Time has an editorial claiming that the scandal is really an attack on all women. James Carville appeared on MSNBC to remind everyone that he was still alive and insane. He accused Comey of coordinating with House Republicans and the KGB. And you thought the vast right wing conspiracy was a stretch. Countless media stories charge Comey with violating procedure. Do you know what's a procedural violation? Emailing classified information stored on your bathroom server. Senator Harry Reid has sent Comey a letter accusing him of violating the Hatch Act. The Hatch Act is a nice idea that has as much relevance in the age of Obama as the Tenth Amendment. But the cable news spectrum quickly filled with media hacks glancing at the Wikipedia article on the Hatch Act under the table while accusing the FBI director of one of the most awkward conspiracies against Hillary ever. If James Comey is really out to hurt Hillary, he picked one hell of a strange way to do it. Not too long ago Democrats were breathing a sigh of relief when he gave Hillary Clinton a pass in a prominent public statement. If he really were out to elect Trump by keeping the email scandal going, why did he trash the investigation? Was he on the payroll of House Republicans and the KGB back then and playing it coy or was it a sudden development where Vladimir Putin and Paul Ryan talked him into taking a look at Anthony Weiner's computer? Either Comey is the most cunning FBI director that ever lived or he's just awkwardly trying to navigate a political mess that has trapped him between a DOJ leadership whose political futures are tied to Hillary's victory and his own bureau whose apolitical agents just want to be allowed to do their jobs. The only truly mysterious thing is why Hillary and her associates decided to go to war with a respected Federal agency. Most Americans like the FBI while Hillary Clinton enjoys a 60% unfavorable rating. And it's an interesting question. Hillary's old strategy was to lie and deny that the FBI even had a criminal investigation underway. Instead her associates insisted that it was a security review. The FBI corrected her and she shrugged it off. But the old breezy denial approach has given way to a savage assault on the FBI. Pretending that nothing was wrong was a bad strategy, but it was a better one that picking a fight with the FBI while lunatic Clinton associates try to claim that the FBI is really the KGB. There are two possible explanations. Hillary Clinton might be arrogant enough to lash out at the FBI now that she believes that victory is near. The same kind of hubris that led her to plan her victory fireworks display could lead her to declare a war on the FBI for irritating her during the final miles of her campaign. But the other explanation is that her people panicked. Going to war with the FBI is not the behavior of a smart and focused presidential campaign. It's an act of desperation. When a presidential candidate decides that her only option is to try and destroy the credibility of the FBI, that's not hubris, it's fear of what the FBI might be about to reveal about her. During the original FBI investigation, Hillary Clinton was confident that she could ride it out. And she had good reason for believing that. But that Hillary Clinton is gone. In her place is a paranoid wreck. Within a short space of time the positive Clinton campaign promising to unite the country has been replaced by a desperate and flailing operation that has focused all its energy on fighting the FBI. There's only one reason for such bizarre behavior. The Clinton campaign has decided that an FBI investigation of the latest batch of emails poses a threat to its survival. And so it's gone all in on fighting the FBI. It's an unprecedented step born of fear. It's hard to know whether that fear is justified. But the existence of that fear already tells us a whole lot. Clinton loyalists rigged the old investigation. They knew the outcome ahead of time as well as they knew the debate questions. Now suddenly they are no longer in control. And they are afraid. You can smell the fear. The FBI has wiretaps from the investigation of the Clinton Foundation. It's finding new emails all the time. And Clintonworld panicked. The spinmeisters of Clintonworld have claimed that the email scandal is just so much smoke without fire. All that's here is the appearance of impropriety without any of the substance. But this isn't how you react to smoke. It's how you respond to a fire. The misguided assault on the FBI tells us that Hillary Clinton and her allies are afraid of a revelation bigger than the fundamental illegality of her email setup. The email setup was a preemptive cover up. The Clinton campaign has panicked badly out of the belief, right or wrong, that whatever crime the illegal setup was meant to cover up is at risk of being exposed. The Clintons have weathered countless scandals over the years. Whatever they are protecting this time around is bigger than the usual corruption, bribery, sexual assaults and abuses of power that have followed them around throughout the years. This is bigger and more damaging than any of the allegations that have already come out. And they don't want FBI investigators anywhere near it. The campaign against Comey is pure intimidation. It's also a warning. Any senior FBI people who value their careers are being warned to stay away. The Democrats are closing ranks around their nominee against the FBI. It's an ugly and unprecedented scene. It may also be their last stand. Hillary Clinton has awkwardly wound her way through numerous scandals in just this election cycle. But she's never shown fear or desperation before. Now that has changed. Whatever she is afraid of, it lies buried in her emails with Huma Abedin. And it can bring her down like nothing else has.\""
      ]
     },
     "execution_count": 35,
     "metadata": {},
     "output_type": "execute_result"
    }
   ],
   "source": [
    "df.iloc[0].processed_text"
   ]
  },
  {
   "cell_type": "code",
   "execution_count": null,
   "metadata": {},
   "outputs": [],
   "source": [
    "from datasets import Dataset\n",
    "import pandas as pd\n",
    "\n",
    "dataset = Dataset.from_pandas(df[[\"processed_text\", \"label\"]])"
   ]
  },
  {
   "cell_type": "code",
   "execution_count": 56,
   "metadata": {},
   "outputs": [],
   "source": [
    "from datasets import DatasetDict, load_from_disk, Dataset"
   ]
  },
  {
   "cell_type": "code",
   "execution_count": 57,
   "metadata": {},
   "outputs": [
    {
     "data": {
      "text/plain": [
       "DatasetDict({\n",
       "    train: Dataset({\n",
       "        features: ['processed_text', 'label'],\n",
       "        num_rows: 11308\n",
       "    })\n",
       "})"
      ]
     },
     "execution_count": 57,
     "metadata": {},
     "output_type": "execute_result"
    }
   ],
   "source": [
    "dataset_dict = DatasetDict(\n",
    "    {\n",
    "        \"train\": dataset,\n",
    "    }\n",
    ")\n",
    "\n",
    "dataset_dict"
   ]
  },
  {
   "cell_type": "code",
   "execution_count": null,
   "metadata": {},
   "outputs": [
    {
     "name": "stderr",
     "output_type": "stream",
     "text": [
      "Map: 100%|██████████| 11308/11308 [00:04<00:00, 2647.82 examples/s]\n"
     ]
    },
    {
     "data": {
      "text/plain": [
       "DatasetDict({\n",
       "    train: Dataset({\n",
       "        features: ['processed_text', 'label', 'input_ids', 'token_type_ids', 'attention_mask'],\n",
       "        num_rows: 11308\n",
       "    })\n",
       "})"
      ]
     },
     "execution_count": 58,
     "metadata": {},
     "output_type": "execute_result"
    }
   ],
   "source": [
    "def tokenize_function(examples):\n",
    "    result = tokenizer(examples[\"processed_text\"])\n",
    "    return result\n",
    "\n",
    "\n",
    "tokenized_datasets = dataset_dict.map(tokenize_function, batched=True)\n",
    "tokenized_datasets"
   ]
  },
  {
   "cell_type": "code",
   "execution_count": 59,
   "metadata": {},
   "outputs": [],
   "source": [
    "dataset = tokenized_datasets"
   ]
  },
  {
   "cell_type": "code",
   "execution_count": null,
   "metadata": {},
   "outputs": [
    {
     "name": "stdout",
     "output_type": "stream",
     "text": [
      "DatasetDict({\n",
      "    train: Dataset({\n",
      "        features: ['label', 'input_ids', 'token_type_ids', 'attention_mask'],\n",
      "        num_rows: 11308\n",
      "    })\n",
      "})\n"
     ]
    }
   ],
   "source": [
    "new_dataset = dataset.remove_columns([\"processed_text\"])\n",
    "\n",
    "print(new_dataset)"
   ]
  },
  {
   "cell_type": "code",
   "execution_count": 61,
   "metadata": {},
   "outputs": [],
   "source": [
    "new_dataset = new_dataset[\"train\"]"
   ]
  },
  {
   "cell_type": "code",
   "execution_count": 62,
   "metadata": {},
   "outputs": [
    {
     "data": {
      "text/plain": [
       "Dataset({\n",
       "    features: ['label', 'input_ids', 'token_type_ids', 'attention_mask'],\n",
       "    num_rows: 11308\n",
       "})"
      ]
     },
     "execution_count": 62,
     "metadata": {},
     "output_type": "execute_result"
    }
   ],
   "source": [
    "new_dataset"
   ]
  },
  {
   "cell_type": "code",
   "execution_count": 45,
   "metadata": {},
   "outputs": [
    {
     "data": {
      "text/plain": [
       "0"
      ]
     },
     "execution_count": 45,
     "metadata": {},
     "output_type": "execute_result"
    }
   ],
   "source": [
    "tokenizer.pad_token_type_id"
   ]
  },
  {
   "cell_type": "code",
   "execution_count": null,
   "metadata": {},
   "outputs": [],
   "source": [
    "def split_article_and_add_article_id(article, pad_token, article_id, chunk_size=256):\n",
    "\n",
    "    full_length = len(article[\"input_ids\"])\n",
    "    label = article[\"label\"]\n",
    "    article.pop(\"label\", None)\n",
    "\n",
    "    split_dicts = []\n",
    "\n",
    "    for i in range(0, full_length, chunk_size):\n",
    "\n",
    "        split_dict = {}\n",
    "\n",
    "        for key, values in article.items():\n",
    "\n",
    "            split_dict[key] = values[i : i + chunk_size]\n",
    "\n",
    "        split_dict[\"labels\"] = split_dict[\"input_ids\"].copy()\n",
    "        split_dict[\"article_id\"] = article_id\n",
    "        split_dict[\"label\"] = label\n",
    "        split_dicts.append(split_dict)\n",
    "\n",
    "    last_dict = split_dicts[-1]\n",
    "    padding_length = chunk_size - (len(last_dict[\"input_ids\"]))\n",
    "\n",
    "    for key in last_dict:\n",
    "        if key != \"article_id\" and key != \"label\":\n",
    "            last_dict[key].extend([pad_token] * padding_length)\n",
    "\n",
    "    return split_dicts, article_id + 1"
   ]
  },
  {
   "cell_type": "code",
   "execution_count": 64,
   "metadata": {},
   "outputs": [],
   "source": [
    "split_dicts = []\n",
    "article_id = 0\n",
    "\n",
    "for row in new_dataset:\n",
    "    dicts, article_id = split_article_and_add_article_id(\n",
    "        row, tokenizer.pad_token_type_id, article_id=article_id\n",
    "    )\n",
    "    split_dicts.extend(dicts)"
   ]
  },
  {
   "cell_type": "code",
   "execution_count": 65,
   "metadata": {},
   "outputs": [
    {
     "data": {
      "text/plain": [
       "35406"
      ]
     },
     "execution_count": 65,
     "metadata": {},
     "output_type": "execute_result"
    }
   ],
   "source": [
    "len(split_dicts)"
   ]
  },
  {
   "cell_type": "code",
   "execution_count": 66,
   "metadata": {},
   "outputs": [],
   "source": [
    "split_articles_dataset = Dataset.from_list(split_dicts)"
   ]
  },
  {
   "cell_type": "code",
   "execution_count": 67,
   "metadata": {},
   "outputs": [
    {
     "data": {
      "text/plain": [
       "Dataset({\n",
       "    features: ['input_ids', 'token_type_ids', 'attention_mask', 'labels', 'article_id', 'label'],\n",
       "    num_rows: 35406\n",
       "})"
      ]
     },
     "execution_count": 67,
     "metadata": {},
     "output_type": "execute_result"
    }
   ],
   "source": [
    "split_articles_dataset"
   ]
  },
  {
   "cell_type": "code",
   "execution_count": null,
   "metadata": {},
   "outputs": [
    {
     "name": "stderr",
     "output_type": "stream",
     "text": [
      "Saving the dataset (1/1 shards): 100%|██████████| 35406/35406 [00:00<00:00, 617827.66 examples/s]\n"
     ]
    }
   ],
   "source": [
    "split_articles_dataset.save_to_disk(\"MLM_fake_data_with_article_ids_256\")"
   ]
  },
  {
   "cell_type": "code",
   "execution_count": 32,
   "metadata": {},
   "outputs": [
    {
     "name": "stdout",
     "output_type": "stream",
     "text": [
      "[CLS] Says an alternative to Social Security that operates in Galveston County, Texas, has meant that participants will retire with a whole lot more money than under Social Security. [SEP] [PAD] [PAD] [PAD] [PAD] [PAD] [PAD] [PAD] [PAD] [PAD] [PAD] [PAD] [PAD] [PAD] [PAD] [PAD] [PAD] [PAD] [PAD] [PAD] [PAD] [PAD] [PAD] [PAD] [PAD] [PAD] [PAD] [PAD] [PAD] [PAD] [PAD] [PAD] [PAD] [PAD] [PAD] [PAD] [PAD] [PAD] [PAD] [PAD] [PAD] [PAD] [PAD] [PAD] [PAD] [PAD] [PAD] [PAD] [PAD] [PAD] [PAD] [PAD] [PAD] [PAD] [PAD] [PAD] [PAD] [PAD] [PAD] [PAD] [PAD] [PAD] [PAD] [PAD] [PAD] [PAD] [PAD] [PAD] [PAD] [PAD] [PAD] [PAD] [PAD] [PAD] [PAD] [PAD] [PAD] [PAD] [PAD] [PAD] [PAD] [PAD] [PAD] [PAD] [PAD] [PAD] [PAD] [PAD] [PAD] [PAD] [PAD] [PAD]\n",
      "13857\n"
     ]
    }
   ],
   "source": [
    "print(tokenizer.decode(split_articles_dataset[-3][\"input_ids\"]))\n",
    "print((split_articles_dataset[-3][\"article_id\"]))"
   ]
  },
  {
   "cell_type": "code",
   "execution_count": 74,
   "metadata": {},
   "outputs": [
    {
     "name": "stdout",
     "output_type": "stream",
     "text": [
      "this is a coincidence might be naive. That said, could GOP and Israel - aligned members of the Pentagon or intelligence establishment have helped to engineer today s bizarre mini - crisis in order to help weaken U. S. - Iran relations, and by extension, Obama s controversial Iranian Nuclear Deal? This looks likely to be the case, as evidenced by the quick appearance of the Israel Lobby - sponsored, pro - war U. S. Senator Tom Cotton ( R ), placed by CNN to direct aggressive U. S. military talking points live on air as the story broke today. Cotton ( photo, left ) immediately called the event hostile and blamed Iran for the U. S. boat drifting into Iranian waters, and then blamed the crisis on President Obama, who he claims, has emboldened the Iranian aggression. Cotton then goes on to tell a giant lie, on which his media handler, CNN s Wolf Blitzer, does not even blink, much less challenge Cotton s imaginary statement : The Iranians, who are largely responsible for killing our ( American ) soldiers in Iraq and Afghanistan. Cotton then went on to threaten Iran, saying that : These sailors and both vessels need to be immediately released. If they are not released, then the Iran ( nuclear ) deal should not go forward, and military force will be on the table to retaliate for this act of aggression. Cotton then proceeded to give a veiled ( nuclear? ) threat to Iran, saying that, All ( military ) options should be on the table. Would Washington s top operatives go so far as to engineer or exacerbate an international crisis such as this by dispatching the boats off course, knowing full - well that Iran would not harm U. S. personnel, but using the incident to injure a lame duck? The answer is yes, and they ve done it before In 1979, 52 American diplomats and citizens were held hostage for 444 days in what became known as the Iranian Hostage Crisis, which just happened to take place during a US presidential election cycle, with then president Jimmy Carter ( D ) running for reelection against challenger Ronald Reagan ( R ). The crisis, including a horrific failed rescue attempt, was used against Carter in the media. According to reports at the time Reagan campaign operatives had managed to do a backdoor deal with the elements of the new Iranian regime to hold - off releasing the hostages until after the election. In the end, Reagan won and took credit for that victory. Not surprisingly, at the end\n",
      "39511\n"
     ]
    }
   ],
   "source": [
    "print(tokenizer.decode(split_articles_dataset[-2][\"input_ids\"]))\n",
    "print((split_articles_dataset[-2][\"article_id\"]))"
   ]
  },
  {
   "cell_type": "code",
   "execution_count": 75,
   "metadata": {},
   "outputs": [
    {
     "name": "stdout",
     "output_type": "stream",
     "text": [
      "of his prearranged CNN segment, Cotton invoked the feckless foreign policy of Jimmy Carter which caused the 1979 Iran Hostage Crisis, and compared that to President Obama s current policy. Of all the U. S. Officials CNN could have brought in on short notice, they chose Senator Tom Cotton, the most hawkish and closest aligned to Israel. Clearly, this looks like a neocon stunt. Stay tuned for more updates. READ MORE IRAN NEWS AT : 21st Century Wire Iran Files [SEP] [PAD] [PAD] [PAD] [PAD] [PAD] [PAD] [PAD] [PAD] [PAD] [PAD] [PAD] [PAD] [PAD] [PAD] [PAD] [PAD] [PAD] [PAD] [PAD] [PAD] [PAD] [PAD] [PAD] [PAD] [PAD] [PAD] [PAD] [PAD] [PAD] [PAD] [PAD] [PAD] [PAD] [PAD] [PAD] [PAD] [PAD] [PAD] [PAD] [PAD] [PAD] [PAD] [PAD] [PAD] [PAD] [PAD] [PAD] [PAD] [PAD] [PAD] [PAD] [PAD] [PAD] [PAD] [PAD] [PAD] [PAD] [PAD] [PAD] [PAD] [PAD] [PAD] [PAD] [PAD] [PAD] [PAD] [PAD] [PAD] [PAD] [PAD] [PAD] [PAD] [PAD] [PAD] [PAD] [PAD] [PAD] [PAD] [PAD] [PAD] [PAD] [PAD] [PAD] [PAD] [PAD] [PAD] [PAD] [PAD] [PAD] [PAD] [PAD] [PAD] [PAD] [PAD] [PAD] [PAD] [PAD] [PAD] [PAD] [PAD] [PAD] [PAD] [PAD] [PAD] [PAD] [PAD] [PAD] [PAD] [PAD] [PAD] [PAD] [PAD] [PAD] [PAD] [PAD] [PAD] [PAD] [PAD] [PAD] [PAD] [PAD] [PAD] [PAD] [PAD] [PAD] [PAD] [PAD] [PAD] [PAD] [PAD] [PAD] [PAD] [PAD] [PAD] [PAD] [PAD] [PAD] [PAD] [PAD] [PAD] [PAD] [PAD] [PAD] [PAD] [PAD] [PAD] [PAD] [PAD] [PAD] [PAD] [PAD] [PAD] [PAD] [PAD] [PAD] [PAD] [PAD] [PAD] [PAD] [PAD] [PAD] [PAD] [PAD] [PAD] [PAD] [PAD] [PAD] [PAD] [PAD] [PAD] [PAD] [PAD] [PAD] [PAD] [PAD] [PAD] [PAD] [PAD] [PAD] [PAD] [PAD] [PAD] [PAD] [PAD] [PAD] [PAD] [PAD] [PAD] [PAD] [PAD] [PAD] [PAD] [PAD] [PAD] [PAD] [PAD] [PAD] [PAD] [PAD] [PAD] [PAD] [PAD] [PAD] [PAD] [PAD] [PAD] [PAD] [PAD] [PAD] [PAD] [PAD] [PAD] [PAD] [PAD] [PAD] [PAD] [PAD] [PAD] [PAD] [PAD] [PAD] [PAD] [PAD] [PAD] [PAD] [PAD] [PAD] [PAD] [PAD] [PAD] [PAD] [PAD] [PAD] [PAD] [PAD] [PAD] [PAD] [PAD] [PAD] [PAD] [PAD] [PAD] [PAD] [PAD] [PAD] [PAD] [PAD] [PAD] [PAD] [PAD] [PAD] [PAD] [PAD] [PAD] [PAD] [PAD] [PAD] [PAD] [PAD] [PAD] [PAD] [PAD] [PAD] [PAD] [PAD] [PAD] [PAD] [PAD] [PAD] [PAD] [PAD] [PAD] [PAD] [PAD] [PAD] [PAD] [PAD] [PAD] [PAD] [PAD] [PAD] [PAD] [PAD] [PAD] [PAD] [PAD] [PAD] [PAD] [PAD] [PAD] [PAD] [PAD] [PAD] [PAD] [PAD] [PAD] [PAD] [PAD] [PAD] [PAD] [PAD] [PAD] [PAD] [PAD] [PAD] [PAD] [PAD] [PAD] [PAD] [PAD] [PAD] [PAD] [PAD] [PAD] [PAD] [PAD] [PAD] [PAD] [PAD] [PAD] [PAD] [PAD] [PAD] [PAD] [PAD] [PAD] [PAD] [PAD] [PAD] [PAD] [PAD] [PAD] [PAD] [PAD] [PAD] [PAD] [PAD] [PAD] [PAD] [PAD] [PAD] [PAD] [PAD] [PAD] [PAD] [PAD] [PAD] [PAD] [PAD] [PAD] [PAD] [PAD] [PAD] [PAD] [PAD] [PAD] [PAD] [PAD] [PAD] [PAD] [PAD] [PAD] [PAD] [PAD] [PAD] [PAD] [PAD] [PAD] [PAD] [PAD] [PAD] [PAD] [PAD] [PAD] [PAD] [PAD] [PAD] [PAD] [PAD] [PAD] [PAD] [PAD] [PAD] [PAD] [PAD] [PAD] [PAD] [PAD] [PAD] [PAD] [PAD] [PAD] [PAD] [PAD] [PAD] [PAD] [PAD] [PAD] [PAD] [PAD] [PAD] [PAD] [PAD] [PAD] [PAD]\n",
      "39511\n"
     ]
    }
   ],
   "source": [
    "print(tokenizer.decode(split_articles_dataset[-1][\"input_ids\"]))\n",
    "print((split_articles_dataset[-1][\"article_id\"]))"
   ]
  },
  {
   "cell_type": "code",
   "execution_count": 69,
   "metadata": {},
   "outputs": [
    {
     "name": "stdout",
     "output_type": "stream",
     "text": [
      "21st Century Wire says As 21WIRE predicted in its new year s look ahead, we have a new hostage crisis underway.Today, Iranian military forces report that two small riverine U.S. Navy boats were seized in Iranian waters, and are currently being held on Iran s Farsi Island in the Persian Gulf. A total of 10 U.S. Navy personnel, nine men and one woman, have been detained by Iranian authorities. NAVY STRAYED: U.S. Navy patrol boat in the Persian Gulf (Image Source: USNI)According to the Pentagon, the initial narrative is as follows: The sailors were on a training mission around noon ET when their boat experienced mechanical difficulty and drifted into Iranian-claimed waters and were detained by the Iranian Coast Guard, officials added. The story has since been slightly revised by White House spokesman Josh Earnest to follow this narrative:The 2 boats were traveling en route from Kuwait to Bahrain, when they were stopped and detained by the Iranians.According to USNI, search and rescue teams from the Harry S. Truman Strike group were scrambled to aid the crew but stopped short after the crew was taken by the Iranians. We have been in contact with Iran and have received assurances that the crew and the vessels will be returned promptly, Pentagon spokesman Peter Cook told AP. According to Persian Gulf TV: Farsi Island is one of the Iranian islands in the Persian Gulf, Bushehr province of Iran. There is an IRGC Navy base on this Island. The island has an area of about 0.25 km and is completely restricted to public, due to top secret governmental activities. According to NBC News, U.S. State Department is in touch with Tehran officials and the Iranians recognize that the U.S. Navy straying off course was a mistake, and that the sailors will be released within hours. WAR INC: CNN s Wolf Blitzer wasted no time in ramping-up talk of military tension with Israeli-financed neocon Senator Tom Cotton.Neocon StuntAlready, the U.S. media, including CNN and FOX, are running with the talking point that, this could not have come at a worse time for President Obama right before tonight s State Of Union speech, when he s trying to prove to the American people that Iran is a country that can be trusted to implement the historic nuclear deal. This latest Naval controversy also comes days before the implementation phase of the Iran Nuclear Deal. To say this is a coincidence might be naive.That said, could GOP and Israel-aligned members of the Pentagon or intelligence establishment have helped to engineer today s bizarre mini-crisis in order to help weaken U.S.-Iran relations, and by extension, Obama s controversial Iranian Nuclear Deal?This looks likely to be the case, as evidenced by the quick appearance of the Israel Lobby-sponsored, pro-war U.S. Senator Tom Cotton (R), placed by CNN to direct aggressive U.S. military talking points live on air as the story broke today. Cotton (photo, left) immediately called the event hostile and blamed Iran for the U.S. boat drifting into Iranian waters, and then blamed the crisis on President Obama, who he claims, has emboldened the Iranian aggression. Cotton then goes on to tell a giant lie, on which his media handler, CNN s Wolf Blitzer, does not even blink, much less challenge Cotton s imaginary statement: The Iranians, who are largely responsible for killing our (American) soldiers in Iraq and Afghanistan. Cotton then went on to threaten Iran, saying that: These sailors and both vessels need to be immediately released. If they are not released, then the Iran (nuclear) deal should not go forward, and military force will be on the table to retaliate for this act of aggression. Cotton then proceeded to give a veiled (nuclear?) threat to Iran, saying that, All (military) options should be on the table. Would Washington s top operatives go so far as to engineer or exacerbate an international crisis such as this by dispatching the boats off course, knowing full-well that Iran would not harm U.S. personnel, but using the incident to injure a lame duck? The answer is yes , and they ve done it before In 1979, 52 American diplomats and citizens were held hostage for 444 days in what became known as the Iranian Hostage Crisis, which just happened to take place during a US presidential election cycle, with then president Jimmy Carter (D) running for reelection against challenger Ronald Reagan (R). The crisis, including a horrific failed rescue attempt, was used against Carter in the media. According to reports at the time Reagan campaign operatives had managed to do a backdoor deal with the elements of the new Iranian regime to hold-off releasing the hostages until after the election. In the end, Reagan won and took credit for that victory .Not surprisingly, at the end of his prearranged CNN segment, Cotton invoked the feckless foreign policy of Jimmy Carter which caused the 1979 Iran Hostage Crisis, and compared that to President Obama s current policy.Of all the U.S. Officials CNN could have brought in on short notice , they chose Senator Tom Cotton, the most hawkish and closest aligned to Israel. Clearly, this looks like a neocon stunt.Stay tuned for more updates.READ MORE IRAN NEWS AT: 21st Century Wire Iran Files\n"
     ]
    }
   ],
   "source": [
    "print(dataset[\"train\"][-1][\"processed_text\"])"
   ]
  },
  {
   "cell_type": "code",
   "execution_count": null,
   "metadata": {},
   "outputs": [],
   "source": []
  }
 ],
 "metadata": {
  "kernelspec": {
   "display_name": ".venv",
   "language": "python",
   "name": "python3"
  },
  "language_info": {
   "codemirror_mode": {
    "name": "ipython",
    "version": 3
   },
   "file_extension": ".py",
   "mimetype": "text/x-python",
   "name": "python",
   "nbconvert_exporter": "python",
   "pygments_lexer": "ipython3",
   "version": "3.12.3"
  }
 },
 "nbformat": 4,
 "nbformat_minor": 2
}

{
 "cells": [
  {
   "cell_type": "code",
   "execution_count": 1,
   "metadata": {},
   "outputs": [
    {
     "name": "stderr",
     "output_type": "stream",
     "text": [
      "c:\\Users\\matej\\SKOLA\\Diplomovka\\Code\\EmbeddingModels\\.venv\\Lib\\site-packages\\tqdm\\auto.py:21: TqdmWarning: IProgress not found. Please update jupyter and ipywidgets. See https://ipywidgets.readthedocs.io/en/stable/user_install.html\n",
      "  from .autonotebook import tqdm as notebook_tqdm\n"
     ]
    }
   ],
   "source": [
    "from transformers import BertTokenizer\n",
    "from transformers import BertTokenizerFast\n",
    "from datasets import Dataset, DatasetDict, load_from_disk"
   ]
  },
  {
   "cell_type": "code",
   "execution_count": 2,
   "metadata": {},
   "outputs": [],
   "source": [
    "tokenizer = BertTokenizerFast.from_pretrained(\"bert-base-cased\")"
   ]
  },
  {
   "cell_type": "code",
   "execution_count": 3,
   "metadata": {},
   "outputs": [
    {
     "data": {
      "text/plain": [
       "28996"
      ]
     },
     "execution_count": 3,
     "metadata": {},
     "output_type": "execute_result"
    }
   ],
   "source": [
    "tokenizer.vocab_size"
   ]
  },
  {
   "cell_type": "code",
   "execution_count": 3,
   "metadata": {},
   "outputs": [],
   "source": [
    "dataset = load_from_disk(\"MLM_TRAIN_data_256_wo_LIAR\")"
   ]
  },
  {
   "cell_type": "code",
   "execution_count": 4,
   "metadata": {},
   "outputs": [
    {
     "data": {
      "text/plain": [
       "DatasetDict({\n",
       "    train: Dataset({\n",
       "        features: ['input_ids', 'token_type_ids', 'attention_mask', 'labels'],\n",
       "        num_rows: 54868\n",
       "    })\n",
       "    test: Dataset({\n",
       "        features: ['input_ids', 'token_type_ids', 'attention_mask', 'labels'],\n",
       "        num_rows: 13717\n",
       "    })\n",
       "})"
      ]
     },
     "execution_count": 4,
     "metadata": {},
     "output_type": "execute_result"
    }
   ],
   "source": [
    "dataset"
   ]
  },
  {
   "cell_type": "code",
   "execution_count": 10,
   "metadata": {},
   "outputs": [
    {
     "data": {
      "text/plain": [
       "\"to live in peace without any problems. [SEP] [CLS] MONESSEN, Pa. — Thirty years have passed, almost to the day, since the last blasts of the steel furnaces that were the reason for this city ' s existence. The steel mill is gone — used to film RoboCop, then demolished. Most of the people are gone, too, and those who remain are struggling to find a new purpose for this place. Last week, Donald J. Trump, the presumptive Republican presidential nominee, came here to declare that as president, he would revive the fortunes of the American steel industry — and\""
      ]
     },
     "execution_count": 10,
     "metadata": {},
     "output_type": "execute_result"
    }
   ],
   "source": [
    "tokenizer.decode(dataset[\"train\"][0][\"input_ids\"])"
   ]
  },
  {
   "cell_type": "code",
   "execution_count": 11,
   "metadata": {},
   "outputs": [
    {
     "data": {
      "text/plain": [
       "\"to live in peace without any problems. [SEP] [CLS] MONESSEN, Pa. — Thirty years have passed, almost to the day, since the last blasts of the steel furnaces that were the reason for this city ' s existence. The steel mill is gone — used to film RoboCop, then demolished. Most of the people are gone, too, and those who remain are struggling to find a new purpose for this place. Last week, Donald J. Trump, the presumptive Republican presidential nominee, came here to declare that as president, he would revive the fortunes of the American steel industry — and\""
      ]
     },
     "execution_count": 11,
     "metadata": {},
     "output_type": "execute_result"
    }
   ],
   "source": [
    "tokenizer.decode(dataset[\"train\"][0][\"labels\"])"
   ]
  },
  {
   "cell_type": "code",
   "execution_count": 5,
   "metadata": {},
   "outputs": [
    {
     "data": {
      "text/plain": [
       "DatasetDict({\n",
       "    train: Dataset({\n",
       "        features: ['input_ids', 'token_type_ids', 'attention_mask', 'word_ids', 'labels'],\n",
       "        num_rows: 109745\n",
       "    })\n",
       "    test: Dataset({\n",
       "        features: ['input_ids', 'token_type_ids', 'attention_mask', 'word_ids', 'labels'],\n",
       "        num_rows: 27437\n",
       "    })\n",
       "})"
      ]
     },
     "execution_count": 5,
     "metadata": {},
     "output_type": "execute_result"
    }
   ],
   "source": [
    "dataset"
   ]
  },
  {
   "cell_type": "code",
   "execution_count": null,
   "metadata": {},
   "outputs": [
    {
     "name": "stdout",
     "output_type": "stream",
     "text": [
      "Using device: cuda\n"
     ]
    }
   ],
   "source": [
    "import torch\n",
    "\n",
    "device = torch.device(\"cuda\" if torch.cuda.is_available() else \"cpu\")\n",
    "print(f\"Using device: {device}\")"
   ]
  },
  {
   "cell_type": "code",
   "execution_count": null,
   "metadata": {},
   "outputs": [
    {
     "name": "stdout",
     "output_type": "stream",
     "text": [
      "BertForMaskedLM(\n",
      "  (bert): BertModel(\n",
      "    (embeddings): BertEmbeddings(\n",
      "      (word_embeddings): Embedding(28996, 768, padding_idx=0)\n",
      "      (position_embeddings): Embedding(256, 768)\n",
      "      (token_type_embeddings): Embedding(2, 768)\n",
      "      (LayerNorm): LayerNorm((768,), eps=1e-12, elementwise_affine=True)\n",
      "      (dropout): Dropout(p=0.1, inplace=False)\n",
      "    )\n",
      "    (encoder): BertEncoder(\n",
      "      (layer): ModuleList(\n",
      "        (0-5): 6 x BertLayer(\n",
      "          (attention): BertAttention(\n",
      "            (self): BertSdpaSelfAttention(\n",
      "              (query): Linear(in_features=768, out_features=768, bias=True)\n",
      "              (key): Linear(in_features=768, out_features=768, bias=True)\n",
      "              (value): Linear(in_features=768, out_features=768, bias=True)\n",
      "              (dropout): Dropout(p=0.1, inplace=False)\n",
      "            )\n",
      "            (output): BertSelfOutput(\n",
      "              (dense): Linear(in_features=768, out_features=768, bias=True)\n",
      "              (LayerNorm): LayerNorm((768,), eps=1e-12, elementwise_affine=True)\n",
      "              (dropout): Dropout(p=0.1, inplace=False)\n",
      "            )\n",
      "          )\n",
      "          (intermediate): BertIntermediate(\n",
      "            (dense): Linear(in_features=768, out_features=3072, bias=True)\n",
      "            (intermediate_act_fn): GELUActivation()\n",
      "          )\n",
      "          (output): BertOutput(\n",
      "            (dense): Linear(in_features=3072, out_features=768, bias=True)\n",
      "            (LayerNorm): LayerNorm((768,), eps=1e-12, elementwise_affine=True)\n",
      "            (dropout): Dropout(p=0.1, inplace=False)\n",
      "          )\n",
      "        )\n",
      "      )\n",
      "    )\n",
      "  )\n",
      "  (cls): BertOnlyMLMHead(\n",
      "    (predictions): BertLMPredictionHead(\n",
      "      (transform): BertPredictionHeadTransform(\n",
      "        (dense): Linear(in_features=768, out_features=768, bias=True)\n",
      "        (transform_act_fn): GELUActivation()\n",
      "        (LayerNorm): LayerNorm((768,), eps=1e-12, elementwise_affine=True)\n",
      "      )\n",
      "      (decoder): Linear(in_features=768, out_features=28996, bias=True)\n",
      "    )\n",
      "  )\n",
      ")\n"
     ]
    }
   ],
   "source": [
    "from transformers import BertConfig, BertForMaskedLM\n",
    "\n",
    "vocab_size = tokenizer.vocab_size\n",
    "\n",
    "config = BertConfig(\n",
    "    vocab_size=vocab_size,\n",
    "    num_hidden_layers=6,\n",
    "    num_attention_heads=4,\n",
    "    max_position_embeddings=256,\n",
    ")\n",
    "\n",
    "model = BertForMaskedLM(config).to(device)\n",
    "\n",
    "print(model)"
   ]
  },
  {
   "cell_type": "code",
   "execution_count": 8,
   "metadata": {},
   "outputs": [],
   "source": [
    "from transformers import (\n",
    "    Trainer,\n",
    "    TrainingArguments,\n",
    "    EarlyStoppingCallback,\n",
    "    TrainerCallback,\n",
    ")"
   ]
  },
  {
   "cell_type": "code",
   "execution_count": null,
   "metadata": {},
   "outputs": [],
   "source": [
    "from transformers import DataCollatorForLanguageModeling\n",
    "\n",
    "data_collator = DataCollatorForLanguageModeling(\n",
    "    tokenizer=tokenizer,\n",
    "    mlm=True,\n",
    "    mlm_probability=0.15,\n",
    ")"
   ]
  },
  {
   "cell_type": "code",
   "execution_count": 8,
   "metadata": {},
   "outputs": [],
   "source": [
    "dataset = DatasetDict(\n",
    "    {\n",
    "        \"train\": dataset[\"train\"].remove_columns(\"word_ids\"),\n",
    "        \"test\": dataset[\"test\"].remove_columns(\"word_ids\"),\n",
    "    }\n",
    ")"
   ]
  },
  {
   "cell_type": "code",
   "execution_count": 11,
   "metadata": {},
   "outputs": [
    {
     "name": "stdout",
     "output_type": "stream",
     "text": [
      "\n",
      "'>>> to live in peace without any problems. [SEP] [CLS] MONESSE [MASK], Pa. — Thirty years have passed, almost to the day, since [MASK] [MASK] blasts of the steel furnaces that were the [MASK] for this city ' s existence [MASK] The [MASK] mill is gone — used [MASK] [MASK] RoboCop, then demolished [MASK] Most of [MASK] people are gone, too [MASK] [MASK] those who remain are struggling to [MASK] a new purpose for [MASK] place. Last [MASK] [MASK] Donald J [MASK] Trump, the presumptive Republican presidential nominee, came here to declare that as president, he would revive the [MASK] of the American steel industry [MASK] and'\n",
      "\n",
      "'>>> Pennsylvania, Illinois — places with high immigration and illegal immigration. So I think the Left will go crazy. It [MASK] s what [MASK] do [MASK] They can ' t [MASK] [MASK]. So [MASK] more of it, he said. Marlow characterized the longstanding bizarre and terrible approach to immigration enforcement as an [MASK]licit promise that [MASK] you have to do is not commit [MASK] crime, and then you can stay. I think that the decision to focus on criminal behavior — and we can talk about what [MASK] means because that [MASK] s important — but [MASK] decision to focus [MASK] criminal behavior is [MASK] first step. [MASK] ' s a starting point that most Americans [MASK]'\n"
     ]
    }
   ],
   "source": [
    "# Example dataset (ensure you replace this with your actual dataset)\n",
    "samples = [dataset[\"train\"][i] for i in range(2)]  # Adjust as needed\n",
    "\n",
    "# Apply the data collator to the samples (no need to pass tokenizer here)\n",
    "batch = collator(samples)\n",
    "\n",
    "# Print the decoded input IDs for each chunk in the batch\n",
    "for chunk in batch[\"input_ids\"]:\n",
    "    print(f\"\\n'>>> {tokenizer.decode(chunk)}'\")"
   ]
  },
  {
   "cell_type": "code",
   "execution_count": null,
   "metadata": {},
   "outputs": [],
   "source": [
    "# Training arguments\n",
    "training_args = TrainingArguments(\n",
    "    output_dir=\"./training_prog_256_final1/results\",\n",
    "    eval_strategy=\"epoch\",\n",
    "    per_device_train_batch_size=32,\n",
    "    per_device_eval_batch_size=32,\n",
    "    num_train_epochs=1000,\n",
    "    logging_dir=\"./training_prog_256_final1/logs\",\n",
    "    logging_steps=500,\n",
    "    save_strategy=\"epoch\",\n",
    "    fp16=True,\n",
    "    remove_unused_columns=False,\n",
    "    load_best_model_at_end=True,\n",
    "    overwrite_output_dir=False,\n",
    "    save_total_limit=25,\n",
    ")\n",
    "\n",
    "early_stopping_callback = EarlyStoppingCallback(early_stopping_patience=5)\n",
    "\n",
    "\n",
    "trainer = Trainer(\n",
    "    model=model,\n",
    "    args=training_args,\n",
    "    train_dataset=dataset[\"train\"],\n",
    "    eval_dataset=dataset[\"test\"],\n",
    "    data_collator=data_collator,\n",
    "    callbacks=[early_stopping_callback],\n",
    ")\n",
    "\n",
    "\n",
    "trainer.train()"
   ]
  },
  {
   "cell_type": "markdown",
   "metadata": {},
   "source": [
    "# LOAD MODEL\n"
   ]
  },
  {
   "cell_type": "code",
   "execution_count": 1,
   "metadata": {},
   "outputs": [
    {
     "name": "stderr",
     "output_type": "stream",
     "text": [
      "c:\\Users\\matej\\SKOLA\\Diplomovka\\Code\\EmbeddingModels\\.venv\\Lib\\site-packages\\tqdm\\auto.py:21: TqdmWarning: IProgress not found. Please update jupyter and ipywidgets. See https://ipywidgets.readthedocs.io/en/stable/user_install.html\n",
      "  from .autonotebook import tqdm as notebook_tqdm\n"
     ]
    }
   ],
   "source": [
    "from transformers import BertTokenizer\n",
    "from transformers import BertTokenizerFast\n",
    "from datasets import Dataset, DatasetDict, load_from_disk\n",
    "from transformers import BertForMaskedLM"
   ]
  },
  {
   "cell_type": "code",
   "execution_count": null,
   "metadata": {},
   "outputs": [
    {
     "name": "stdout",
     "output_type": "stream",
     "text": [
      "Using device: cuda\n"
     ]
    }
   ],
   "source": [
    "import torch\n",
    "\n",
    "device = torch.device(\"cuda\" if torch.cuda.is_available() else \"cpu\")\n",
    "print(f\"Using device: {device}\")"
   ]
  },
  {
   "cell_type": "code",
   "execution_count": 3,
   "metadata": {},
   "outputs": [],
   "source": [
    "tokenizer = BertTokenizerFast.from_pretrained(\"bert-base-cased\")"
   ]
  },
  {
   "cell_type": "code",
   "execution_count": null,
   "metadata": {},
   "outputs": [
    {
     "name": "stderr",
     "output_type": "stream",
     "text": [
      "BertForMaskedLM has generative capabilities, as `prepare_inputs_for_generation` is explicitly overwritten. However, it doesn't directly inherit from `GenerationMixin`. From 👉v4.50👈 onwards, `PreTrainedModel` will NOT inherit from `GenerationMixin`, and this model will lose the ability to call `generate` and other related functions.\n",
      "  - If you're using `trust_remote_code=True`, you can get rid of this warning by loading the model with an auto class. See https://huggingface.co/docs/transformers/en/model_doc/auto#auto-classes\n",
      "  - If you are the owner of the model architecture code, please modify your model class such that it inherits from `GenerationMixin` (after `PreTrainedModel`, otherwise you'll get an exception).\n",
      "  - If you are not the owner of the model architecture class, please contact the model code owner to update it.\n"
     ]
    }
   ],
   "source": [
    "dataset = load_from_disk(\"MLM_TRAIN_data_128\")\n",
    "\n",
    "checkpoint_path = \"./training_prog_128_final/results/checkpoint-50016\"\n",
    "\n",
    "model = BertForMaskedLM.from_pretrained(checkpoint_path)"
   ]
  },
  {
   "cell_type": "code",
   "execution_count": 5,
   "metadata": {},
   "outputs": [
    {
     "data": {
      "text/plain": [
       "BertForMaskedLM(\n",
       "  (bert): BertModel(\n",
       "    (embeddings): BertEmbeddings(\n",
       "      (word_embeddings): Embedding(28996, 768, padding_idx=0)\n",
       "      (position_embeddings): Embedding(128, 768)\n",
       "      (token_type_embeddings): Embedding(2, 768)\n",
       "      (LayerNorm): LayerNorm((768,), eps=1e-12, elementwise_affine=True)\n",
       "      (dropout): Dropout(p=0.1, inplace=False)\n",
       "    )\n",
       "    (encoder): BertEncoder(\n",
       "      (layer): ModuleList(\n",
       "        (0-5): 6 x BertLayer(\n",
       "          (attention): BertAttention(\n",
       "            (self): BertSdpaSelfAttention(\n",
       "              (query): Linear(in_features=768, out_features=768, bias=True)\n",
       "              (key): Linear(in_features=768, out_features=768, bias=True)\n",
       "              (value): Linear(in_features=768, out_features=768, bias=True)\n",
       "              (dropout): Dropout(p=0.1, inplace=False)\n",
       "            )\n",
       "            (output): BertSelfOutput(\n",
       "              (dense): Linear(in_features=768, out_features=768, bias=True)\n",
       "              (LayerNorm): LayerNorm((768,), eps=1e-12, elementwise_affine=True)\n",
       "              (dropout): Dropout(p=0.1, inplace=False)\n",
       "            )\n",
       "          )\n",
       "          (intermediate): BertIntermediate(\n",
       "            (dense): Linear(in_features=768, out_features=3072, bias=True)\n",
       "            (intermediate_act_fn): GELUActivation()\n",
       "          )\n",
       "          (output): BertOutput(\n",
       "            (dense): Linear(in_features=3072, out_features=768, bias=True)\n",
       "            (LayerNorm): LayerNorm((768,), eps=1e-12, elementwise_affine=True)\n",
       "            (dropout): Dropout(p=0.1, inplace=False)\n",
       "          )\n",
       "        )\n",
       "      )\n",
       "    )\n",
       "  )\n",
       "  (cls): BertOnlyMLMHead(\n",
       "    (predictions): BertLMPredictionHead(\n",
       "      (transform): BertPredictionHeadTransform(\n",
       "        (dense): Linear(in_features=768, out_features=768, bias=True)\n",
       "        (transform_act_fn): GELUActivation()\n",
       "        (LayerNorm): LayerNorm((768,), eps=1e-12, elementwise_affine=True)\n",
       "      )\n",
       "      (decoder): Linear(in_features=768, out_features=28996, bias=True)\n",
       "    )\n",
       "  )\n",
       ")"
      ]
     },
     "execution_count": 5,
     "metadata": {},
     "output_type": "execute_result"
    }
   ],
   "source": [
    "model.to(device)"
   ]
  },
  {
   "cell_type": "code",
   "execution_count": 5,
   "metadata": {},
   "outputs": [
    {
     "data": {
      "text/plain": [
       "BertForMaskedLM(\n",
       "  (bert): BertModel(\n",
       "    (embeddings): BertEmbeddings(\n",
       "      (word_embeddings): Embedding(28996, 512, padding_idx=0)\n",
       "      (position_embeddings): Embedding(512, 512)\n",
       "      (token_type_embeddings): Embedding(2, 512)\n",
       "      (LayerNorm): LayerNorm((512,), eps=1e-12, elementwise_affine=True)\n",
       "      (dropout): Dropout(p=0.1, inplace=False)\n",
       "    )\n",
       "    (encoder): BertEncoder(\n",
       "      (layer): ModuleList(\n",
       "        (0-3): 4 x BertLayer(\n",
       "          (attention): BertAttention(\n",
       "            (self): BertSdpaSelfAttention(\n",
       "              (query): Linear(in_features=512, out_features=512, bias=True)\n",
       "              (key): Linear(in_features=512, out_features=512, bias=True)\n",
       "              (value): Linear(in_features=512, out_features=512, bias=True)\n",
       "              (dropout): Dropout(p=0.1, inplace=False)\n",
       "            )\n",
       "            (output): BertSelfOutput(\n",
       "              (dense): Linear(in_features=512, out_features=512, bias=True)\n",
       "              (LayerNorm): LayerNorm((512,), eps=1e-12, elementwise_affine=True)\n",
       "              (dropout): Dropout(p=0.1, inplace=False)\n",
       "            )\n",
       "          )\n",
       "          (intermediate): BertIntermediate(\n",
       "            (dense): Linear(in_features=512, out_features=1024, bias=True)\n",
       "            (intermediate_act_fn): GELUActivation()\n",
       "          )\n",
       "          (output): BertOutput(\n",
       "            (dense): Linear(in_features=1024, out_features=512, bias=True)\n",
       "            (LayerNorm): LayerNorm((512,), eps=1e-12, elementwise_affine=True)\n",
       "            (dropout): Dropout(p=0.1, inplace=False)\n",
       "          )\n",
       "        )\n",
       "      )\n",
       "    )\n",
       "  )\n",
       "  (cls): BertOnlyMLMHead(\n",
       "    (predictions): BertLMPredictionHead(\n",
       "      (transform): BertPredictionHeadTransform(\n",
       "        (dense): Linear(in_features=512, out_features=512, bias=True)\n",
       "        (transform_act_fn): GELUActivation()\n",
       "        (LayerNorm): LayerNorm((512,), eps=1e-12, elementwise_affine=True)\n",
       "      )\n",
       "      (decoder): Linear(in_features=512, out_features=28996, bias=True)\n",
       "    )\n",
       "  )\n",
       ")"
      ]
     },
     "execution_count": 5,
     "metadata": {},
     "output_type": "execute_result"
    }
   ],
   "source": [
    "model.eval()"
   ]
  },
  {
   "cell_type": "code",
   "execution_count": 6,
   "metadata": {},
   "outputs": [
    {
     "data": {
      "text/plain": [
       "DatasetDict({\n",
       "    train: Dataset({\n",
       "        features: ['input_ids', 'token_type_ids', 'attention_mask', 'word_ids', 'labels'],\n",
       "        num_rows: 133364\n",
       "    })\n",
       "    test: Dataset({\n",
       "        features: ['input_ids', 'token_type_ids', 'attention_mask', 'word_ids', 'labels'],\n",
       "        num_rows: 33342\n",
       "    })\n",
       "})"
      ]
     },
     "execution_count": 6,
     "metadata": {},
     "output_type": "execute_result"
    }
   ],
   "source": [
    "dataset"
   ]
  },
  {
   "cell_type": "code",
   "execution_count": 12,
   "metadata": {},
   "outputs": [
    {
     "name": "stdout",
     "output_type": "stream",
     "text": [
      "\n",
      "'the whole of the United States, or to the [MASK] that is feasible. [SEP] [CLS] [MASK] U. S. Supreme Court on Tuesday appeared [MASK] to rule against a Puerto Rican politician who maintained he cannot [MASK] retried on corruption charges involving a trip to Las Vegas to watch a boxing bout after his original conviction was thrown out. The [MASK] justices [MASK] the first [MASK] [MASK] of their new term in the appeal filed by [MASK] Martinez Maldonado, who served in Puerto Rico [MASK] s Senate from 2005 until his [MASK] conviction, and businessman Juan Bravo Fernandez, former president of a private security company. Several [MASK] [MASK] expressed skepticism about the defendants'\n"
     ]
    }
   ],
   "source": [
    "samples = [dataset[\"validation\"][i] for i in range(10000, 10001)]\n",
    "samples_clean = [dataset[\"validation\"][i] for i in range(10000, 10001)]\n",
    "batch = whole_word_masking_data_collator(samples, tokenizer)\n",
    "\n",
    "for chunk in batch[\"input_ids\"]:\n",
    "    print(f\"\\n'{tokenizer.decode(chunk)}'\")"
   ]
  },
  {
   "cell_type": "code",
   "execution_count": 99,
   "metadata": {},
   "outputs": [
    {
     "data": {
      "text/plain": [
       "{'input_ids': tensor([[ 1164,   170,  2029,  6145,   119,  7988,   103,   103,   103,  1127,\n",
       "            103,   103, 12582,  2823,   119,  6652,  1111,   103,  6136,  1104,\n",
       "           8499,  7179,   117,  1105,  1106,  1474,  1112,  1376,  1112,  1936,\n",
       "           1164,  1123, 20673, 12645,   119,  8403,   119,  9198,   119,  1847,\n",
       "            103,   119, 13580,   117,   170,  2623,  1740,  2575,  1150, 19961,\n",
       "           1116,  1828,   119,  8499,   117,  1163,  1175,  1108, 11769,  3121,\n",
       "          20279,  1107,  1103,  2322,  1115,  1103, 11550,  1104,  1103,  1886,\n",
       "            103,  5733,  4707,  1107,  1828,   119,   103,   112,   188,  5010,\n",
       "            119,  1124, 10035,  1115,  7179,  1156,  1267,   103,  7762,  1206,\n",
       "            170,  2564,  1150,   103,  1155,  7553,  1104,  7640,  1112,  1119,\n",
       "           1108,  2935,  1106,   103,  1103,   185, 19123,  3377,  1105,  1103,\n",
       "           5554,  8499,  1104,  1103,  1704,  1728,   119,  1828,   119,  8499,\n",
       "           1144,  1678,  1168,  3343,  1107,  2793,  1552,  1106]]),\n",
       " 'token_type_ids': tensor([[0, 0, 0, 0, 0, 0, 0, 0, 0, 0, 0, 0, 0, 0, 0, 0, 0, 0, 0, 0, 0, 0, 0, 0,\n",
       "          0, 0, 0, 0, 0, 0, 0, 0, 0, 0, 0, 0, 0, 0, 0, 0, 0, 0, 0, 0, 0, 0, 0, 0,\n",
       "          0, 0, 0, 0, 0, 0, 0, 0, 0, 0, 0, 0, 0, 0, 0, 0, 0, 0, 0, 0, 0, 0, 0, 0,\n",
       "          0, 0, 0, 0, 0, 0, 0, 0, 0, 0, 0, 0, 0, 0, 0, 0, 0, 0, 0, 0, 0, 0, 0, 0,\n",
       "          0, 0, 0, 0, 0, 0, 0, 0, 0, 0, 0, 0, 0, 0, 0, 0, 0, 0, 0, 0, 0, 0, 0, 0,\n",
       "          0, 0, 0, 0, 0, 0, 0, 0]]),\n",
       " 'attention_mask': tensor([[1, 1, 1, 1, 1, 1, 1, 1, 1, 1, 1, 1, 1, 1, 1, 1, 1, 1, 1, 1, 1, 1, 1, 1,\n",
       "          1, 1, 1, 1, 1, 1, 1, 1, 1, 1, 1, 1, 1, 1, 1, 1, 1, 1, 1, 1, 1, 1, 1, 1,\n",
       "          1, 1, 1, 1, 1, 1, 1, 1, 1, 1, 1, 1, 1, 1, 1, 1, 1, 1, 1, 1, 1, 1, 1, 1,\n",
       "          1, 1, 1, 1, 1, 1, 1, 1, 1, 1, 1, 1, 1, 1, 1, 1, 1, 1, 1, 1, 1, 1, 1, 1,\n",
       "          1, 1, 1, 1, 1, 1, 1, 1, 1, 1, 1, 1, 1, 1, 1, 1, 1, 1, 1, 1, 1, 1, 1, 1,\n",
       "          1, 1, 1, 1, 1, 1, 1, 1]]),\n",
       " 'labels': tensor([[ -100,  -100,  -100,  -100,  -100,  -100,  8910, 25232,  1116,  -100,\n",
       "           1500,  1106,  -100,  -100,  -100,  -100,  -100,  1123,  -100,  -100,\n",
       "           -100,  -100,  -100,  -100,  -100,  -100,  -100,  -100,  -100,  -100,\n",
       "           -100,  -100,  -100,  -100,  -100,  -100,  -100,  -100,  -100,  -100,\n",
       "            157,  -100,  -100,  -100,  -100,  -100,  -100,  -100,  -100,  -100,\n",
       "           -100,  -100,  -100,  -100,  -100,  -100,  -100,  -100,  -100,  -100,\n",
       "           -100,  -100,  -100,  -100,  -100,  -100,  -100,  -100,  -100,  -100,\n",
       "           1125,  -100,  -100,  -100,  -100,  -100,  8499,  -100,  -100,  -100,\n",
       "           -100,  -100,  -100,  -100,  -100,  -100,  -100,   170,  -100,  -100,\n",
       "           -100,  -100,  -100,  1189,  -100,  -100,  -100,  -100,  -100,  -100,\n",
       "           -100,  -100,  -100,  1782,  -100,  -100,  -100,  -100,  -100,  -100,\n",
       "           -100,  -100,  -100,  -100,  -100,  -100,  -100,  -100,  -100,  -100,\n",
       "           -100,  -100,  -100,  -100,  -100,  -100,  -100,  -100]])}"
      ]
     },
     "execution_count": 99,
     "metadata": {},
     "output_type": "execute_result"
    }
   ],
   "source": [
    "batch"
   ]
  },
  {
   "cell_type": "code",
   "execution_count": 13,
   "metadata": {},
   "outputs": [
    {
     "name": "stdout",
     "output_type": "stream",
     "text": [
      "PREDICTED\n",
      "WORDS: extent The poised be two won major months Governor ' 1994 justices\n",
      "\n",
      "\n",
      "SENTENCE: the whole of the United States, or to the extent that is feasible. The U. S. Supreme Court on Tuesday appeared poised to rule against a Puerto Rican politician who maintained he cannot be retried on corruption charges involving a trip to Las Vegas to watch a boxing bout after his original conviction was thrown out. The two justices won the first major months of their new term in the appeal filed by Governor Martinez Maldonado, who served in Puerto Rico ' s Senate from 2005 until his 1994 conviction, and businessman Juan Bravo Fernandez, former president of a private security company. Several justices expressed skepticism about the defendants\n",
      "\n",
      "REAL\n",
      "WORDS: extent The ready be eight heard oral argument Hector ' 2011 justices\n",
      "\n",
      "\n",
      "SENTENCE: the whole of the United States, or to the extent that is feasible. The U. S. Supreme Court on Tuesday appeared ready to rule against a Puerto Rican politician who maintained he cannot be retried on corruption charges involving a trip to Las Vegas to watch a boxing bout after his original conviction was thrown out. The eight justices heard the first oral argument of their new term in the appeal filed by Hector Martinez Maldonado, who served in Puerto Rico ' s Senate from 2005 until his 2011 conviction, and businessman Juan Bravo Fernandez, former president of a private security company. Several justices expressed skepticism about the defendants\n"
     ]
    }
   ],
   "source": [
    "batch = {key: value.to(device) for key, value in batch.items()}\n",
    "\n",
    "with torch.no_grad():  # Disable gradient computation for inference\n",
    "    output = model(**batch)  # Unpack the batch directly into the model\n",
    "\n",
    "# Get the logits for the input sequence\n",
    "logits = output.logits\n",
    "\n",
    "# Find the positions of the masked tokens\n",
    "masked_positions = (batch[\"labels\"] != -100).nonzero(as_tuple=True)[1]\n",
    "\n",
    "# Get the predicted token for each masked position\n",
    "predicted_tokens = torch.argmax(logits[0, masked_positions], dim=-1)\n",
    "\n",
    "# Decode the predicted token IDs back to words\n",
    "predicted_words = tokenizer.decode(predicted_tokens)\n",
    "\n",
    "# Get the actual token IDs at the masked positions\n",
    "labels = batch[\"labels\"]\n",
    "actual_tokens = labels[0, masked_positions]\n",
    "\n",
    "# Decode the token IDs to actual words\n",
    "actual_words = tokenizer.decode(actual_tokens, skip_special_tokens=True)\n",
    "\n",
    "\n",
    "# Decode the first sequence in the batch (assuming batch size is 1)\n",
    "actual_sentence = tokenizer.decode(\n",
    "    samples_clean[0][\"input_ids\"], skip_special_tokens=True\n",
    ")\n",
    "\n",
    "# Replace the masked tokens in input_ids with predicted tokens to form the predicted sentence\n",
    "predicted_input_ids = batch[\"input_ids\"][\n",
    "    0\n",
    "].clone()  # Clone the original input_ids to modify\n",
    "predicted_input_ids[masked_positions] = (\n",
    "    predicted_tokens  # Replace the masked positions with predicted tokens\n",
    ")\n",
    "\n",
    "# Decode the predicted sentence\n",
    "predicted_sentence = tokenizer.decode(predicted_input_ids, skip_special_tokens=True)\n",
    "\n",
    "\n",
    "print(\"PREDICTED\")\n",
    "print(f\"WORDS: {predicted_words}\")\n",
    "print(\"\\n\")\n",
    "print(f\"SENTENCE: {predicted_sentence}\")\n",
    "print(\"\\nREAL\")\n",
    "print(f\"WORDS: {actual_words}\")\n",
    "print(\"\\n\")\n",
    "print(f\"SENTENCE: {actual_sentence}\")"
   ]
  },
  {
   "cell_type": "code",
   "execution_count": 101,
   "metadata": {},
   "outputs": [
    {
     "data": {
      "text/plain": [
       "tensor([  6,   7,   8,  10,  11,  17,  40,  70,  76,  87,  93, 103],\n",
       "       device='cuda:0')"
      ]
     },
     "execution_count": 101,
     "metadata": {},
     "output_type": "execute_result"
    }
   ],
   "source": [
    "masked_positions"
   ]
  },
  {
   "cell_type": "code",
   "execution_count": null,
   "metadata": {},
   "outputs": [],
   "source": [
    "trainer_state_file = (\n",
    "    \"./training_prog_128_final5/results/checkpoint-42875/trainer_state.json\"\n",
    ")\n",
    "log_dir_1 = \"./training_prog_128_final5/logs/events.out.tfevents.1740385683.Matej.11056.0\"  # Path to first tfevent file\n",
    "log_dir_2 = \"./training_prog_128_final5/logs/events.out.tfevents.1740393136.Matej.3044.0\"  # Path to second tfevent file"
   ]
  },
  {
   "cell_type": "code",
   "execution_count": 2,
   "metadata": {},
   "outputs": [
    {
     "data": {
      "image/png": "[encoded data removed]",
      "text/plain": [
       "<Figure size 1000x600 with 1 Axes>"
      ]
     },
     "metadata": {},
     "output_type": "display_data"
    }
   ],
   "source": [
    "import os\n",
    "import matplotlib.pyplot as plt\n",
    "from tensorboard.backend.event_processing.event_accumulator import EventAccumulator\n",
    "\n",
    "# Path to the directory containing the tfevent files\n",
    "log_dir = \"./training_prog_256_final1/logs\"  # Path to the logs directory\n",
    "\n",
    "# Define the number of steps per epoch\n",
    "steps_per_epoch = 1715\n",
    "\n",
    "\n",
    "# Function to load and extract data from a tfevent file\n",
    "def extract_loss_data(tfevent_file):\n",
    "    event_acc = EventAccumulator(tfevent_file)\n",
    "    event_acc.Reload()\n",
    "\n",
    "    # Extract scalars\n",
    "    training_loss = event_acc.Scalars(\"train/loss\")  # Training loss\n",
    "    eval_loss = event_acc.Scalars(\"eval/loss\")  # Evaluation loss\n",
    "\n",
    "    # Get the steps and corresponding losses\n",
    "    train_loss_steps = [scalar.step for scalar in training_loss]  # Get the step number\n",
    "    train_loss_values = [scalar.value for scalar in training_loss]\n",
    "\n",
    "    eval_loss_steps = [scalar.step for scalar in eval_loss]  # Get the step number\n",
    "    eval_loss_values = [scalar.value for scalar in eval_loss]\n",
    "\n",
    "    # Map steps to epochs\n",
    "    train_loss_epochs = [step / steps_per_epoch for step in train_loss_steps]\n",
    "    eval_loss_epochs = [step / steps_per_epoch for step in eval_loss_steps]\n",
    "\n",
    "    return train_loss_epochs, train_loss_values, eval_loss_epochs, eval_loss_values\n",
    "\n",
    "\n",
    "# Function to load all tfevent files from a directory and aggregate data\n",
    "def aggregate_loss_data_from_directory(log_dir):\n",
    "    tfevent_files = [\n",
    "        os.path.join(log_dir, f) for f in os.listdir(log_dir) if \"tfevents\" in f\n",
    "    ]\n",
    "\n",
    "    train_loss_epochs = []\n",
    "    train_loss_values = []\n",
    "    eval_loss_epochs = []\n",
    "    eval_loss_values = []\n",
    "\n",
    "    # Extract data from each tfevent file\n",
    "    for tfevent_file in tfevent_files:\n",
    "        (\n",
    "            t_train_loss_epochs,\n",
    "            t_train_loss_values,\n",
    "            t_eval_loss_epochs,\n",
    "            t_eval_loss_values,\n",
    "        ) = extract_loss_data(tfevent_file)\n",
    "        train_loss_epochs.extend(t_train_loss_epochs)\n",
    "        train_loss_values.extend(t_train_loss_values)\n",
    "        eval_loss_epochs.extend(t_eval_loss_epochs)\n",
    "        eval_loss_values.extend(t_eval_loss_values)\n",
    "\n",
    "    return train_loss_epochs, train_loss_values, eval_loss_epochs, eval_loss_values\n",
    "\n",
    "\n",
    "# Aggregate data from the logs directory\n",
    "train_loss_epochs, train_loss_values, eval_loss_epochs, eval_loss_values = (\n",
    "    aggregate_loss_data_from_directory(log_dir)\n",
    ")\n",
    "\n",
    "# Sort combined data by epoch (just in case they aren't ordered)\n",
    "train_loss_epochs, train_loss_values = zip(\n",
    "    *sorted(zip(train_loss_epochs, train_loss_values))\n",
    ")\n",
    "eval_loss_epochs, eval_loss_values = zip(\n",
    "    *sorted(zip(eval_loss_epochs, eval_loss_values))\n",
    ")\n",
    "\n",
    "# Plot the losses\n",
    "plt.figure(figsize=(10, 6))\n",
    "plt.plot(train_loss_epochs, train_loss_values, label=\"Train Loss\", color=\"#2b4879\")\n",
    "plt.plot(\n",
    "    eval_loss_epochs, eval_loss_values, label=\"Eval Loss\", linestyle=\"--\", color=\"red\"\n",
    ")\n",
    "\n",
    "plt.xlabel(\"Epoch\")\n",
    "plt.ylabel(\"Loss\")\n",
    "plt.title(\"Train vs Eval Loss\")\n",
    "plt.legend()\n",
    "plt.grid()\n",
    "plt.savefig(\"training_vs_eval_loss_combined_epoch.png\", dpi=300, bbox_inches=\"tight\")\n",
    "plt.show()"
   ]
  },
  {
   "cell_type": "code",
   "execution_count": 5,
   "metadata": {},
   "outputs": [
    {
     "name": "stdout",
     "output_type": "stream",
     "text": [
      "{'images': [], 'audio': [], 'histograms': [], 'scalars': ['train/loss', 'train/grad_norm', 'train/learning_rate', 'train/epoch', 'eval/loss', 'eval/runtime', 'eval/samples_per_second', 'eval/steps_per_second'], 'distributions': [], 'tensors': ['args/text_summary', 'model_config/text_summary'], 'graph': False, 'meta_graph': False, 'run_metadata': []}\n"
     ]
    }
   ],
   "source": [
    "from tensorboard.backend.event_processing.event_accumulator import EventAccumulator\n",
    "\n",
    "# Path to the directory containing the tfevent files\n",
    "log_dir = \"./training_prog_128_final5/logs\"\n",
    "\n",
    "# Find the tfevent file\n",
    "tfevent_file = [\n",
    "    os.path.join(log_dir, f) for f in os.listdir(log_dir) if \"tfevents\" in f\n",
    "][0]\n",
    "\n",
    "# Load the event file\n",
    "event_acc = EventAccumulator(tfevent_file)\n",
    "event_acc.Reload()\n",
    "\n",
    "# List all tags\n",
    "tags = event_acc.Tags()\n",
    "print(tags)"
   ]
  },
  {
   "cell_type": "markdown",
   "metadata": {},
   "source": [
    "# CONTINUE TRAINING\n"
   ]
  },
  {
   "cell_type": "code",
   "execution_count": 1,
   "metadata": {},
   "outputs": [
    {
     "name": "stderr",
     "output_type": "stream",
     "text": [
      "c:\\Users\\matej\\SKOLA\\Diplomovka\\Code\\EmbeddingModels\\.venv\\Lib\\site-packages\\tqdm\\auto.py:21: TqdmWarning: IProgress not found. Please update jupyter and ipywidgets. See https://ipywidgets.readthedocs.io/en/stable/user_install.html\n",
      "  from .autonotebook import tqdm as notebook_tqdm\n"
     ]
    }
   ],
   "source": [
    "from transformers import BertTokenizer\n",
    "from transformers import BertTokenizerFast\n",
    "from datasets import Dataset, DatasetDict, load_from_disk\n",
    "from transformers import BertForMaskedLM, BertConfig, TrainingArguments"
   ]
  },
  {
   "cell_type": "code",
   "execution_count": 2,
   "metadata": {},
   "outputs": [
    {
     "name": "stdout",
     "output_type": "stream",
     "text": [
      "Using device: cuda\n"
     ]
    }
   ],
   "source": [
    "import torch\n",
    "\n",
    "# Check if GPU is available\n",
    "device = torch.device(\"cuda\" if torch.cuda.is_available() else \"cpu\")\n",
    "print(f\"Using device: {device}\")"
   ]
  },
  {
   "cell_type": "code",
   "execution_count": 3,
   "metadata": {},
   "outputs": [],
   "source": [
    "tokenizer = BertTokenizerFast.from_pretrained(\"bert-base-cased\")"
   ]
  },
  {
   "cell_type": "code",
   "execution_count": 4,
   "metadata": {},
   "outputs": [],
   "source": [
    "dataset = load_from_disk(\"MLM_TRAIN_data_256_wo_LIAR\")"
   ]
  },
  {
   "cell_type": "code",
   "execution_count": null,
   "metadata": {},
   "outputs": [
    {
     "name": "stderr",
     "output_type": "stream",
     "text": [
      "The argument `trust_remote_code` is to be used with Auto classes. It has no effect here and is ignored.\n"
     ]
    },
    {
     "data": {
      "text/plain": [
       "BertForMaskedLM(\n",
       "  (bert): BertModel(\n",
       "    (embeddings): BertEmbeddings(\n",
       "      (word_embeddings): Embedding(28996, 768, padding_idx=0)\n",
       "      (position_embeddings): Embedding(256, 768)\n",
       "      (token_type_embeddings): Embedding(2, 768)\n",
       "      (LayerNorm): LayerNorm((768,), eps=1e-12, elementwise_affine=True)\n",
       "      (dropout): Dropout(p=0.1, inplace=False)\n",
       "    )\n",
       "    (encoder): BertEncoder(\n",
       "      (layer): ModuleList(\n",
       "        (0-5): 6 x BertLayer(\n",
       "          (attention): BertAttention(\n",
       "            (self): BertSdpaSelfAttention(\n",
       "              (query): Linear(in_features=768, out_features=768, bias=True)\n",
       "              (key): Linear(in_features=768, out_features=768, bias=True)\n",
       "              (value): Linear(in_features=768, out_features=768, bias=True)\n",
       "              (dropout): Dropout(p=0.1, inplace=False)\n",
       "            )\n",
       "            (output): BertSelfOutput(\n",
       "              (dense): Linear(in_features=768, out_features=768, bias=True)\n",
       "              (LayerNorm): LayerNorm((768,), eps=1e-12, elementwise_affine=True)\n",
       "              (dropout): Dropout(p=0.1, inplace=False)\n",
       "            )\n",
       "          )\n",
       "          (intermediate): BertIntermediate(\n",
       "            (dense): Linear(in_features=768, out_features=3072, bias=True)\n",
       "            (intermediate_act_fn): GELUActivation()\n",
       "          )\n",
       "          (output): BertOutput(\n",
       "            (dense): Linear(in_features=3072, out_features=768, bias=True)\n",
       "            (LayerNorm): LayerNorm((768,), eps=1e-12, elementwise_affine=True)\n",
       "            (dropout): Dropout(p=0.1, inplace=False)\n",
       "          )\n",
       "        )\n",
       "      )\n",
       "    )\n",
       "  )\n",
       "  (cls): BertOnlyMLMHead(\n",
       "    (predictions): BertLMPredictionHead(\n",
       "      (transform): BertPredictionHeadTransform(\n",
       "        (dense): Linear(in_features=768, out_features=768, bias=True)\n",
       "        (transform_act_fn): GELUActivation()\n",
       "        (LayerNorm): LayerNorm((768,), eps=1e-12, elementwise_affine=True)\n",
       "      )\n",
       "      (decoder): Linear(in_features=768, out_features=28996, bias=True)\n",
       "    )\n",
       "  )\n",
       ")"
      ]
     },
     "execution_count": 12,
     "metadata": {},
     "output_type": "execute_result"
    }
   ],
   "source": [
    "checkpoint_path = \"./training_prog_256_final1/results/checkpoint-36015\"\n",
    "\n",
    "model = BertForMaskedLM.from_pretrained(checkpoint_path, trust_remote_code=True)\n",
    "model.to(device)\n",
    "model.train()"
   ]
  },
  {
   "cell_type": "code",
   "execution_count": null,
   "metadata": {},
   "outputs": [],
   "source": [
    "training_args = TrainingArguments(\n",
    "    output_dir=\"./training_prog_256_final1/results\",\n",
    "    eval_strategy=\"epoch\",\n",
    "    per_device_train_batch_size=32,\n",
    "    per_device_eval_batch_size=32,\n",
    "    num_train_epochs=1000,\n",
    "    logging_dir=\"./training_prog_256_final1/logs\",\n",
    "    logging_steps=500,\n",
    "    save_strategy=\"epoch\",\n",
    "    fp16=True,\n",
    "    remove_unused_columns=False,\n",
    "    load_best_model_at_end=True,\n",
    "    overwrite_output_dir=False,\n",
    "    save_total_limit=25,\n",
    ")\n",
    "\n",
    "early_stopping_callback = EarlyStoppingCallback(early_stopping_patience=5)\n",
    "\n",
    "trainer = Trainer(\n",
    "    model=model,\n",
    "    args=training_args,\n",
    "    train_dataset=dataset[\"train\"],\n",
    "    eval_dataset=dataset[\"test\"],\n",
    "    data_collator=data_collator,\n",
    "    callbacks=[early_stopping_callback],\n",
    ")\n",
    "\n",
    "trainer.train(\n",
    "    resume_from_checkpoint=\"./training_prog_256_final1/results/checkpoint-36015\"\n",
    ")"
   ]
  },
  {
   "cell_type": "code",
   "execution_count": null,
   "metadata": {},
   "outputs": [],
   "source": []
  }
 ],
 "metadata": {
  "kernelspec": {
   "display_name": ".venv",
   "language": "python",
   "name": "python3"
  },
  "language_info": {
   "codemirror_mode": {
    "name": "ipython",
    "version": 3
   },
   "file_extension": ".py",
   "mimetype": "text/x-python",
   "name": "python",
   "nbconvert_exporter": "python",
   "pygments_lexer": "ipython3",
   "version": "3.12.3"
  }
 },
 "nbformat": 4,
 "nbformat_minor": 2
}

{
 "cells": [
  {
   "cell_type": "code",
   "execution_count": 1,
   "metadata": {},
   "outputs": [],
   "source": [
    "import numpy as np\n",
    "import pandas as pd\n",
    "import ast"
   ]
  },
  {
   "cell_type": "code",
   "execution_count": 2,
   "metadata": {},
   "outputs": [],
   "source": [
    "from gensim.models import KeyedVectors\n",
    "\n",
    "fasttext_vectors = KeyedVectors.load_word2vec_format(\n",
    "    \"fasttext_crawl-300d-2M-subword.vec\", binary=False\n",
    ")"
   ]
  },
  {
   "cell_type": "code",
   "execution_count": 3,
   "metadata": {},
   "outputs": [],
   "source": [
    "df = pd.read_csv(\"Word_Tokenized_TRAINING_DATASET_SPACY.csv\")\n",
    "df[\"tokenized_text\"] = df[\"tokenized_text\"].apply(ast.literal_eval)"
   ]
  },
  {
   "cell_type": "code",
   "execution_count": 4,
   "metadata": {},
   "outputs": [],
   "source": [
    "def get_article_embedding(tokenized_text, model):\n",
    "    word_embeddings = []\n",
    "    for sentence in tokenized_text:\n",
    "        for word in sentence:\n",
    "            if word in model.key_to_index:\n",
    "                word_embeddings.append(model[word])\n",
    "    return np.mean(word_embeddings, axis=0)"
   ]
  },
  {
   "cell_type": "code",
   "execution_count": 5,
   "metadata": {},
   "outputs": [],
   "source": [
    "df[\"article_embedding\"] = df[\"tokenized_text\"].apply(\n",
    "    get_article_embedding, model=fasttext_vectors\n",
    ")"
   ]
  },
  {
   "cell_type": "code",
   "execution_count": 6,
   "metadata": {},
   "outputs": [],
   "source": [
    "df = df.dropna()"
   ]
  },
  {
   "cell_type": "code",
   "execution_count": 7,
   "metadata": {},
   "outputs": [
    {
     "data": {
      "text/html": [
       "<div>\n",
       "<style scoped>\n",
       "    .dataframe tbody tr th:only-of-type {\n",
       "        vertical-align: middle;\n",
       "    }\n",
       "\n",
       "    .dataframe tbody tr th {\n",
       "        vertical-align: top;\n",
       "    }\n",
       "\n",
       "    .dataframe thead th {\n",
       "        text-align: right;\n",
       "    }\n",
       "</style>\n",
       "<table border=\"1\" class=\"dataframe\">\n",
       "  <thead>\n",
       "    <tr style=\"text-align: right;\">\n",
       "      <th></th>\n",
       "      <th>label</th>\n",
       "      <th>article_embedding</th>\n",
       "    </tr>\n",
       "  </thead>\n",
       "  <tbody>\n",
       "    <tr>\n",
       "      <th>0</th>\n",
       "      <td>0</td>\n",
       "      <td>[0.10095935, 0.076495625, 0.022189142, 0.08946...</td>\n",
       "    </tr>\n",
       "    <tr>\n",
       "      <th>1</th>\n",
       "      <td>1</td>\n",
       "      <td>[0.10799982, 0.07051642, 0.024416761, 0.090431...</td>\n",
       "    </tr>\n",
       "    <tr>\n",
       "      <th>2</th>\n",
       "      <td>0</td>\n",
       "      <td>[0.10385486, 0.072066605, 0.021343006, 0.08585...</td>\n",
       "    </tr>\n",
       "    <tr>\n",
       "      <th>3</th>\n",
       "      <td>0</td>\n",
       "      <td>[0.10086881, 0.07678322, 0.023888903, 0.088769...</td>\n",
       "    </tr>\n",
       "    <tr>\n",
       "      <th>4</th>\n",
       "      <td>1</td>\n",
       "      <td>[0.09223259, 0.0710651, 0.022807341, 0.0932719...</td>\n",
       "    </tr>\n",
       "    <tr>\n",
       "      <th>...</th>\n",
       "      <td>...</td>\n",
       "      <td>...</td>\n",
       "    </tr>\n",
       "    <tr>\n",
       "      <th>69293</th>\n",
       "      <td>1</td>\n",
       "      <td>[0.088141896, 0.07901621, 0.013374326, 0.09493...</td>\n",
       "    </tr>\n",
       "    <tr>\n",
       "      <th>69294</th>\n",
       "      <td>1</td>\n",
       "      <td>[0.0893523, 0.07542462, 0.02782615, 0.10500157...</td>\n",
       "    </tr>\n",
       "    <tr>\n",
       "      <th>69295</th>\n",
       "      <td>1</td>\n",
       "      <td>[0.087977156, 0.08304228, 0.027856376, 0.08149...</td>\n",
       "    </tr>\n",
       "    <tr>\n",
       "      <th>69296</th>\n",
       "      <td>0</td>\n",
       "      <td>[0.059253834, 0.08475193, 0.0045307684, 0.0752...</td>\n",
       "    </tr>\n",
       "    <tr>\n",
       "      <th>69297</th>\n",
       "      <td>0</td>\n",
       "      <td>[0.07844603, 0.076605946, 0.020295396, 0.08888...</td>\n",
       "    </tr>\n",
       "  </tbody>\n",
       "</table>\n",
       "<p>69298 rows × 2 columns</p>\n",
       "</div>"
      ],
      "text/plain": [
       "       label                                  article_embedding\n",
       "0          0  [0.10095935, 0.076495625, 0.022189142, 0.08946...\n",
       "1          1  [0.10799982, 0.07051642, 0.024416761, 0.090431...\n",
       "2          0  [0.10385486, 0.072066605, 0.021343006, 0.08585...\n",
       "3          0  [0.10086881, 0.07678322, 0.023888903, 0.088769...\n",
       "4          1  [0.09223259, 0.0710651, 0.022807341, 0.0932719...\n",
       "...      ...                                                ...\n",
       "69293      1  [0.088141896, 0.07901621, 0.013374326, 0.09493...\n",
       "69294      1  [0.0893523, 0.07542462, 0.02782615, 0.10500157...\n",
       "69295      1  [0.087977156, 0.08304228, 0.027856376, 0.08149...\n",
       "69296      0  [0.059253834, 0.08475193, 0.0045307684, 0.0752...\n",
       "69297      0  [0.07844603, 0.076605946, 0.020295396, 0.08888...\n",
       "\n",
       "[69298 rows x 2 columns]"
      ]
     },
     "execution_count": 7,
     "metadata": {},
     "output_type": "execute_result"
    }
   ],
   "source": [
    "df = df[[\"label\", \"article_embedding\"]]\n",
    "df"
   ]
  },
  {
   "cell_type": "code",
   "execution_count": 8,
   "metadata": {},
   "outputs": [],
   "source": [
    "df[\"article_embedding\"] = df[\"article_embedding\"].apply(\n",
    "    lambda x: x.tolist() if isinstance(x, np.ndarray) else x\n",
    ")"
   ]
  },
  {
   "cell_type": "code",
   "execution_count": 9,
   "metadata": {},
   "outputs": [],
   "source": [
    "df.to_csv(\n",
    "    \"embedded_datasets/FastText/FastText_Embedded_Dataset_Spacy.csv\",\n",
    "    encoding=\"utf-8\",\n",
    "    index=False,\n",
    ")"
   ]
  },
  {
   "cell_type": "markdown",
   "metadata": {},
   "source": [
    "# Generalization dataset\n"
   ]
  },
  {
   "cell_type": "code",
   "execution_count": 30,
   "metadata": {},
   "outputs": [],
   "source": [
    "df = pd.read_csv(\"Word_Tokenized_GENERALIZATION_DATASET.csv\")\n",
    "df[\"tokenized_text\"] = df[\"tokenized_text\"].apply(ast.literal_eval)"
   ]
  },
  {
   "cell_type": "code",
   "execution_count": 31,
   "metadata": {},
   "outputs": [
    {
     "name": "stderr",
     "output_type": "stream",
     "text": [
      "c:\\Users\\matej\\SKOLA\\Diplomovka\\Code\\EmbeddingModels\\.venv\\Lib\\site-packages\\numpy\\core\\fromnumeric.py:3504: RuntimeWarning: Mean of empty slice.\n",
      "  return _methods._mean(a, axis=axis, dtype=dtype,\n",
      "c:\\Users\\matej\\SKOLA\\Diplomovka\\Code\\EmbeddingModels\\.venv\\Lib\\site-packages\\numpy\\core\\_methods.py:129: RuntimeWarning: invalid value encountered in scalar divide\n",
      "  ret = ret.dtype.type(ret / rcount)\n"
     ]
    }
   ],
   "source": [
    "df[\"article_embedding\"] = df[\"tokenized_text\"].apply(\n",
    "    get_article_embedding, model=fasttext_vectors\n",
    ")\n",
    "\n",
    "df = df.dropna()"
   ]
  },
  {
   "cell_type": "code",
   "execution_count": 32,
   "metadata": {},
   "outputs": [
    {
     "data": {
      "text/html": [
       "<div>\n",
       "<style scoped>\n",
       "    .dataframe tbody tr th:only-of-type {\n",
       "        vertical-align: middle;\n",
       "    }\n",
       "\n",
       "    .dataframe tbody tr th {\n",
       "        vertical-align: top;\n",
       "    }\n",
       "\n",
       "    .dataframe thead th {\n",
       "        text-align: right;\n",
       "    }\n",
       "</style>\n",
       "<table border=\"1\" class=\"dataframe\">\n",
       "  <thead>\n",
       "    <tr style=\"text-align: right;\">\n",
       "      <th></th>\n",
       "      <th>label</th>\n",
       "      <th>article_embedding</th>\n",
       "    </tr>\n",
       "  </thead>\n",
       "  <tbody>\n",
       "    <tr>\n",
       "      <th>0</th>\n",
       "      <td>0</td>\n",
       "      <td>[0.0009952491, -0.009249775, 0.088978045, 0.01...</td>\n",
       "    </tr>\n",
       "    <tr>\n",
       "      <th>1</th>\n",
       "      <td>0</td>\n",
       "      <td>[0.006638067, -0.027202059, 0.07487161, 0.0171...</td>\n",
       "    </tr>\n",
       "    <tr>\n",
       "      <th>2</th>\n",
       "      <td>1</td>\n",
       "      <td>[0.00058326195, -0.04074411, 0.07755698, 0.006...</td>\n",
       "    </tr>\n",
       "    <tr>\n",
       "      <th>3</th>\n",
       "      <td>0</td>\n",
       "      <td>[0.0059480257, -0.036587894, 0.037072897, 0.02...</td>\n",
       "    </tr>\n",
       "    <tr>\n",
       "      <th>4</th>\n",
       "      <td>1</td>\n",
       "      <td>[-0.00839588, -0.04971924, 0.08441708, 0.01357...</td>\n",
       "    </tr>\n",
       "    <tr>\n",
       "      <th>...</th>\n",
       "      <td>...</td>\n",
       "      <td>...</td>\n",
       "    </tr>\n",
       "    <tr>\n",
       "      <th>5985</th>\n",
       "      <td>1</td>\n",
       "      <td>[-0.00972143, -0.033943724, 0.061194275, 0.017...</td>\n",
       "    </tr>\n",
       "    <tr>\n",
       "      <th>5986</th>\n",
       "      <td>0</td>\n",
       "      <td>[-0.003399276, -0.019133002, 0.07433559, 0.015...</td>\n",
       "    </tr>\n",
       "    <tr>\n",
       "      <th>5987</th>\n",
       "      <td>0</td>\n",
       "      <td>[-0.0019355846, -0.022927374, 0.08191271, 0.01...</td>\n",
       "    </tr>\n",
       "    <tr>\n",
       "      <th>5988</th>\n",
       "      <td>1</td>\n",
       "      <td>[-0.0008060219, -0.024534158, 0.06894726, 0.01...</td>\n",
       "    </tr>\n",
       "    <tr>\n",
       "      <th>5989</th>\n",
       "      <td>1</td>\n",
       "      <td>[-0.013619559, -0.027704546, 0.08253608, 0.017...</td>\n",
       "    </tr>\n",
       "  </tbody>\n",
       "</table>\n",
       "<p>5989 rows × 2 columns</p>\n",
       "</div>"
      ],
      "text/plain": [
       "      label                                  article_embedding\n",
       "0         0  [0.0009952491, -0.009249775, 0.088978045, 0.01...\n",
       "1         0  [0.006638067, -0.027202059, 0.07487161, 0.0171...\n",
       "2         1  [0.00058326195, -0.04074411, 0.07755698, 0.006...\n",
       "3         0  [0.0059480257, -0.036587894, 0.037072897, 0.02...\n",
       "4         1  [-0.00839588, -0.04971924, 0.08441708, 0.01357...\n",
       "...     ...                                                ...\n",
       "5985      1  [-0.00972143, -0.033943724, 0.061194275, 0.017...\n",
       "5986      0  [-0.003399276, -0.019133002, 0.07433559, 0.015...\n",
       "5987      0  [-0.0019355846, -0.022927374, 0.08191271, 0.01...\n",
       "5988      1  [-0.0008060219, -0.024534158, 0.06894726, 0.01...\n",
       "5989      1  [-0.013619559, -0.027704546, 0.08253608, 0.017...\n",
       "\n",
       "[5989 rows x 2 columns]"
      ]
     },
     "execution_count": 32,
     "metadata": {},
     "output_type": "execute_result"
    }
   ],
   "source": [
    "df = df[[\"label\", \"article_embedding\"]]\n",
    "df"
   ]
  },
  {
   "cell_type": "code",
   "execution_count": 33,
   "metadata": {},
   "outputs": [],
   "source": [
    "df[\"article_embedding\"] = df[\"article_embedding\"].apply(\n",
    "    lambda x: x.tolist() if isinstance(x, np.ndarray) else x\n",
    ")"
   ]
  },
  {
   "cell_type": "code",
   "execution_count": 34,
   "metadata": {},
   "outputs": [],
   "source": [
    "df.to_csv(\n",
    "    \"embedded_datasets/FastText/FastText_Embedded_Generalization_Dataset.csv\",\n",
    "    encoding=\"utf-8\",\n",
    "    index=False,\n",
    ")"
   ]
  },
  {
   "cell_type": "code",
   "execution_count": null,
   "metadata": {},
   "outputs": [],
   "source": []
  }
 ],
 "metadata": {
  "kernelspec": {
   "display_name": ".venv",
   "language": "python",
   "name": "python3"
  },
  "language_info": {
   "codemirror_mode": {
    "name": "ipython",
    "version": 3
   },
   "file_extension": ".py",
   "mimetype": "text/x-python",
   "name": "python",
   "nbconvert_exporter": "python",
   "pygments_lexer": "ipython3",
   "version": "3.12.3"
  }
 },
 "nbformat": 4,
 "nbformat_minor": 2
}

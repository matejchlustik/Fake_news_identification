{
 "cells": [
  {
   "cell_type": "code",
   "execution_count": null,
   "metadata": {},
   "outputs": [],
   "source": [
    "from gensim.models import Word2Vec\n",
    "from gensim.models import KeyedVectors\n",
    "\n",
    "pretrained_model_path = \"GoogleNews-vectors-negative300.bin.gz\"\n",
    "word_vectors = KeyedVectors.load_word2vec_format(pretrained_model_path, binary=True)"
   ]
  },
  {
   "cell_type": "code",
   "execution_count": 2,
   "metadata": {},
   "outputs": [
    {
     "data": {
      "text/plain": [
       "3000000"
      ]
     },
     "execution_count": 2,
     "metadata": {},
     "output_type": "execute_result"
    }
   ],
   "source": [
    "word_vectors.vectors.shape[0]"
   ]
  },
  {
   "cell_type": "code",
   "execution_count": 1,
   "metadata": {},
   "outputs": [],
   "source": [
    "import pandas as pd\n",
    "import ast\n",
    "import numpy as np"
   ]
  },
  {
   "cell_type": "code",
   "execution_count": 2,
   "metadata": {},
   "outputs": [],
   "source": [
    "df = pd.read_csv(\"Word_Tokenized_TRAINING_DATASET.csv\")"
   ]
  },
  {
   "cell_type": "code",
   "execution_count": 3,
   "metadata": {},
   "outputs": [],
   "source": [
    "df[\"tokenized_text\"] = df[\"tokenized_text\"].apply(ast.literal_eval)"
   ]
  },
  {
   "cell_type": "code",
   "execution_count": 11,
   "metadata": {},
   "outputs": [
    {
     "data": {
      "text/html": [
       "<div>\n",
       "<style scoped>\n",
       "    .dataframe tbody tr th:only-of-type {\n",
       "        vertical-align: middle;\n",
       "    }\n",
       "\n",
       "    .dataframe tbody tr th {\n",
       "        vertical-align: top;\n",
       "    }\n",
       "\n",
       "    .dataframe thead th {\n",
       "        text-align: right;\n",
       "    }\n",
       "</style>\n",
       "<table border=\"1\" class=\"dataframe\">\n",
       "  <thead>\n",
       "    <tr style=\"text-align: right;\">\n",
       "      <th></th>\n",
       "      <th>label</th>\n",
       "      <th>text</th>\n",
       "      <th>tokenized_text</th>\n",
       "    </tr>\n",
       "  </thead>\n",
       "  <tbody>\n",
       "    <tr>\n",
       "      <th>0</th>\n",
       "      <td>0</td>\n",
       "      <td>House Dem Aide: We Didn’t Even See Comey’s Let...</td>\n",
       "      <td>[House, Dem, Aide, :, We, Didn't, Even, See, C...</td>\n",
       "    </tr>\n",
       "    <tr>\n",
       "      <th>1</th>\n",
       "      <td>1</td>\n",
       "      <td>Ever get the feeling your life circles the rou...</td>\n",
       "      <td>[Ever, get, the, feeling, your, life, circles,...</td>\n",
       "    </tr>\n",
       "    <tr>\n",
       "      <th>2</th>\n",
       "      <td>0</td>\n",
       "      <td>Why the Truth Might Get You Fired October 29, ...</td>\n",
       "      <td>[Why, the, Truth, Might, Get, You, Fired, Octo...</td>\n",
       "    </tr>\n",
       "    <tr>\n",
       "      <th>3</th>\n",
       "      <td>0</td>\n",
       "      <td>Print \\nAn Iranian woman has been sentenced to...</td>\n",
       "      <td>[Print, \\n, An, Iranian, woman, has, been, sen...</td>\n",
       "    </tr>\n",
       "    <tr>\n",
       "      <th>4</th>\n",
       "      <td>1</td>\n",
       "      <td>In these trying times, Jackie Mason is the Voi...</td>\n",
       "      <td>[In, these, trying, times, ,, Jackie, Mason, i...</td>\n",
       "    </tr>\n",
       "    <tr>\n",
       "      <th>...</th>\n",
       "      <td>...</td>\n",
       "      <td>...</td>\n",
       "      <td>...</td>\n",
       "    </tr>\n",
       "    <tr>\n",
       "      <th>69293</th>\n",
       "      <td>1</td>\n",
       "      <td>There are a larger number of shark attacks in ...</td>\n",
       "      <td>[There, are, a, larger, number, of, shark, att...</td>\n",
       "    </tr>\n",
       "    <tr>\n",
       "      <th>69294</th>\n",
       "      <td>1</td>\n",
       "      <td>Democrats have now become the party of the [At...</td>\n",
       "      <td>[Democrats, have, now, become, the, party, of,...</td>\n",
       "    </tr>\n",
       "    <tr>\n",
       "      <th>69295</th>\n",
       "      <td>1</td>\n",
       "      <td>Says an alternative to Social Security that op...</td>\n",
       "      <td>[Says, an, alternative, to, Social, Security, ...</td>\n",
       "    </tr>\n",
       "    <tr>\n",
       "      <th>69296</th>\n",
       "      <td>0</td>\n",
       "      <td>On lifting the U.S. Cuban embargo and allowing...</td>\n",
       "      <td>[On, lifting, the, U.S., Cuban, embargo, and, ...</td>\n",
       "    </tr>\n",
       "    <tr>\n",
       "      <th>69297</th>\n",
       "      <td>0</td>\n",
       "      <td>The Department of Veterans Affairs has a manua...</td>\n",
       "      <td>[The, Department, of, Veterans, Affairs, has, ...</td>\n",
       "    </tr>\n",
       "  </tbody>\n",
       "</table>\n",
       "<p>69298 rows × 3 columns</p>\n",
       "</div>"
      ],
      "text/plain": [
       "       label                                               text  \\\n",
       "0          0  House Dem Aide: We Didn’t Even See Comey’s Let...   \n",
       "1          1  Ever get the feeling your life circles the rou...   \n",
       "2          0  Why the Truth Might Get You Fired October 29, ...   \n",
       "3          0  Print \\nAn Iranian woman has been sentenced to...   \n",
       "4          1  In these trying times, Jackie Mason is the Voi...   \n",
       "...      ...                                                ...   \n",
       "69293      1  There are a larger number of shark attacks in ...   \n",
       "69294      1  Democrats have now become the party of the [At...   \n",
       "69295      1  Says an alternative to Social Security that op...   \n",
       "69296      0  On lifting the U.S. Cuban embargo and allowing...   \n",
       "69297      0  The Department of Veterans Affairs has a manua...   \n",
       "\n",
       "                                          tokenized_text  \n",
       "0      [House, Dem, Aide, :, We, Didn't, Even, See, C...  \n",
       "1      [Ever, get, the, feeling, your, life, circles,...  \n",
       "2      [Why, the, Truth, Might, Get, You, Fired, Octo...  \n",
       "3      [Print, \\n, An, Iranian, woman, has, been, sen...  \n",
       "4      [In, these, trying, times, ,, Jackie, Mason, i...  \n",
       "...                                                  ...  \n",
       "69293  [There, are, a, larger, number, of, shark, att...  \n",
       "69294  [Democrats, have, now, become, the, party, of,...  \n",
       "69295  [Says, an, alternative, to, Social, Security, ...  \n",
       "69296  [On, lifting, the, U.S., Cuban, embargo, and, ...  \n",
       "69297  [The, Department, of, Veterans, Affairs, has, ...  \n",
       "\n",
       "[69298 rows x 3 columns]"
      ]
     },
     "execution_count": 11,
     "metadata": {},
     "output_type": "execute_result"
    }
   ],
   "source": [
    "df"
   ]
  },
  {
   "cell_type": "code",
   "execution_count": 9,
   "metadata": {},
   "outputs": [
    {
     "name": "stdout",
     "output_type": "stream",
     "text": [
      "[['A', 'Democratic', 'bid', 'to', 'transfer', 'the', 'highly', 'coveted', 'political', 'power', 'of', 'drawing', 'legislative', 'boundaries', 'from', 'state', 'lawmakers', 'to', 'the', 'Democratically', 'controlled', 'Illinois', 'Supreme', 'Court', 'overwhelmingly', 'passed', 'the', 'state', 'House', 'of', 'Representatives', 'on', 'Tuesday', '.'], ['The', 'proposed', 'amendment', 'to', \"Illinois'\", 'constitution', 'sailed', 'through', 'the', 'House', 'on', 'a', '105-7', 'vote', 'and', 'now', 'must', 'be', 'approved', 'by', 'a', 'three-fifths', 'majority', 'in', 'the', 'state', 'Senate', 'by', 'Friday', 'in', 'order', 'to', 'be', 'placed', 'on', 'the', 'Nov.', '8', 'general', 'election', 'ballot', '.'], ['Since', 'Democrats', 'controlled', 'the', 'state', 'legislature', 'and', 'the', \"governor's\", 'office', 'after', 'the', '2010', 'census', ',', 'they', 'won', 'the', 'once-a-decade', 'right', 'to', 'draw', 'new', 'legislative', 'district', 'boundaries', '.'], ['The', 'process', 'enabled', 'the', 'party', 'to', 'build', 'super-majorities', 'in', 'both', 'the', 'Senate', 'and', 'House', '.'], ['The', 'power', 'we', 'presently', 'have', 'is', 'only', 'to', 'protect', 'incumbents', ',', 'said', 'Representative', 'Jack', 'Franks', ',', 'a', 'Democrat', 'from', \"Chicago's\", 'far', 'northwest', 'suburbs', 'who', 'sponsored', 'the', 'amendment', '.'], ['Republican', 'Governor', 'Bruce', 'Rauner', 'campaigned', 'to', 'take', 'away', 'legislative', 'redistricting', 'responsibilities', 'from', 'the', 'General', 'Assembly', 'but', 'instead', 'backs', 'a', 'different', 'proposal', '.'], ['Under', \"Franks'\", 'plan', ',', 'the', 'Illinois', 'Supreme', 'Court', 'would', 'appoint', 'an', 'eight-member', 'redistricting', 'commission', 'to', 'oversee', 'the', 'drawing', 'of', '118', 'House', 'districts', 'and', '59', 'state', 'Senate', 'districts', 'beginning', 'with', 'the', '2022', 'elections', '.'], ['Critics', 'disliked', 'how', \"Franks'\", 'amendment', 'mutes', 'the', 'General', \"Assembly's\", 'voice', 'in', 'the', 'process', '.'], [\"What's\", 'dangerous', 'about', 'what', \"we're\", 'doing', '(', 'is', 'that', ')', 'we', 'as', 'a', 'legislative', 'branch', 'are', 'ceding', 'our', 'authority', 'to', 'a', 'co-equal', 'branch', 'of', 'government', ',', 'said', 'Representative', 'Christian', 'Mitchell', ',', 'a', 'Chicago', 'Democrat', 'who', 'voted', 'against', 'the', 'amendment', '.'], ['If', 'the', 'plan', 'clears', 'the', 'Senate', ',', 'the', 'result', 'could', 'be', 'two', 'competing', 'redistricting', 'proposals', 'on', 'the', 'fall', 'ballot', ',', 'a', 'scenario', 'Rauner', 'has', 'warned', 'would', 'confuse', 'voters', '.'], ['The', 'initiative', 'Rauner', 'backs', 'is', 'being', 'pushed', 'by', 'a', 'bipartisan', 'coalition', 'that', 'includes', 'Republican', 'former', 'Governor', 'Jim', 'Edgar', 'and', 'former', 'White', 'House', 'Chief', 'of', 'Staff', 'William', 'Daley', ',', 'brother', 'and', 'son', 'of', 'two', 'of', \"Chicago's\", 'longest-serving', 'Democratic', 'mayors', '.'], ['That', 'group', ',', 'known', 'as', 'Independent', 'Maps', ',', 'proposes', 'a', 'system', 'where', 'a', 'bi-partisan', ',', '11-member', 'commission', 'would', 'be', 'stocked', 'through', 'a', 'random', 'and', 'public', 'screening', 'process', 'overseen', 'by', 'the', 'state', 'auditor', 'general', 'from', 'a', 'pool', 'of', '100', 'finalists', '.']]\n"
     ]
    }
   ],
   "source": [
    "print(df.iloc[45000].tokenized_text)"
   ]
  },
  {
   "cell_type": "code",
   "execution_count": 5,
   "metadata": {},
   "outputs": [],
   "source": [
    "df2 = pd.read_csv(\"Word_Tokenized_GENERALIZATION_DATASET.csv\")\n",
    "df2[\"tokenized_text\"] = df2[\"tokenized_text\"].apply(ast.literal_eval)"
   ]
  },
  {
   "cell_type": "code",
   "execution_count": 12,
   "metadata": {},
   "outputs": [],
   "source": [
    "def get_article_embedding(tokenized_text, model):\n",
    "    word_embeddings = []\n",
    "    for sentence in tokenized_text:\n",
    "        for word in sentence:\n",
    "            if word in model.key_to_index:\n",
    "                word_embeddings.append(model[word])\n",
    "    return np.mean(word_embeddings, axis=0)"
   ]
  },
  {
   "cell_type": "code",
   "execution_count": null,
   "metadata": {},
   "outputs": [],
   "source": [
    "df[\"article_embedding\"] = df[\"tokenized_text\"].apply(\n",
    "    get_article_embedding, model=word_vectors\n",
    ")"
   ]
  },
  {
   "cell_type": "code",
   "execution_count": 14,
   "metadata": {},
   "outputs": [],
   "source": [
    "df = df.dropna()"
   ]
  },
  {
   "cell_type": "code",
   "execution_count": 15,
   "metadata": {},
   "outputs": [
    {
     "data": {
      "text/html": [
       "<div>\n",
       "<style scoped>\n",
       "    .dataframe tbody tr th:only-of-type {\n",
       "        vertical-align: middle;\n",
       "    }\n",
       "\n",
       "    .dataframe tbody tr th {\n",
       "        vertical-align: top;\n",
       "    }\n",
       "\n",
       "    .dataframe thead th {\n",
       "        text-align: right;\n",
       "    }\n",
       "</style>\n",
       "<table border=\"1\" class=\"dataframe\">\n",
       "  <thead>\n",
       "    <tr style=\"text-align: right;\">\n",
       "      <th></th>\n",
       "      <th>label</th>\n",
       "      <th>text</th>\n",
       "      <th>tokenized_text</th>\n",
       "      <th>article_embedding</th>\n",
       "    </tr>\n",
       "  </thead>\n",
       "  <tbody>\n",
       "    <tr>\n",
       "      <th>0</th>\n",
       "      <td>0</td>\n",
       "      <td>House Dem Aide: We Didn’t Even See Comey’s Let...</td>\n",
       "      <td>[House, Dem, Aide, :, We, Didn't, Even, See, C...</td>\n",
       "      <td>[-0.17742623, 0.115407184, -0.010952717, 0.134...</td>\n",
       "    </tr>\n",
       "    <tr>\n",
       "      <th>1</th>\n",
       "      <td>1</td>\n",
       "      <td>Ever get the feeling your life circles the rou...</td>\n",
       "      <td>[Ever, get, the, feeling, your, life, circles,...</td>\n",
       "      <td>[-0.17619246, 0.121510014, -0.012110859, 0.135...</td>\n",
       "    </tr>\n",
       "    <tr>\n",
       "      <th>2</th>\n",
       "      <td>0</td>\n",
       "      <td>Why the Truth Might Get You Fired October 29, ...</td>\n",
       "      <td>[Why, the, Truth, Might, Get, You, Fired, Octo...</td>\n",
       "      <td>[-0.1759011, 0.119882174, -0.011061286, 0.1374...</td>\n",
       "    </tr>\n",
       "    <tr>\n",
       "      <th>3</th>\n",
       "      <td>0</td>\n",
       "      <td>Print \\nAn Iranian woman has been sentenced to...</td>\n",
       "      <td>[Print, \\n, An, Iranian, woman, has, been, sen...</td>\n",
       "      <td>[-0.18087599, 0.1224538, -0.018022515, 0.13664...</td>\n",
       "    </tr>\n",
       "    <tr>\n",
       "      <th>4</th>\n",
       "      <td>1</td>\n",
       "      <td>In these trying times, Jackie Mason is the Voi...</td>\n",
       "      <td>[In, these, trying, times, ,, Jackie, Mason, i...</td>\n",
       "      <td>[-0.17226274, 0.11907746, -0.0053257192, 0.132...</td>\n",
       "    </tr>\n",
       "    <tr>\n",
       "      <th>...</th>\n",
       "      <td>...</td>\n",
       "      <td>...</td>\n",
       "      <td>...</td>\n",
       "      <td>...</td>\n",
       "    </tr>\n",
       "    <tr>\n",
       "      <th>69293</th>\n",
       "      <td>1</td>\n",
       "      <td>There are a larger number of shark attacks in ...</td>\n",
       "      <td>[There, are, a, larger, number, of, shark, att...</td>\n",
       "      <td>[-0.18627438, 0.13253784, 0.0063319053, 0.1300...</td>\n",
       "    </tr>\n",
       "    <tr>\n",
       "      <th>69294</th>\n",
       "      <td>1</td>\n",
       "      <td>Democrats have now become the party of the [At...</td>\n",
       "      <td>[Democrats, have, now, become, the, party, of,...</td>\n",
       "      <td>[-0.17236213, 0.13536446, -0.025581792, 0.1347...</td>\n",
       "    </tr>\n",
       "    <tr>\n",
       "      <th>69295</th>\n",
       "      <td>1</td>\n",
       "      <td>Says an alternative to Social Security that op...</td>\n",
       "      <td>[Says, an, alternative, to, Social, Security, ...</td>\n",
       "      <td>[-0.17578314, 0.11925986, -0.03216127, 0.12825...</td>\n",
       "    </tr>\n",
       "    <tr>\n",
       "      <th>69296</th>\n",
       "      <td>0</td>\n",
       "      <td>On lifting the U.S. Cuban embargo and allowing...</td>\n",
       "      <td>[On, lifting, the, U.S., Cuban, embargo, and, ...</td>\n",
       "      <td>[-0.1741844, 0.0939984, 0.013089912, 0.1204975...</td>\n",
       "    </tr>\n",
       "    <tr>\n",
       "      <th>69297</th>\n",
       "      <td>0</td>\n",
       "      <td>The Department of Veterans Affairs has a manua...</td>\n",
       "      <td>[The, Department, of, Veterans, Affairs, has, ...</td>\n",
       "      <td>[-0.17792742, 0.11369222, 0.00842466, 0.118144...</td>\n",
       "    </tr>\n",
       "  </tbody>\n",
       "</table>\n",
       "<p>69298 rows × 4 columns</p>\n",
       "</div>"
      ],
      "text/plain": [
       "       label                                               text  \\\n",
       "0          0  House Dem Aide: We Didn’t Even See Comey’s Let...   \n",
       "1          1  Ever get the feeling your life circles the rou...   \n",
       "2          0  Why the Truth Might Get You Fired October 29, ...   \n",
       "3          0  Print \\nAn Iranian woman has been sentenced to...   \n",
       "4          1  In these trying times, Jackie Mason is the Voi...   \n",
       "...      ...                                                ...   \n",
       "69293      1  There are a larger number of shark attacks in ...   \n",
       "69294      1  Democrats have now become the party of the [At...   \n",
       "69295      1  Says an alternative to Social Security that op...   \n",
       "69296      0  On lifting the U.S. Cuban embargo and allowing...   \n",
       "69297      0  The Department of Veterans Affairs has a manua...   \n",
       "\n",
       "                                          tokenized_text  \\\n",
       "0      [House, Dem, Aide, :, We, Didn't, Even, See, C...   \n",
       "1      [Ever, get, the, feeling, your, life, circles,...   \n",
       "2      [Why, the, Truth, Might, Get, You, Fired, Octo...   \n",
       "3      [Print, \\n, An, Iranian, woman, has, been, sen...   \n",
       "4      [In, these, trying, times, ,, Jackie, Mason, i...   \n",
       "...                                                  ...   \n",
       "69293  [There, are, a, larger, number, of, shark, att...   \n",
       "69294  [Democrats, have, now, become, the, party, of,...   \n",
       "69295  [Says, an, alternative, to, Social, Security, ...   \n",
       "69296  [On, lifting, the, U.S., Cuban, embargo, and, ...   \n",
       "69297  [The, Department, of, Veterans, Affairs, has, ...   \n",
       "\n",
       "                                       article_embedding  \n",
       "0      [-0.17742623, 0.115407184, -0.010952717, 0.134...  \n",
       "1      [-0.17619246, 0.121510014, -0.012110859, 0.135...  \n",
       "2      [-0.1759011, 0.119882174, -0.011061286, 0.1374...  \n",
       "3      [-0.18087599, 0.1224538, -0.018022515, 0.13664...  \n",
       "4      [-0.17226274, 0.11907746, -0.0053257192, 0.132...  \n",
       "...                                                  ...  \n",
       "69293  [-0.18627438, 0.13253784, 0.0063319053, 0.1300...  \n",
       "69294  [-0.17236213, 0.13536446, -0.025581792, 0.1347...  \n",
       "69295  [-0.17578314, 0.11925986, -0.03216127, 0.12825...  \n",
       "69296  [-0.1741844, 0.0939984, 0.013089912, 0.1204975...  \n",
       "69297  [-0.17792742, 0.11369222, 0.00842466, 0.118144...  \n",
       "\n",
       "[69298 rows x 4 columns]"
      ]
     },
     "execution_count": 15,
     "metadata": {},
     "output_type": "execute_result"
    }
   ],
   "source": [
    "df"
   ]
  },
  {
   "cell_type": "code",
   "execution_count": 16,
   "metadata": {},
   "outputs": [],
   "source": [
    "df[\"article_embedding\"] = df[\"article_embedding\"].apply(\n",
    "    lambda x: x.tolist() if isinstance(x, np.ndarray) else x\n",
    ")"
   ]
  },
  {
   "cell_type": "code",
   "execution_count": 17,
   "metadata": {},
   "outputs": [
    {
     "data": {
      "text/html": [
       "<div>\n",
       "<style scoped>\n",
       "    .dataframe tbody tr th:only-of-type {\n",
       "        vertical-align: middle;\n",
       "    }\n",
       "\n",
       "    .dataframe tbody tr th {\n",
       "        vertical-align: top;\n",
       "    }\n",
       "\n",
       "    .dataframe thead th {\n",
       "        text-align: right;\n",
       "    }\n",
       "</style>\n",
       "<table border=\"1\" class=\"dataframe\">\n",
       "  <thead>\n",
       "    <tr style=\"text-align: right;\">\n",
       "      <th></th>\n",
       "      <th>label</th>\n",
       "      <th>article_embedding</th>\n",
       "    </tr>\n",
       "  </thead>\n",
       "  <tbody>\n",
       "    <tr>\n",
       "      <th>0</th>\n",
       "      <td>0</td>\n",
       "      <td>[-0.17742623388767242, 0.11540718376636505, -0...</td>\n",
       "    </tr>\n",
       "    <tr>\n",
       "      <th>1</th>\n",
       "      <td>1</td>\n",
       "      <td>[-0.17619246244430542, 0.12151001393795013, -0...</td>\n",
       "    </tr>\n",
       "    <tr>\n",
       "      <th>2</th>\n",
       "      <td>0</td>\n",
       "      <td>[-0.17590110003948212, 0.11988217383623123, -0...</td>\n",
       "    </tr>\n",
       "    <tr>\n",
       "      <th>3</th>\n",
       "      <td>0</td>\n",
       "      <td>[-0.1808759868144989, 0.12245380133390427, -0....</td>\n",
       "    </tr>\n",
       "    <tr>\n",
       "      <th>4</th>\n",
       "      <td>1</td>\n",
       "      <td>[-0.1722627431154251, 0.11907745897769928, -0....</td>\n",
       "    </tr>\n",
       "    <tr>\n",
       "      <th>...</th>\n",
       "      <td>...</td>\n",
       "      <td>...</td>\n",
       "    </tr>\n",
       "    <tr>\n",
       "      <th>69293</th>\n",
       "      <td>1</td>\n",
       "      <td>[-0.18627437949180603, 0.132537841796875, 0.00...</td>\n",
       "    </tr>\n",
       "    <tr>\n",
       "      <th>69294</th>\n",
       "      <td>1</td>\n",
       "      <td>[-0.17236213386058807, 0.13536445796489716, -0...</td>\n",
       "    </tr>\n",
       "    <tr>\n",
       "      <th>69295</th>\n",
       "      <td>1</td>\n",
       "      <td>[-0.17578314244747162, 0.11925985664129257, -0...</td>\n",
       "    </tr>\n",
       "    <tr>\n",
       "      <th>69296</th>\n",
       "      <td>0</td>\n",
       "      <td>[-0.1741843968629837, 0.09399840235710144, 0.0...</td>\n",
       "    </tr>\n",
       "    <tr>\n",
       "      <th>69297</th>\n",
       "      <td>0</td>\n",
       "      <td>[-0.1779274195432663, 0.11369221657514572, 0.0...</td>\n",
       "    </tr>\n",
       "  </tbody>\n",
       "</table>\n",
       "<p>69298 rows × 2 columns</p>\n",
       "</div>"
      ],
      "text/plain": [
       "       label                                  article_embedding\n",
       "0          0  [-0.17742623388767242, 0.11540718376636505, -0...\n",
       "1          1  [-0.17619246244430542, 0.12151001393795013, -0...\n",
       "2          0  [-0.17590110003948212, 0.11988217383623123, -0...\n",
       "3          0  [-0.1808759868144989, 0.12245380133390427, -0....\n",
       "4          1  [-0.1722627431154251, 0.11907745897769928, -0....\n",
       "...      ...                                                ...\n",
       "69293      1  [-0.18627437949180603, 0.132537841796875, 0.00...\n",
       "69294      1  [-0.17236213386058807, 0.13536445796489716, -0...\n",
       "69295      1  [-0.17578314244747162, 0.11925985664129257, -0...\n",
       "69296      0  [-0.1741843968629837, 0.09399840235710144, 0.0...\n",
       "69297      0  [-0.1779274195432663, 0.11369221657514572, 0.0...\n",
       "\n",
       "[69298 rows x 2 columns]"
      ]
     },
     "execution_count": 17,
     "metadata": {},
     "output_type": "execute_result"
    }
   ],
   "source": [
    "df = df[[\"label\", \"article_embedding\"]]\n",
    "df"
   ]
  },
  {
   "cell_type": "code",
   "execution_count": 18,
   "metadata": {},
   "outputs": [],
   "source": [
    "df.to_csv(\n",
    "    \"embedded_datasets/Word2Vec/Word2Vec_Embedded_Dataset_Spacy.csv\",\n",
    "    encoding=\"utf-8\",\n",
    "    index=False,\n",
    ")"
   ]
  },
  {
   "cell_type": "markdown",
   "metadata": {},
   "source": [
    "# Generalization dataset\n"
   ]
  },
  {
   "cell_type": "code",
   "execution_count": 12,
   "metadata": {},
   "outputs": [],
   "source": [
    "df = pd.read_csv(\"Word_Tokenized_GENERALIZATION_DATASET.csv\")\n",
    "df[\"tokenized_text\"] = df[\"tokenized_text\"].apply(ast.literal_eval)"
   ]
  },
  {
   "cell_type": "code",
   "execution_count": 13,
   "metadata": {},
   "outputs": [
    {
     "name": "stderr",
     "output_type": "stream",
     "text": [
      "c:\\Users\\matej\\SKOLA\\Diplomovka\\Code\\EmbeddingModels\\.venv\\Lib\\site-packages\\numpy\\core\\fromnumeric.py:3504: RuntimeWarning: Mean of empty slice.\n",
      "  return _methods._mean(a, axis=axis, dtype=dtype,\n",
      "c:\\Users\\matej\\SKOLA\\Diplomovka\\Code\\EmbeddingModels\\.venv\\Lib\\site-packages\\numpy\\core\\_methods.py:129: RuntimeWarning: invalid value encountered in scalar divide\n",
      "  ret = ret.dtype.type(ret / rcount)\n"
     ]
    }
   ],
   "source": [
    "df[\"article_embedding\"] = df[\"tokenized_text\"].apply(\n",
    "    get_article_embedding, model=word_vectors\n",
    ")"
   ]
  },
  {
   "cell_type": "code",
   "execution_count": 14,
   "metadata": {},
   "outputs": [],
   "source": [
    "df = df.dropna()"
   ]
  },
  {
   "cell_type": "code",
   "execution_count": 15,
   "metadata": {},
   "outputs": [],
   "source": [
    "df[\"article_embedding\"] = df[\"article_embedding\"].apply(\n",
    "    lambda x: x.tolist() if isinstance(x, np.ndarray) else x\n",
    ")"
   ]
  },
  {
   "cell_type": "code",
   "execution_count": 17,
   "metadata": {},
   "outputs": [
    {
     "data": {
      "text/html": [
       "<div>\n",
       "<style scoped>\n",
       "    .dataframe tbody tr th:only-of-type {\n",
       "        vertical-align: middle;\n",
       "    }\n",
       "\n",
       "    .dataframe tbody tr th {\n",
       "        vertical-align: top;\n",
       "    }\n",
       "\n",
       "    .dataframe thead th {\n",
       "        text-align: right;\n",
       "    }\n",
       "</style>\n",
       "<table border=\"1\" class=\"dataframe\">\n",
       "  <thead>\n",
       "    <tr style=\"text-align: right;\">\n",
       "      <th></th>\n",
       "      <th>label</th>\n",
       "      <th>article_embedding</th>\n",
       "    </tr>\n",
       "  </thead>\n",
       "  <tbody>\n",
       "    <tr>\n",
       "      <th>0</th>\n",
       "      <td>0</td>\n",
       "      <td>[0.04956003278493881, 0.03957546502351761, 0.0...</td>\n",
       "    </tr>\n",
       "    <tr>\n",
       "      <th>1</th>\n",
       "      <td>0</td>\n",
       "      <td>[0.05896731838583946, 0.042814381420612335, 0....</td>\n",
       "    </tr>\n",
       "    <tr>\n",
       "      <th>2</th>\n",
       "      <td>1</td>\n",
       "      <td>[0.0299783106893301, 0.05943034961819649, 0.06...</td>\n",
       "    </tr>\n",
       "    <tr>\n",
       "      <th>3</th>\n",
       "      <td>0</td>\n",
       "      <td>[0.05501393973827362, 0.025511030107736588, 0....</td>\n",
       "    </tr>\n",
       "    <tr>\n",
       "      <th>4</th>\n",
       "      <td>1</td>\n",
       "      <td>[0.04850117489695549, 0.05607370659708977, 0.0...</td>\n",
       "    </tr>\n",
       "    <tr>\n",
       "      <th>...</th>\n",
       "      <td>...</td>\n",
       "      <td>...</td>\n",
       "    </tr>\n",
       "    <tr>\n",
       "      <th>5985</th>\n",
       "      <td>1</td>\n",
       "      <td>[0.008780215866863728, 0.029638497158885002, 0...</td>\n",
       "    </tr>\n",
       "    <tr>\n",
       "      <th>5986</th>\n",
       "      <td>0</td>\n",
       "      <td>[0.023696385324001312, 0.042197830975055695, 0...</td>\n",
       "    </tr>\n",
       "    <tr>\n",
       "      <th>5987</th>\n",
       "      <td>0</td>\n",
       "      <td>[0.03499678894877434, 0.04463842883706093, 0.0...</td>\n",
       "    </tr>\n",
       "    <tr>\n",
       "      <th>5988</th>\n",
       "      <td>1</td>\n",
       "      <td>[0.02768431045114994, 0.07343021780252457, 0.0...</td>\n",
       "    </tr>\n",
       "    <tr>\n",
       "      <th>5989</th>\n",
       "      <td>1</td>\n",
       "      <td>[0.05949508398771286, 0.05742717161774635, 0.0...</td>\n",
       "    </tr>\n",
       "  </tbody>\n",
       "</table>\n",
       "<p>5989 rows × 2 columns</p>\n",
       "</div>"
      ],
      "text/plain": [
       "      label                                  article_embedding\n",
       "0         0  [0.04956003278493881, 0.03957546502351761, 0.0...\n",
       "1         0  [0.05896731838583946, 0.042814381420612335, 0....\n",
       "2         1  [0.0299783106893301, 0.05943034961819649, 0.06...\n",
       "3         0  [0.05501393973827362, 0.025511030107736588, 0....\n",
       "4         1  [0.04850117489695549, 0.05607370659708977, 0.0...\n",
       "...     ...                                                ...\n",
       "5985      1  [0.008780215866863728, 0.029638497158885002, 0...\n",
       "5986      0  [0.023696385324001312, 0.042197830975055695, 0...\n",
       "5987      0  [0.03499678894877434, 0.04463842883706093, 0.0...\n",
       "5988      1  [0.02768431045114994, 0.07343021780252457, 0.0...\n",
       "5989      1  [0.05949508398771286, 0.05742717161774635, 0.0...\n",
       "\n",
       "[5989 rows x 2 columns]"
      ]
     },
     "execution_count": 17,
     "metadata": {},
     "output_type": "execute_result"
    }
   ],
   "source": [
    "df = df[[\"label\", \"article_embedding\"]]\n",
    "df"
   ]
  },
  {
   "cell_type": "code",
   "execution_count": 18,
   "metadata": {},
   "outputs": [],
   "source": [
    "df.to_csv(\n",
    "    \"embedded_datasets/Word2Vec/Word2Vec_Embedded_Generalization_Dataset.csv\",\n",
    "    encoding=\"utf-8\",\n",
    "    index=False,\n",
    ")"
   ]
  }
 ],
 "metadata": {
  "kernelspec": {
   "display_name": ".venv",
   "language": "python",
   "name": "python3"
  },
  "language_info": {
   "codemirror_mode": {
    "name": "ipython",
    "version": 3
   },
   "file_extension": ".py",
   "mimetype": "text/x-python",
   "name": "python",
   "nbconvert_exporter": "python",
   "pygments_lexer": "ipython3",
   "version": "3.12.3"
  }
 },
 "nbformat": 4,
 "nbformat_minor": 2
}
